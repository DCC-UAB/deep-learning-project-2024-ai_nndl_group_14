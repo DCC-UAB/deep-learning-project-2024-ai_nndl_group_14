{
  "nbformat": 4,
  "nbformat_minor": 0,
  "metadata": {
    "colab": {
      "provenance": [],
      "gpuType": "T4",
      "collapsed_sections": [
        "CeqZhk77pg_Z",
        "cvhsEf1uvJsz",
        "KT0QHgi_yVjU",
        "-jHu-H87bmnt"
      ]
    },
    "kernelspec": {
      "name": "python3",
      "display_name": "Python 3"
    },
    "language_info": {
      "name": "python"
    },
    "accelerator": "GPU"
  },
  "cells": [
    {
      "cell_type": "markdown",
      "source": [
        "# Handwritten Recognition"
      ],
      "metadata": {
        "id": "jVidNySxvEzP"
      }
    },
    {
      "cell_type": "markdown",
      "source": [
        "## Importations"
      ],
      "metadata": {
        "id": "CeqZhk77pg_Z"
      }
    },
    {
      "cell_type": "code",
      "source": [
        "import os\n",
        "import cv2\n",
        "import random\n",
        "import numpy as np\n",
        "import pandas as pd\n",
        "import matplotlib.pyplot as plt\n",
        "\n",
        "import torch\n",
        "from IPython import display\n",
        "import torch.nn as nn\n",
        "import torch.nn.functional as F\n",
        "import torch.optim as optim\n",
        "from torchvision import datasets, transforms\n",
        "from torch.utils.data import Dataset, DataLoader\n",
        "from torchvision.utils import make_grid"
      ],
      "metadata": {
        "id": "CajD1HZLwYOo"
      },
      "execution_count": 1,
      "outputs": []
    },
    {
      "cell_type": "code",
      "source": [
        "#If this cell fails you need to change the runtime of your colab notebook to GPU\n",
        "# Go to Runtime -> Change Runtime Type and select GPU\n",
        "assert torch.cuda.is_available(), \"GPU is not enabled\"\n",
        "\n",
        "#  use gpu if available\n",
        "device = torch.device(\"cuda\" if torch.cuda.is_available() else \"cpu\")\n",
        "print(\"Using device:\", device)"
      ],
      "metadata": {
        "colab": {
          "base_uri": "https://localhost:8080/"
        },
        "id": "sF7T8KjwisGU",
        "outputId": "873c8dd6-0250-430e-a2b1-2dc9b6755e9d"
      },
      "execution_count": 2,
      "outputs": [
        {
          "output_type": "stream",
          "name": "stdout",
          "text": [
            "Using device: cuda\n"
          ]
        }
      ]
    },
    {
      "cell_type": "markdown",
      "source": [
        "## Data\n",
        "\n",
        "The data can be decomposed into different parts : the training, validation and test sets.\n",
        "\n",
        "For each set, we have a global .csv file in which we have the true label of each picture. Here, each picture is given by its name. To obtain the real image linked to this name, we have to use the train, validation or test directories, in which each image is stored."
      ],
      "metadata": {
        "id": "cvhsEf1uvJsz"
      }
    },
    {
      "cell_type": "markdown",
      "source": [
        "### Importation of the data"
      ],
      "metadata": {
        "id": "zwcV9GiL0uMf"
      }
    },
    {
      "cell_type": "code",
      "execution_count": 3,
      "metadata": {
        "id": "ZOqipGbSvBqw",
        "colab": {
          "base_uri": "https://localhost:8080/"
        },
        "outputId": "40f3bf2b-c289-4239-f60c-68c7867d16b8"
      },
      "outputs": [
        {
          "output_type": "stream",
          "name": "stdout",
          "text": [
            "Mounted at /content/drive\n"
          ]
        }
      ],
      "source": [
        "from google.colab import drive\n",
        "\n",
        "drive.mount('/content/drive')\n",
        "\n",
        "#path = '/content/drive/My Drive/INSA/4MA/UAB/Neural Networks and Deep Learning/Deep Learning Project/'\n",
        "#path = '/content/drive/My Drive/Projet NN/'\n",
        "#path = '/content/drive/My Drive/4MA/UAB/Neural Networks/Projet/'\n",
        "path = '/content/drive/My Drive/Deep Learning Project/'\n",
        "train = pd.read_csv(path+'written_name_train_v2.csv')\n",
        "valid = pd.read_csv(path+'written_name_validation_v2.csv')\n",
        "test = pd.read_csv(path+'written_name_test_v2.csv')"
      ]
    },
    {
      "cell_type": "code",
      "source": [
        "print(\"TRAIN\",train.head(),\"\\n\")\n",
        "print(\"VALID\",valid.head(),\"\\n\")\n",
        "print(\"TEST\",test.head(),\"\\n\")"
      ],
      "metadata": {
        "colab": {
          "base_uri": "https://localhost:8080/"
        },
        "id": "c9p6Z5kVyIfe",
        "outputId": "1262bfb0-23b9-49f4-9bfc-b69cf117e11a"
      },
      "execution_count": 4,
      "outputs": [
        {
          "output_type": "stream",
          "name": "stdout",
          "text": [
            "TRAIN           FILENAME   IDENTITY\n",
            "0  TRAIN_00001.jpg  BALTHAZAR\n",
            "1  TRAIN_00002.jpg      SIMON\n",
            "2  TRAIN_00003.jpg      BENES\n",
            "3  TRAIN_00004.jpg    LA LOVE\n",
            "4  TRAIN_00005.jpg     DAPHNE \n",
            "\n",
            "VALID               FILENAME    IDENTITY\n",
            "0  VALIDATION_0001.jpg       BILEL\n",
            "1  VALIDATION_0002.jpg  LAUMIONIER\n",
            "2  VALIDATION_0003.jpg         LEA\n",
            "3  VALIDATION_0004.jpg   JEAN-ROCH\n",
            "4  VALIDATION_0005.jpg        RUPP \n",
            "\n",
            "TEST               FILENAME   IDENTITY\n",
            "0  new_image_trial.jpg       PERE\n",
            "1      TRAIN_00001.jpg  BALTHAZAR\n",
            "2      TRAIN_00002.jpg      SIMON\n",
            "3      TRAIN_00003.jpg      BENES\n",
            "4      TRAIN_00004.jpg    LA LOVE \n",
            "\n"
          ]
        }
      ]
    },
    {
      "cell_type": "code",
      "source": [
        "import zipfile\n",
        "\n",
        "def extract_zipfiles(path_zip, destination):\n",
        "    with zipfile.ZipFile(path_zip, 'r') as zip_ref:\n",
        "      zip_ref.extractall(destination)\n",
        "\n",
        "    folder_images = os.listdir(destination)"
      ],
      "metadata": {
        "id": "GIyUX3lwBNx7"
      },
      "execution_count": 5,
      "outputs": []
    },
    {
      "cell_type": "code",
      "source": [
        "extract_zipfiles(path+\"validation_v2.zip\", '/IMAGES')\n",
        "extract_zipfiles(path+\"train_v2.zip\", '/IMAGES')\n",
        "extract_zipfiles(path+\"test_v2.zip\", '/IMAGES')"
      ],
      "metadata": {
        "id": "7NAHFwML_4aq"
      },
      "execution_count": 6,
      "outputs": []
    },
    {
      "cell_type": "code",
      "source": [
        "# Let's visualize the images of the dataset\n",
        "plt.figure(figsize=(15, 10))\n",
        "\n",
        "for i in range(6):\n",
        "    ax = plt.subplot(2, 3, i+1)\n",
        "    # We select the pah of the image\n",
        "    img_dir = '/IMAGES/train/'+train.loc[i, 'FILENAME']\n",
        "    # We read the image\n",
        "    image = cv2.imread(img_dir, cv2.IMREAD_GRAYSCALE)\n",
        "    # We show it\n",
        "    plt.imshow(image, cmap = 'gray')\n",
        "    plt.title(train.loc[i, 'IDENTITY'], fontsize=12)\n",
        "    plt.axis('off')\n",
        "\n",
        "plt.subplots_adjust(wspace=0.2, hspace=-0.8)"
      ],
      "metadata": {
        "colab": {
          "base_uri": "https://localhost:8080/",
          "height": 255
        },
        "id": "FDt1yzWHypOw",
        "outputId": "f90ea161-7636-4dbf-c530-f8631671c0e7"
      },
      "execution_count": 7,
      "outputs": [
        {
          "output_type": "display_data",
          "data": {
            "text/plain": [
              "<Figure size 1500x1000 with 6 Axes>"
            ],
            "image/png": "[encoded data removed]"
          },
          "metadata": {}
        }
      ]
    },
    {
      "cell_type": "markdown",
      "source": [
        "### Cleaning the data"
      ],
      "metadata": {
        "id": "AXsbvipk0wyk"
      }
    },
    {
      "cell_type": "code",
      "source": [
        "print(\"In train set, there are : \", train['IDENTITY'].isnull().sum(), \"NaN values.\")\n",
        "print(\"In validation set, there are : \", valid['IDENTITY'].isnull().sum(), \"NaN values.\")\n",
        "print(\"In test set, there are : \", test['IDENTITY'].isnull().sum(), \"NaN values.\")\n",
        "\n",
        "# We delete those elements\n",
        "train.dropna(axis=0, inplace=True)\n",
        "valid.dropna(axis=0, inplace=True)\n",
        "test.dropna(axis=0, inplace=True)"
      ],
      "metadata": {
        "id": "znsCBW020ylX",
        "colab": {
          "base_uri": "https://localhost:8080/"
        },
        "outputId": "4564f43e-6748-4ced-fbb8-ffd648aa50bc"
      },
      "execution_count": 8,
      "outputs": [
        {
          "output_type": "stream",
          "name": "stdout",
          "text": [
            "In train set, there are :  565 NaN values.\n",
            "In validation set, there are :  78 NaN values.\n",
            "In test set, there are :  0 NaN values.\n"
          ]
        }
      ]
    },
    {
      "cell_type": "markdown",
      "source": [
        "In the 3 datasets, there is another type of problem in the data. In fact, some elements are considered as \"non-readable\". Hence, we cannot use those images in our training since the label is unknown. Then, we are going to delete those images also.\n",
        "\n",
        "We can print some examples fo this type of images."
      ],
      "metadata": {
        "id": "n-o8v6tp7Ho6"
      }
    },
    {
      "cell_type": "code",
      "source": [
        "unreadable = train[train['IDENTITY'] == 'UNREADABLE']\n",
        "unreadable.reset_index(inplace = True, drop=True)\n",
        "\n",
        "plt.figure(figsize=(15, 10))\n",
        "\n",
        "for i in range(6):\n",
        "    ax = plt.subplot(2, 3, i+1)\n",
        "    img_dir = '/IMAGES/train/'+unreadable.loc[i, 'FILENAME']\n",
        "    image = cv2.imread(img_dir, cv2.IMREAD_GRAYSCALE)\n",
        "\n",
        "    plt.imshow(image, cmap = 'gray')\n",
        "    plt.title(unreadable.loc[i, 'IDENTITY'], fontsize=12)\n",
        "    plt.axis('off')\n",
        "\n",
        "plt.subplots_adjust(wspace=0.2, hspace=-0.8)"
      ],
      "metadata": {
        "colab": {
          "base_uri": "https://localhost:8080/",
          "height": 226
        },
        "id": "AbZEi0fs7bde",
        "outputId": "b3a989dd-102a-4e95-fd4e-66cd8eeb7348"
      },
      "execution_count": 9,
      "outputs": [
        {
          "output_type": "display_data",
          "data": {
            "text/plain": [
              "<Figure size 1500x1000 with 6 Axes>"
            ],
            "image/png": "[encoded data removed]"
          },
          "metadata": {}
        }
      ]
    },
    {
      "cell_type": "code",
      "source": [
        "train = train[train['IDENTITY'] != 'UNREADABLE']\n",
        "valid = valid[valid['IDENTITY'] != 'UNREADABLE']\n",
        "test = test[test['IDENTITY'] != 'UNREADABLE']"
      ],
      "metadata": {
        "id": "cwjqawCT7z49"
      },
      "execution_count": 10,
      "outputs": []
    },
    {
      "cell_type": "code",
      "source": [
        "# Last changes in the data\n",
        "## Put all the labels into lower case letters\n",
        "train['IDENTITY'] = train['IDENTITY'].str.upper()\n",
        "valid['IDENTITY'] = valid['IDENTITY'].str.upper()\n",
        "test['IDENTITY'] = test['IDENTITY'].str.upper()\n",
        "\n",
        "## Reset the indexes of the\n",
        "train.reset_index(inplace = True, drop=True)\n",
        "valid.reset_index(inplace = True, drop=True)\n",
        "test.reset_index(inplace = True, drop=True)"
      ],
      "metadata": {
        "id": "DaNoR6d38AYN"
      },
      "execution_count": 11,
      "outputs": []
    },
    {
      "cell_type": "markdown",
      "source": [
        "### Preprocessing the dataset"
      ],
      "metadata": {
        "id": "hk17i0d48X2p"
      }
    },
    {
      "cell_type": "markdown",
      "source": [
        "Some images are not in the same shape. Then, we have to uniformized the shape of each image of the datasets. Here, we will consider images of 256x64 pixels.\n",
        "\n",
        "Then, if the dimensions of an image is bigger than those numbers, the width/height are cropped, and if the shape is smaller, we apply a padding with white pixels.\n",
        "\n",
        "Finally the image is rotated clockwise to bring the image shape to (x, y), and is then normalized to range [0, 1]."
      ],
      "metadata": {
        "id": "flThYNfD8hLr"
      }
    },
    {
      "cell_type": "code",
      "source": [
        "def preprocess(img):\n",
        "    # We get the sape of the current image\n",
        "    (h, w) = img.shape\n",
        "    # We initialize our new image\n",
        "    final_img = np.ones([64, 256])*255\n",
        "\n",
        "    # If the current image is too big (bigger height/width), we crop it\n",
        "    if w > 256:\n",
        "        img = img[:, :256]\n",
        "    if h > 64:\n",
        "        img = img[:64, :]\n",
        "\n",
        "    # We put the cropped image into our new image\n",
        "    final_img[:h, :w] = img\n",
        "    # We apply the rotation\n",
        "    return cv2.rotate(final_img, cv2.ROTATE_90_CLOCKWISE)"
      ],
      "metadata": {
        "id": "k58L4CJJ8aDn"
      },
      "execution_count": 12,
      "outputs": []
    },
    {
      "cell_type": "code",
      "source": [
        "def create_dataset(train_size,valid_size):\n",
        "  train_images = []\n",
        "  valid_images = []\n",
        "\n",
        "  for i in range(train_size):\n",
        "      img_train = '/IMAGES/train/'+train.loc[i, 'FILENAME']\n",
        "      image_train = cv2.imread(img_train, cv2.IMREAD_GRAYSCALE)\n",
        "      image_train = preprocess(image_train)\n",
        "      image_train = image_train/255.\n",
        "      train_images.append(image_train)\n",
        "\n",
        "      if i < valid_size:\n",
        "        img_valid = '/IMAGES/validation/'+valid.loc[i, 'FILENAME']\n",
        "        image_valid = cv2.imread(img_valid, cv2.IMREAD_GRAYSCALE)\n",
        "        image_valid = preprocess(image_valid)\n",
        "        image_valid = image_valid/255.\n",
        "        valid_images.append(image_valid)\n",
        "\n",
        "\n",
        "\n",
        "  train_images = np.array(train_images).reshape(-1, 256, 64, 1)\n",
        "  valid_images = np.array(valid_images).reshape(-1, 256, 64, 1)\n",
        "\n",
        "  return train_images, valid_images"
      ],
      "metadata": {
        "id": "-Ab5P8dm9vJE"
      },
      "execution_count": 13,
      "outputs": []
    },
    {
      "cell_type": "code",
      "source": [
        "train_size = 30080\n",
        "valid_size= 3200\n",
        "\n",
        "train_images, valid_images = create_dataset(train_size, valid_size)\n",
        "train_images = train_images.astype(np.float32)\n",
        "valid_images = valid_images.astype(np.float32)"
      ],
      "metadata": {
        "id": "xPvTrYVk9p6N"
      },
      "execution_count": 14,
      "outputs": []
    },
    {
      "cell_type": "markdown",
      "source": [
        "The labels have to be converted to numbers which represent each character in the training set. We will here create an alphabet, which consist of A-Z letters and three special characters : <->, <'> and < >."
      ],
      "metadata": {
        "id": "FblW_Ln0EJEC"
      }
    },
    {
      "cell_type": "code",
      "source": [
        "labels = train['IDENTITY']\n",
        "max_word = 0\n",
        "for word in labels:\n",
        "  l = len(word)\n",
        "  if l > max_word:\n",
        "    max_word = l\n",
        "\n",
        "print(l)"
      ],
      "metadata": {
        "colab": {
          "base_uri": "https://localhost:8080/"
        },
        "id": "AeNykbck2fsI",
        "outputId": "3eaa7302-c71b-45f9-c748-e1b836729abd"
      },
      "execution_count": 15,
      "outputs": [
        {
          "output_type": "stream",
          "name": "stdout",
          "text": [
            "7\n"
          ]
        }
      ]
    },
    {
      "cell_type": "markdown",
      "source": [
        "The maximum word's length over our whole dataset is 7."
      ],
      "metadata": {
        "id": "826maIpD3cfO"
      }
    },
    {
      "cell_type": "code",
      "source": [
        "alphabets = u\" ABCDEFGHIJKLMNOPQRSTUVWXYZ-'\"\n",
        "max_str_len = 24 # max length of input labels\n",
        "\n",
        "num_of_characters = len(alphabets) + 1 # +1 for ctc pseudo blank\n",
        "num_of_timestamps = 64 # max length of predicted labels\n",
        "\n",
        "def label_to_num(label):\n",
        "    # We initialize the output vector\n",
        "    label_num = []\n",
        "    # For each character of the label, we add the corresponding number\n",
        "    for ch in label:\n",
        "        label_num.append(alphabets.find(ch))\n",
        "\n",
        "    return np.array(label_num)\n",
        "\n",
        "def num_to_label(num):\n",
        "    # We initialize the output string\n",
        "    ret = \"\"\n",
        "    # For each number, we add the element of the alphabet at that position\n",
        "    for ch in num:\n",
        "        if ch == -1:  # CTC Blank\n",
        "            break\n",
        "        else:\n",
        "            ret+=alphabets[ch]\n",
        "    return ret"
      ],
      "metadata": {
        "id": "sc9Gg7BdEWNQ"
      },
      "execution_count": 16,
      "outputs": []
    },
    {
      "cell_type": "markdown",
      "source": [
        "Now, we can test if our last functions work properly.\n"
      ],
      "metadata": {
        "id": "zB312jaFFKZ_"
      }
    },
    {
      "cell_type": "code",
      "source": [
        "name = 'DAVID'\n",
        "print(name, \" : \", label_to_num(name))\n",
        "print(label_to_num(name), \" : \", num_to_label(label_to_num(name)) )"
      ],
      "metadata": {
        "id": "d2i8phLSFPoW",
        "colab": {
          "base_uri": "https://localhost:8080/"
        },
        "outputId": "9369fea8-7333-4eb5-c967-66a5827a2139"
      },
      "execution_count": 17,
      "outputs": [
        {
          "output_type": "stream",
          "name": "stdout",
          "text": [
            "DAVID  :  [ 4  1 22  9  4]\n",
            "[ 4  1 22  9  4]  :  DAVID\n"
          ]
        }
      ]
    },
    {
      "cell_type": "markdown",
      "source": [
        "Now, let's create certain lists, that will be useful for the training:\n",
        "- *train_y* : contains the true labels converted to numbers and padded with -1.\n",
        "- *max_str_len* : length of each label\n",
        "- *train_label_len* : contains the length of each true label (without padding)\n",
        "- *train_input_len* : contains the length of each predicted label\n",
        "- *train_output* : a dummy output for ctc loss."
      ],
      "metadata": {
        "id": "d04_zeCzFP_N"
      }
    },
    {
      "cell_type": "code",
      "source": [
        "train_y = np.ones([train_size, max_str_len]) * -1\n",
        "train_label_len = np.zeros([train_size, 1])\n",
        "train_input_len = np.ones([train_size, 1]) * (num_of_timestamps-2)\n",
        "train_output = np.zeros([train_size])\n",
        "\n",
        "for i in range(train_size):\n",
        "    train_label_len[i] = len(train.loc[i, 'IDENTITY'])\n",
        "    train_y[i, 0:len(train.loc[i, 'IDENTITY'])]= label_to_num(train.loc[i, 'IDENTITY'])\n",
        "\n",
        "train_y = train_y.astype(int)\n",
        "train_label_len = train_label_len.astype(int)\n",
        "train_input_len = train_input_len.astype(int)\n",
        "\n",
        "train_label_len = torch.from_numpy(train_label_len)\n",
        "train_input_len = torch.from_numpy(train_input_len)"
      ],
      "metadata": {
        "id": "TTlj_LsZFzKJ"
      },
      "execution_count": 18,
      "outputs": []
    },
    {
      "cell_type": "code",
      "source": [
        "valid_y = np.ones([valid_size, max_str_len]) * -1\n",
        "valid_label_len = np.zeros([valid_size, 1])\n",
        "valid_input_len = np.ones([valid_size, 1]) * (num_of_timestamps-2)\n",
        "valid_output = np.zeros([valid_size])\n",
        "\n",
        "for i in range(valid_size):\n",
        "    valid_label_len[i] = len(valid.loc[i, 'IDENTITY'])\n",
        "    valid_y[i, 0:len(valid.loc[i, 'IDENTITY'])]= label_to_num(valid.loc[i, 'IDENTITY'])\n",
        "\n",
        "valid_y = valid_y.astype(int)\n",
        "valid_label_len = valid_label_len.astype(int)\n",
        "valid_input_len = valid_input_len.astype(int)\n",
        "\n",
        "valid_images,valid_y,valid_label_len,valid_input_len\n",
        "\n",
        "\n",
        "valid_label_len = torch.from_numpy(valid_label_len)\n",
        "valid_input_len = torch.from_numpy(valid_input_len)"
      ],
      "metadata": {
        "id": "qhR6SdY2F10A"
      },
      "execution_count": 19,
      "outputs": []
    },
    {
      "cell_type": "code",
      "source": [
        "class HandWrittenDataset(Dataset):\n",
        "  def __init__(self, images, labels, transform=None):\n",
        "    self.images = images\n",
        "    self.labels = labels\n",
        "    self.transform = transform\n",
        "\n",
        "  def __len__(self):\n",
        "    return len(self.images)\n",
        "\n",
        "  def __getitem__(self,idx):\n",
        "    image = self.images[idx]\n",
        "    label = self.labels[idx]\n",
        "\n",
        "    if self.transform:\n",
        "      image = self.transform(image)\n",
        "\n",
        "    return image, label"
      ],
      "metadata": {
        "id": "uM8_5zs_8n43"
      },
      "execution_count": 20,
      "outputs": []
    },
    {
      "cell_type": "code",
      "source": [
        "transform = transforms.Compose([transforms.ToTensor()])\n",
        "train_dataset = HandWrittenDataset(train_images, train_y, transform=transform)\n",
        "valid_dataset = HandWrittenDataset(valid_images, valid_y, transform=transform)\n",
        "\n",
        "train_loader = DataLoader(train_dataset, batch_size=128, shuffle=False)\n",
        "valid_loader = DataLoader(valid_dataset, batch_size=128, shuffle=False)"
      ],
      "metadata": {
        "id": "mOdbfmneIRt3"
      },
      "execution_count": 46,
      "outputs": []
    },
    {
      "cell_type": "markdown",
      "source": [
        "## First model"
      ],
      "metadata": {
        "id": "tYVSpupHF6qp"
      }
    },
    {
      "cell_type": "code",
      "source": [
        "# function to count number of parameters\n",
        "def get_n_params(model):\n",
        "    np=0\n",
        "    for p in list(model.parameters()):\n",
        "        np += p.numel()\n",
        "    return np"
      ],
      "metadata": {
        "id": "RChh3t11-O6J"
      },
      "execution_count": 22,
      "outputs": []
    },
    {
      "cell_type": "code",
      "source": [
        "class CRNN(nn.Module):\n",
        "    def __init__(self, rnn_input_dim, rnn_hidden_dim, n_rnn_layers, output_dim, drop_prob=0.):\n",
        "        super(CRNN, self).__init__()\n",
        "        self.rnn_input_dim = rnn_input_dim\n",
        "        self.rnn_hidden_dim = rnn_hidden_dim\n",
        "        self.n_rnn_layers = n_rnn_layers\n",
        "        self.output_dim = output_dim\n",
        "\n",
        "        self.conv1 = nn.Conv2d(in_channels=1, out_channels=32, kernel_size=3, padding='same')\n",
        "        self.norm1 = nn.BatchNorm2d(32)\n",
        "        #nn.init.xavier_uniform_(self.conv1.weight)\n",
        "        nn.init.kaiming_normal_(self.conv1.weight, mode='fan_in',nonlinearity='relu')\n",
        "        #self.dropout1 = nn.Dropout2d(p=drop_prob)\n",
        "\n",
        "        self.conv2 = nn.Conv2d(in_channels=32, out_channels=64, kernel_size=3, padding='same')\n",
        "        self.norm2 = nn.BatchNorm2d(64)\n",
        "        #nn.init.xavier_uniform_(self.conv2.weight)\n",
        "        nn.init.kaiming_normal_(self.conv2.weight, mode='fan_in',nonlinearity='relu')\n",
        "        self.dropout2 = nn.Dropout2d(p=drop_prob)\n",
        "\n",
        "        self.conv3 = nn.Conv2d(in_channels=64, out_channels=128, kernel_size=3, padding='same')\n",
        "        self.norm3 = nn.BatchNorm2d(128)\n",
        "        #nn.init.xavier_uniform_(self.conv3.weight)\n",
        "        nn.init.kaiming_normal_(self.conv3.weight, mode='fan_in',nonlinearity='relu')\n",
        "        self.dropout3 = nn.Dropout2d(p=drop_prob)\n",
        "\n",
        "        self.maxpool = nn.MaxPool2d(kernel_size=2)\n",
        "        self.maxpool2 = nn.MaxPool2d(kernel_size=(1,2))\n",
        "\n",
        "        self.rnn = nn.LSTM(rnn_input_dim, rnn_hidden_dim, n_rnn_layers, batch_first=True, bidirectional=True, dropout=drop_prob)\n",
        "\n",
        "        self.fc1 = nn.Linear(1024, rnn_input_dim)\n",
        "        nn.init.kaiming_normal_(self.fc1.weight, mode='fan_in',nonlinearity='relu')\n",
        "        #nn.init.xavier_uniform_(self.fc1.weight)\n",
        "\n",
        "        self.fc2 = nn.Linear(2*rnn_hidden_dim, output_dim)\n",
        "        nn.init.kaiming_normal_(self.fc2.weight, mode='fan_in',nonlinearity='relu')\n",
        "        #nn.init.xavier_uniform_(self.fc2.weight)\n",
        "\n",
        "                                      # Batch, Channel, Width, Height\n",
        "    def forward(self, x, h, c=None):  # Size : b,  1, 256, 64\n",
        "        x = self.conv1(x)             # Size : b, 32, 256, 64\n",
        "        x = self.norm1(x)             # Size : b, 32, 256, 64\n",
        "        x = F.relu(x)                 # Size : b, 32, 256, 64\n",
        "        x = self.maxpool(x)           # Size : b, 32, 128, 32\n",
        "\n",
        "        x = self.conv2(x)             # Size : b, 64, 128, 32\n",
        "        x = self.norm2(x)             # Size : b, 64, 128, 32\n",
        "        x = F.relu(x)                 # Size : b, 64, 128, 32\n",
        "        x = self.maxpool(x)           # Size : b, 64,  64, 16\n",
        "        x = self.dropout2(x)\n",
        "\n",
        "        x = self.conv3(x)             # Size : b, 128, 64, 16\n",
        "        x = self.norm3(x)             # Size : b, 128, 64, 16\n",
        "        x = F.relu(x)                 # Size : b, 128, 64, 16\n",
        "        x = self.maxpool2(x)          # Size : b, 128, 64,  8\n",
        "        x = self.dropout3(x)\n",
        "\n",
        "        x = x.permute(0,2,3,1)        # Size : b, 64, 8, 128\n",
        "        x = x.reshape((x.shape[0], x.shape[1], 1024)) # Size : b, 64, 1024\n",
        "\n",
        "        x = self.fc1(x)               # Size : b,  64, 64\n",
        "        x = F.relu(x)                 # Size : b,  64, 64\n",
        "\n",
        "        x, (h, c) = self.rnn(x, (h, c))    # Size : b, 64, 1024\n",
        "\n",
        "        x = self.fc2(x)               # Size : b, 64, 30\n",
        "        x = F.log_softmax(x, dim=2)\n",
        "        return x, h, c\n",
        "\n",
        "    def init_hidden(self, batch_size):\n",
        "        #Initialize the hidden state of the RNN to zeros\n",
        "        weight = next(self.parameters()).data\n",
        "        return weight.new(2*self.n_rnn_layers, batch_size, self.rnn_hidden_dim).zero_().cuda(), weight.new(2*self.n_rnn_layers, batch_size, self.rnn_hidden_dim).zero_().cuda()"
      ],
      "metadata": {
        "id": "XGtO0115A8Ru"
      },
      "execution_count": 23,
      "outputs": []
    },
    {
      "cell_type": "code",
      "source": [
        "def gradient_clipping(model, min, max):\n",
        "  for name, param in model.named_parameters():\n",
        "    if param.grad is not None:\n",
        "      param.grad.data = torch.clamp(param.grad.data, min=min, max=max)\n",
        "      param.grad.data[param.grad.data.abs() < min] = min"
      ],
      "metadata": {
        "id": "oazduORaE70s"
      },
      "execution_count": 24,
      "outputs": []
    },
    {
      "cell_type": "code",
      "source": [
        "def decode(pred,batch_size,str_len):\n",
        "  decoded_batch = np.ones((batch_size,str_len),dtype=int)*(-1)\n",
        "  blank=0\n",
        "  pred = pred.cpu().numpy()\n",
        "\n",
        "  for b in range(batch_size):\n",
        "    previous_letter = blank\n",
        "    index=0\n",
        "    for k in range(64):\n",
        "      letter = pred[b,k]\n",
        "      if letter != previous_letter and letter != blank:\n",
        "        decoded_batch[b,index] = letter.item()\n",
        "        previous_letter = letter\n",
        "        index+=1\n",
        "\n",
        "  return decoded_batch"
      ],
      "metadata": {
        "id": "znhxaRVZwYHd"
      },
      "execution_count": 25,
      "outputs": []
    },
    {
      "cell_type": "code",
      "source": [
        "def train_model(dataloader, model, batch_size, criterion, optimizer, num_epochs, valid_loader):\n",
        "    train_losses = []\n",
        "    valid_losses = []\n",
        "    words_acc_val = []\n",
        "    letters_acc_val = []\n",
        "\n",
        "    for epoch in range(num_epochs):\n",
        "        model.train()\n",
        "\n",
        "        for batch, (x, y) in enumerate(dataloader):\n",
        "            h_state, c_state = model.init_hidden(batch_size)\n",
        "\n",
        "            h_state = h_state.to(device)\n",
        "\n",
        "            if c_state is not None:\n",
        "                c_state = c_state.to(device)\n",
        "\n",
        "            x = x.to(device)\n",
        "            y = y.to(device)\n",
        "            optimizer.zero_grad()\n",
        "\n",
        "            y_pred, h_state, c_state = model(x, h_state, c_state)\n",
        "\n",
        "            #input_lengths = torch.full(size=(batch_size,), fill_value=64, dtype=torch.long)\n",
        "            #target_lengths = torch.full(size=(batch_size,), fill_value=1, dtype=torch.long)\n",
        "            target_lengths = train_label_len[(batch*batch_size):((batch+1)*batch_size)]\n",
        "            input_lengths = train_input_len[(batch*batch_size):((batch+1)*batch_size)]\n",
        "\n",
        "            loss = criterion(y_pred.transpose(1,0), y, input_lengths, target_lengths) #.transpose(1, 2)\n",
        "            loss.backward()\n",
        "\n",
        "            # Gradient clipping\n",
        "            nn.utils.clip_grad_norm_(model.parameters(), 1)\n",
        "            #gradient_clipping(model, 0.0001, 1)\n",
        "\n",
        "            #for name, param in model.named_parameters():\n",
        "              #if param.grad is not None:\n",
        "                #print(name, torch.mean(param.grad).item(), loss.item())\n",
        "\n",
        "            optimizer.step()\n",
        "\n",
        "            if batch%30 == 0:\n",
        "              print({ 'batch': batch, 'epoch': epoch, 'training loss': loss.item()})\n",
        "\n",
        "        val_loss, accuracy_words, accuracy_letters = validate(criterion, model, valid_loader, batch_size)\n",
        "\n",
        "        train_losses.append(loss.item())\n",
        "        valid_losses.append(val_loss)\n",
        "        words_acc_val.append(accuracy_words)\n",
        "        letters_acc_val.append(accuracy_letters)\n",
        "\n",
        "        print({ 'epoch': epoch, 'training loss': loss.item(), 'validation loss':val_loss, \"Words accuracy\":accuracy_words, \"Letters accuracy\":accuracy_letters})\n",
        "\n",
        "    return train_losses, valid_losses, words_acc_val, letters_acc_val\n"
      ],
      "metadata": {
        "id": "T1cxPYJF7cgj"
      },
      "execution_count": 26,
      "outputs": []
    },
    {
      "cell_type": "code",
      "source": [
        "rnn_input_dim = 64\n",
        "rnn_hidden_dim = 512\n",
        "output_dim = num_of_characters\n",
        "n_rnn_layers = 2\n",
        "drop_prob = 0.3\n",
        "\n",
        "torch.backends.cudnn.benchmark = True\n",
        "torch.manual_seed(0) # seed for reproductibility\n",
        "criterion = torch.nn.CTCLoss()\n",
        "\n",
        "model = CRNN(rnn_input_dim, rnn_hidden_dim, n_rnn_layers, output_dim, drop_prob).to(device)\n",
        "optimizer = optim.Adam(model.parameters(), lr=0.001, weight_decay=0.001) #\n",
        "\n",
        "print(f\"Number of parameters {get_n_params(model)}:\")\n",
        "model.to(device)"
      ],
      "metadata": {
        "id": "A2o6swkYhvTT",
        "colab": {
          "base_uri": "https://localhost:8080/"
        },
        "outputId": "9b082db8-024f-4c1f-ced4-035ae64b5844"
      },
      "execution_count": 27,
      "outputs": [
        {
          "output_type": "stream",
          "name": "stdout",
          "text": [
            "Number of parameters 8856606:\n"
          ]
        },
        {
          "output_type": "execute_result",
          "data": {
            "text/plain": [
              "CRNN(\n",
              "  (conv1): Conv2d(1, 32, kernel_size=(3, 3), stride=(1, 1), padding=same)\n",
              "  (norm1): BatchNorm2d(32, eps=1e-05, momentum=0.1, affine=True, track_running_stats=True)\n",
              "  (conv2): Conv2d(32, 64, kernel_size=(3, 3), stride=(1, 1), padding=same)\n",
              "  (norm2): BatchNorm2d(64, eps=1e-05, momentum=0.1, affine=True, track_running_stats=True)\n",
              "  (dropout2): Dropout2d(p=0.3, inplace=False)\n",
              "  (conv3): Conv2d(64, 128, kernel_size=(3, 3), stride=(1, 1), padding=same)\n",
              "  (norm3): BatchNorm2d(128, eps=1e-05, momentum=0.1, affine=True, track_running_stats=True)\n",
              "  (dropout3): Dropout2d(p=0.3, inplace=False)\n",
              "  (maxpool): MaxPool2d(kernel_size=2, stride=2, padding=0, dilation=1, ceil_mode=False)\n",
              "  (maxpool2): MaxPool2d(kernel_size=(1, 2), stride=(1, 2), padding=0, dilation=1, ceil_mode=False)\n",
              "  (rnn): LSTM(64, 512, num_layers=2, batch_first=True, dropout=0.3, bidirectional=True)\n",
              "  (fc1): Linear(in_features=1024, out_features=64, bias=True)\n",
              "  (fc2): Linear(in_features=1024, out_features=30, bias=True)\n",
              ")"
            ]
          },
          "metadata": {},
          "execution_count": 27
        }
      ]
    },
    {
      "cell_type": "code",
      "source": [
        "@torch.no_grad()  # prevent this function from computing gradients\n",
        "def validate(criterion, model, loader, batch_size):\n",
        "\n",
        "    val_loss = 0\n",
        "    correct_words = 0\n",
        "    correct_letters = 0\n",
        "    n_letters = 0\n",
        "\n",
        "    model.eval()\n",
        "\n",
        "    for batch, (data, target) in enumerate(loader):\n",
        "        h_state, c_state = model.init_hidden(batch_size)\n",
        "\n",
        "        h_state = h_state.to(device)\n",
        "\n",
        "        if c_state is not None:\n",
        "          c_state = c_state.to(device)\n",
        "\n",
        "\n",
        "        data, target = data.to(device), target.to(device)\n",
        "\n",
        "        output, h_state, c_state = model(data, h_state, c_state)\n",
        "\n",
        "        #input_lengths = torch.full(size=(batch_size,), fill_value=64, dtype=torch.long)\n",
        "        #target_lengths = torch.full(size=(batch_size,), fill_value=1, dtype=torch.long)\n",
        "\n",
        "        target_lengths = valid_label_len[(batch*batch_size):((batch+1)*batch_size)]\n",
        "        input_lengths = valid_input_len[(batch*batch_size):((batch+1)*batch_size)]\n",
        "\n",
        "        loss = criterion(output.transpose(0, 1), target, input_lengths, target_lengths)\n",
        "\n",
        "        val_loss += loss.item()\n",
        "\n",
        "        _, pred = torch.max(output.data,dim=2)\n",
        "\n",
        "        target = target.cpu().numpy()\n",
        "\n",
        "        pred = decode(pred,batch_size,24)\n",
        "\n",
        "        correct_words += np.sum(np.sum((abs(target-pred)),axis=1)==0)\n",
        "        correct_letters += np.sum(abs(target-pred)==0, where=(target!=-1))\n",
        "\n",
        "        n_letters += np.sum(target!=-1)\n",
        "\n",
        "    val_loss /= 25\n",
        "    accuracy_words = correct_words / len(loader.dataset)\n",
        "    accuracy_letters = correct_letters / n_letters\n",
        "    #print('\\nTest set: Average loss: {:.4f}, Word accuracy: {}/{} ({:.0f}%), Letter accuracy: {}/{} ({:.0f}%)\\n'.format(\n",
        "        #val_loss, correct_words, len(loader.dataset), accuracy_words, correct_letters, n_letters, accuracy_letters))\n",
        "\n",
        "\n",
        "    return val_loss, accuracy_words, accuracy_letters"
      ],
      "metadata": {
        "id": "qwm2mbef9jPO"
      },
      "execution_count": 28,
      "outputs": []
    },
    {
      "cell_type": "code",
      "source": [
        "batch_size = 128\n",
        "num_epochs = 10\n",
        "\n",
        "train_loss, valid_loss, words_acc_val, letters_acc_val = train_model(train_loader, model, batch_size, criterion, optimizer, num_epochs, valid_loader)"
      ],
      "metadata": {
        "id": "_lWACgtLDWwR",
        "colab": {
          "base_uri": "https://localhost:8080/"
        },
        "outputId": "97d640f1-1979-4b21-c87a-93c5f4b9aae6"
      },
      "execution_count": 29,
      "outputs": [
        {
          "output_type": "stream",
          "name": "stdout",
          "text": [
            "{'batch': 0, 'epoch': 0, 'training loss': 29.653261184692383}\n",
            "{'batch': 30, 'epoch': 0, 'training loss': 3.1795754432678223}\n",
            "{'batch': 60, 'epoch': 0, 'training loss': 3.0841383934020996}\n",
            "{'batch': 90, 'epoch': 0, 'training loss': 3.0484042167663574}\n",
            "{'batch': 120, 'epoch': 0, 'training loss': 2.9310555458068848}\n",
            "{'batch': 150, 'epoch': 0, 'training loss': 2.8947229385375977}\n",
            "{'batch': 180, 'epoch': 0, 'training loss': 2.820216417312622}\n",
            "{'batch': 210, 'epoch': 0, 'training loss': 2.6098198890686035}\n",
            "{'epoch': 0, 'training loss': 2.472644329071045, 'validation loss': 2.3588186168670653, 'Words accuracy': 0.001875, 'Letters accuracy': 0.10532330254261499}\n",
            "{'batch': 0, 'epoch': 1, 'training loss': 2.36399507522583}\n",
            "{'batch': 30, 'epoch': 1, 'training loss': 2.24151611328125}\n",
            "{'batch': 60, 'epoch': 1, 'training loss': 1.9004018306732178}\n",
            "{'batch': 90, 'epoch': 1, 'training loss': 1.6591145992279053}\n",
            "{'batch': 120, 'epoch': 1, 'training loss': 1.3796645402908325}\n",
            "{'batch': 150, 'epoch': 1, 'training loss': 1.301994800567627}\n",
            "{'batch': 180, 'epoch': 1, 'training loss': 1.1033384799957275}\n",
            "{'batch': 210, 'epoch': 1, 'training loss': 0.9963396787643433}\n",
            "{'epoch': 1, 'training loss': 0.8553128242492676, 'validation loss': 0.8619478702545166, 'Words accuracy': 0.238125, 'Letters accuracy': 0.6310827540234264}\n",
            "{'batch': 0, 'epoch': 2, 'training loss': 0.9148566722869873}\n",
            "{'batch': 30, 'epoch': 2, 'training loss': 0.8776817917823792}\n",
            "{'batch': 60, 'epoch': 2, 'training loss': 0.7388585209846497}\n",
            "{'batch': 90, 'epoch': 2, 'training loss': 0.708305835723877}\n",
            "{'batch': 120, 'epoch': 2, 'training loss': 0.6752867102622986}\n",
            "{'batch': 150, 'epoch': 2, 'training loss': 0.7228527665138245}\n",
            "{'batch': 180, 'epoch': 2, 'training loss': 0.6475603580474854}\n",
            "{'batch': 210, 'epoch': 2, 'training loss': 0.6698954105377197}\n",
            "{'epoch': 2, 'training loss': 0.5475636720657349, 'validation loss': 0.5325349640846252, 'Words accuracy': 0.4465625, 'Letters accuracy': 0.7343110179982859}\n",
            "{'batch': 0, 'epoch': 3, 'training loss': 0.6156249642372131}\n",
            "{'batch': 30, 'epoch': 3, 'training loss': 0.5934061408042908}\n",
            "{'batch': 60, 'epoch': 3, 'training loss': 0.5157583355903625}\n",
            "{'batch': 90, 'epoch': 3, 'training loss': 0.4920920133590698}\n",
            "{'batch': 120, 'epoch': 3, 'training loss': 0.5066890716552734}\n",
            "{'batch': 150, 'epoch': 3, 'training loss': 0.6394837498664856}\n",
            "{'batch': 180, 'epoch': 3, 'training loss': 0.4843466877937317}\n",
            "{'batch': 210, 'epoch': 3, 'training loss': 0.5340210199356079}\n",
            "{'epoch': 3, 'training loss': 0.48700088262557983, 'validation loss': 0.4561288511753082, 'Words accuracy': 0.4821875, 'Letters accuracy': 0.7554518617274545}\n",
            "{'batch': 0, 'epoch': 4, 'training loss': 0.5299118161201477}\n",
            "{'batch': 30, 'epoch': 4, 'training loss': 0.4674999713897705}\n",
            "{'batch': 60, 'epoch': 4, 'training loss': 0.4549277126789093}\n",
            "{'batch': 90, 'epoch': 4, 'training loss': 0.46905452013015747}\n",
            "{'batch': 120, 'epoch': 4, 'training loss': 0.46454092860221863}\n",
            "{'batch': 150, 'epoch': 4, 'training loss': 0.5748728513717651}\n",
            "{'batch': 180, 'epoch': 4, 'training loss': 0.42717480659484863}\n",
            "{'batch': 210, 'epoch': 4, 'training loss': 0.49675247073173523}\n",
            "{'epoch': 4, 'training loss': 0.43998920917510986, 'validation loss': 0.40360387802124026, 'Words accuracy': 0.53125, 'Letters accuracy': 0.7803542519760023}\n",
            "{'batch': 0, 'epoch': 5, 'training loss': 0.4687387943267822}\n",
            "{'batch': 30, 'epoch': 5, 'training loss': 0.39483439922332764}\n",
            "{'batch': 60, 'epoch': 5, 'training loss': 0.4570712149143219}\n",
            "{'batch': 90, 'epoch': 5, 'training loss': 0.4186078608036041}\n",
            "{'batch': 120, 'epoch': 5, 'training loss': 0.4214712977409363}\n",
            "{'batch': 150, 'epoch': 5, 'training loss': 0.49136433005332947}\n",
            "{'batch': 180, 'epoch': 5, 'training loss': 0.41133755445480347}\n",
            "{'batch': 210, 'epoch': 5, 'training loss': 0.4485131502151489}\n",
            "{'epoch': 5, 'training loss': 0.38401567935943604, 'validation loss': 0.376659734249115, 'Words accuracy': 0.5409375, 'Letters accuracy': 0.7726883153985334}\n",
            "{'batch': 0, 'epoch': 6, 'training loss': 0.40629351139068604}\n",
            "{'batch': 30, 'epoch': 6, 'training loss': 0.42863911390304565}\n",
            "{'batch': 60, 'epoch': 6, 'training loss': 0.4068830907344818}\n",
            "{'batch': 90, 'epoch': 6, 'training loss': 0.392515629529953}\n",
            "{'batch': 120, 'epoch': 6, 'training loss': 0.42355871200561523}\n",
            "{'batch': 150, 'epoch': 6, 'training loss': 0.5000603795051575}\n",
            "{'batch': 180, 'epoch': 6, 'training loss': 0.38637030124664307}\n",
            "{'batch': 210, 'epoch': 6, 'training loss': 0.3591238856315613}\n",
            "{'epoch': 6, 'training loss': 0.3544079065322876, 'validation loss': 0.3638812106847763, 'Words accuracy': 0.5590625, 'Letters accuracy': 0.7847824016760309}\n",
            "{'batch': 0, 'epoch': 7, 'training loss': 0.43271389603614807}\n",
            "{'batch': 30, 'epoch': 7, 'training loss': 0.3573964834213257}\n",
            "{'batch': 60, 'epoch': 7, 'training loss': 0.39794307947158813}\n",
            "{'batch': 90, 'epoch': 7, 'training loss': 0.35422205924987793}\n",
            "{'batch': 120, 'epoch': 7, 'training loss': 0.40232205390930176}\n",
            "{'batch': 150, 'epoch': 7, 'training loss': 0.46035540103912354}\n",
            "{'batch': 180, 'epoch': 7, 'training loss': 0.33164626359939575}\n",
            "{'batch': 210, 'epoch': 7, 'training loss': 0.3844756484031677}\n",
            "{'epoch': 7, 'training loss': 0.3251390755176544, 'validation loss': 0.32770323038101196, 'Words accuracy': 0.57625, 'Letters accuracy': 0.8086372726407008}\n",
            "{'batch': 0, 'epoch': 8, 'training loss': 0.36991167068481445}\n",
            "{'batch': 30, 'epoch': 8, 'training loss': 0.3507939875125885}\n",
            "{'batch': 60, 'epoch': 8, 'training loss': 0.3590930104255676}\n",
            "{'batch': 90, 'epoch': 8, 'training loss': 0.35862499475479126}\n",
            "{'batch': 120, 'epoch': 8, 'training loss': 0.32889407873153687}\n",
            "{'batch': 150, 'epoch': 8, 'training loss': 0.4543534517288208}\n",
            "{'batch': 180, 'epoch': 8, 'training loss': 0.30628350377082825}\n",
            "{'batch': 210, 'epoch': 8, 'training loss': 0.30878761410713196}\n",
            "{'epoch': 8, 'training loss': 0.31469792127609253, 'validation loss': 0.32014035165309906, 'Words accuracy': 0.59625, 'Letters accuracy': 0.8115893724407199}\n",
            "{'batch': 0, 'epoch': 9, 'training loss': 0.31882473826408386}\n",
            "{'batch': 30, 'epoch': 9, 'training loss': 0.34173446893692017}\n",
            "{'batch': 60, 'epoch': 9, 'training loss': 0.3624637722969055}\n",
            "{'batch': 90, 'epoch': 9, 'training loss': 0.3292772173881531}\n",
            "{'batch': 120, 'epoch': 9, 'training loss': 0.2932133674621582}\n",
            "{'batch': 150, 'epoch': 9, 'training loss': 0.44302958250045776}\n",
            "{'batch': 180, 'epoch': 9, 'training loss': 0.3227185010910034}\n",
            "{'batch': 210, 'epoch': 9, 'training loss': 0.3706449270248413}\n",
            "{'epoch': 9, 'training loss': 0.3124690055847168, 'validation loss': 0.3321634423732758, 'Words accuracy': 0.585, 'Letters accuracy': 0.8055423293019712}\n"
          ]
        }
      ]
    },
    {
      "cell_type": "code",
      "source": [
        "plt.subplot(1,3,1)\n",
        "plt.plot(train_loss, label='Training')\n",
        "plt.plot(valid_loss, label='Validation')\n",
        "plt.title(\"Losses\")\n",
        "plt.legend()\n",
        "\n",
        "plt.subplot(1,3,2)\n",
        "plt.plot(words_acc_val)\n",
        "plt.title(\"Words accuracy\")\n",
        "\n",
        "plt.subplot(1,3,3)\n",
        "plt.plot(letters_acc_val)\n",
        "plt.title(\"Letters accuracy\")"
      ],
      "metadata": {
        "id": "RTBD44kMtIjb",
        "colab": {
          "base_uri": "https://localhost:8080/",
          "height": 470
        },
        "outputId": "ba126533-f013-4ec9-bc75-8715f55bb813"
      },
      "execution_count": 30,
      "outputs": [
        {
          "output_type": "execute_result",
          "data": {
            "text/plain": [
              "Text(0.5, 1.0, 'Letters accuracy')"
            ]
          },
          "metadata": {},
          "execution_count": 30
        },
        {
          "output_type": "display_data",
          "data": {
            "text/plain": [
              "<Figure size 640x480 with 3 Axes>"
            ],
            "image/png": "[encoded data removed]"
          },
          "metadata": {}
        }
      ]
    },
    {
      "cell_type": "code",
      "source": [
        "device = torch.device('cuda' if torch.cuda.is_available() else 'cpu')\n",
        "model.to(device)\n",
        "model.eval()"
      ],
      "metadata": {
        "colab": {
          "base_uri": "https://localhost:8080/"
        },
        "id": "9BIIQ6zmn0nW",
        "outputId": "efbaf790-5272-4d0c-ed07-4c9d95098f9d"
      },
      "execution_count": 72,
      "outputs": [
        {
          "output_type": "execute_result",
          "data": {
            "text/plain": [
              "CRNN(\n",
              "  (conv1): Conv2d(1, 32, kernel_size=(3, 3), stride=(1, 1), padding=same)\n",
              "  (norm1): BatchNorm2d(32, eps=1e-05, momentum=0.1, affine=True, track_running_stats=True)\n",
              "  (conv2): Conv2d(32, 64, kernel_size=(3, 3), stride=(1, 1), padding=same)\n",
              "  (norm2): BatchNorm2d(64, eps=1e-05, momentum=0.1, affine=True, track_running_stats=True)\n",
              "  (dropout2): Dropout2d(p=0.0, inplace=False)\n",
              "  (conv3): Conv2d(64, 128, kernel_size=(3, 3), stride=(1, 1), padding=same)\n",
              "  (norm3): BatchNorm2d(128, eps=1e-05, momentum=0.1, affine=True, track_running_stats=True)\n",
              "  (dropout3): Dropout2d(p=0.0, inplace=False)\n",
              "  (maxpool): MaxPool2d(kernel_size=2, stride=2, padding=0, dilation=1, ceil_mode=False)\n",
              "  (maxpool2): MaxPool2d(kernel_size=(1, 2), stride=(1, 2), padding=0, dilation=1, ceil_mode=False)\n",
              "  (rnn): LSTM(64, 256, num_layers=2, batch_first=True, bidirectional=True)\n",
              "  (fc1): Linear(in_features=1024, out_features=64, bias=True)\n",
              "  (fc2): Linear(in_features=512, out_features=30, bias=True)\n",
              ")"
            ]
          },
          "metadata": {},
          "execution_count": 72
        }
      ]
    },
    {
      "cell_type": "code",
      "source": [
        "# Check if the model is on the GPU\n",
        "if next(model.parameters()).is_cuda:\n",
        "    print(\"The model is on GPU.\")\n",
        "else:\n",
        "    print(\"The model is not on GPU.\")"
      ],
      "metadata": {
        "colab": {
          "base_uri": "https://localhost:8080/"
        },
        "id": "OuKzZyjuy294",
        "outputId": "78540deb-c864-4c58-eca4-84f0e177d790"
      },
      "execution_count": 73,
      "outputs": [
        {
          "output_type": "stream",
          "name": "stdout",
          "text": [
            "The model is on GPU.\n"
          ]
        }
      ]
    },
    {
      "cell_type": "code",
      "source": [
        "def preprocess(img):\n",
        "    # We get the sape of the current image\n",
        "    (h, w) = img.shape\n",
        "    # We initialize our new image\n",
        "    final_img = np.ones([64, 256])*255\n",
        "\n",
        "    # If the current image is too big (bigger height/width), we crop it\n",
        "    if w > 256:\n",
        "        img = img[:, :256]\n",
        "    if h > 64:\n",
        "        img = img[:64, :]\n",
        "\n",
        "    # We put the cropped image into our new image\n",
        "    final_img[:h, :w] = img\n",
        "    # We apply the rotation\n",
        "    return cv2.rotate(final_img, cv2.ROTATE_90_CLOCKWISE)"
      ],
      "metadata": {
        "id": "zyuRWYWxrt4t"
      },
      "execution_count": 74,
      "outputs": []
    },
    {
      "cell_type": "code",
      "source": [
        "image_paths = ['/name_trial_andreu.jpg','/name_trial_pere.jpg','/name_trial_mathias.jpg']"
      ],
      "metadata": {
        "id": "3wNijGfFr1EN"
      },
      "execution_count": 75,
      "outputs": []
    },
    {
      "cell_type": "code",
      "source": [
        "from PIL import Image"
      ],
      "metadata": {
        "id": "7NvhztkGsF_F"
      },
      "execution_count": 76,
      "outputs": []
    },
    {
      "cell_type": "code",
      "source": [
        "def init_hidden(batch_size, n_rnn_layers, rnn_hidden_dim):\n",
        "    return (torch.zeros(2*n_rnn_layers, batch_size, rnn_hidden_dim).to(device),\n",
        "            torch.zeros(2*n_rnn_layers, batch_size, rnn_hidden_dim).to(device))"
      ],
      "metadata": {
        "id": "qwKgNpH3x4W7"
      },
      "execution_count": 77,
      "outputs": []
    },
    {
      "cell_type": "code",
      "source": [
        "for path in image_paths:\n",
        "  image = cv2.imread(path, cv2.IMREAD_GRAYSCALE)\n",
        "  input = preprocess(image)\n",
        "  image_ = input/255\n",
        "\n",
        "  transform = transforms.Compose([transforms.ToTensor()])\n",
        "  image_done = transform(image_)\n",
        "  print(image_done)\n",
        "  image_done.to(device)\n",
        "\n",
        "  h, c = init_hidden(batch_size, model.n_rnn_layers, model.rnn_hidden_dim)\n",
        "\n",
        "  with torch.no_grad():\n",
        "    output = model(image_done, h, c)\n",
        "  _, predicted_class = torch.max(output, 1)\n",
        "  print(f\"Predicted class index: {predicted_class.item()}\")"
      ],
      "metadata": {
        "colab": {
          "base_uri": "https://localhost:8080/",
          "height": 526
        },
        "id": "T4EmzfHIr9N8",
        "outputId": "dc708864-676f-4454-9180-783adc0280f6"
      },
      "execution_count": 83,
      "outputs": [
        {
          "output_type": "stream",
          "name": "stdout",
          "text": [
            "tensor([[[0.6275, 0.6196, 0.5961,  ..., 0.5922, 0.5922, 0.5961],\n",
            "         [0.6118, 0.6157, 0.6000,  ..., 0.6078, 0.6039, 0.6000],\n",
            "         [0.6000, 0.6078, 0.6078,  ..., 0.6157, 0.6118, 0.6078],\n",
            "         ...,\n",
            "         [0.5922, 0.6078, 0.6157,  ..., 0.6000, 0.6039, 0.6078],\n",
            "         [0.5961, 0.6078, 0.6157,  ..., 0.6000, 0.6039, 0.6078],\n",
            "         [0.6039, 0.6118, 0.6157,  ..., 0.6078, 0.6118, 0.6196]]],\n",
            "       dtype=torch.float64)\n"
          ]
        },
        {
          "output_type": "error",
          "ename": "RuntimeError",
          "evalue": "Expected all tensors to be on the same device, but found at least two devices, cpu and cuda:0! (when checking argument for argument weight in method wrapper_CUDA___slow_conv2d_forward)",
          "traceback": [
            "\u001b[0;31m---------------------------------------------------------------------------\u001b[0m",
            "\u001b[0;31mRuntimeError\u001b[0m                              Traceback (most recent call last)",
            "\u001b[0;32m<ipython-input-83-5c4f5cad636b>\u001b[0m in \u001b[0;36m<cell line: 1>\u001b[0;34m()\u001b[0m\n\u001b[1;32m     12\u001b[0m \u001b[0;34m\u001b[0m\u001b[0m\n\u001b[1;32m     13\u001b[0m   \u001b[0;32mwith\u001b[0m \u001b[0mtorch\u001b[0m\u001b[0;34m.\u001b[0m\u001b[0mno_grad\u001b[0m\u001b[0;34m(\u001b[0m\u001b[0;34m)\u001b[0m\u001b[0;34m:\u001b[0m\u001b[0;34m\u001b[0m\u001b[0;34m\u001b[0m\u001b[0m\n\u001b[0;32m---> 14\u001b[0;31m     \u001b[0moutput\u001b[0m \u001b[0;34m=\u001b[0m \u001b[0mmodel\u001b[0m\u001b[0;34m(\u001b[0m\u001b[0mimage_done\u001b[0m\u001b[0;34m,\u001b[0m \u001b[0mh\u001b[0m\u001b[0;34m)\u001b[0m\u001b[0;34m\u001b[0m\u001b[0;34m\u001b[0m\u001b[0m\n\u001b[0m\u001b[1;32m     15\u001b[0m   \u001b[0m_\u001b[0m\u001b[0;34m,\u001b[0m \u001b[0mpredicted_class\u001b[0m \u001b[0;34m=\u001b[0m \u001b[0mtorch\u001b[0m\u001b[0;34m.\u001b[0m\u001b[0mmax\u001b[0m\u001b[0;34m(\u001b[0m\u001b[0moutput\u001b[0m\u001b[0;34m,\u001b[0m \u001b[0;36m1\u001b[0m\u001b[0;34m)\u001b[0m\u001b[0;34m\u001b[0m\u001b[0;34m\u001b[0m\u001b[0m\n\u001b[1;32m     16\u001b[0m   \u001b[0mprint\u001b[0m\u001b[0;34m(\u001b[0m\u001b[0;34mf\"Predicted class index: {predicted_class.item()}\"\u001b[0m\u001b[0;34m)\u001b[0m\u001b[0;34m\u001b[0m\u001b[0;34m\u001b[0m\u001b[0m\n",
            "\u001b[0;32m/usr/local/lib/python3.10/dist-packages/torch/nn/modules/module.py\u001b[0m in \u001b[0;36m_wrapped_call_impl\u001b[0;34m(self, *args, **kwargs)\u001b[0m\n\u001b[1;32m   1530\u001b[0m             \u001b[0;32mreturn\u001b[0m \u001b[0mself\u001b[0m\u001b[0;34m.\u001b[0m\u001b[0m_compiled_call_impl\u001b[0m\u001b[0;34m(\u001b[0m\u001b[0;34m*\u001b[0m\u001b[0margs\u001b[0m\u001b[0;34m,\u001b[0m \u001b[0;34m**\u001b[0m\u001b[0mkwargs\u001b[0m\u001b[0;34m)\u001b[0m  \u001b[0;31m# type: ignore[misc]\u001b[0m\u001b[0;34m\u001b[0m\u001b[0;34m\u001b[0m\u001b[0m\n\u001b[1;32m   1531\u001b[0m         \u001b[0;32melse\u001b[0m\u001b[0;34m:\u001b[0m\u001b[0;34m\u001b[0m\u001b[0;34m\u001b[0m\u001b[0m\n\u001b[0;32m-> 1532\u001b[0;31m             \u001b[0;32mreturn\u001b[0m \u001b[0mself\u001b[0m\u001b[0;34m.\u001b[0m\u001b[0m_call_impl\u001b[0m\u001b[0;34m(\u001b[0m\u001b[0;34m*\u001b[0m\u001b[0margs\u001b[0m\u001b[0;34m,\u001b[0m \u001b[0;34m**\u001b[0m\u001b[0mkwargs\u001b[0m\u001b[0;34m)\u001b[0m\u001b[0;34m\u001b[0m\u001b[0;34m\u001b[0m\u001b[0m\n\u001b[0m\u001b[1;32m   1533\u001b[0m \u001b[0;34m\u001b[0m\u001b[0m\n\u001b[1;32m   1534\u001b[0m     \u001b[0;32mdef\u001b[0m \u001b[0m_call_impl\u001b[0m\u001b[0;34m(\u001b[0m\u001b[0mself\u001b[0m\u001b[0;34m,\u001b[0m \u001b[0;34m*\u001b[0m\u001b[0margs\u001b[0m\u001b[0;34m,\u001b[0m \u001b[0;34m**\u001b[0m\u001b[0mkwargs\u001b[0m\u001b[0;34m)\u001b[0m\u001b[0;34m:\u001b[0m\u001b[0;34m\u001b[0m\u001b[0;34m\u001b[0m\u001b[0m\n",
            "\u001b[0;32m/usr/local/lib/python3.10/dist-packages/torch/nn/modules/module.py\u001b[0m in \u001b[0;36m_call_impl\u001b[0;34m(self, *args, **kwargs)\u001b[0m\n\u001b[1;32m   1539\u001b[0m                 \u001b[0;32mor\u001b[0m \u001b[0m_global_backward_pre_hooks\u001b[0m \u001b[0;32mor\u001b[0m \u001b[0m_global_backward_hooks\u001b[0m\u001b[0;34m\u001b[0m\u001b[0;34m\u001b[0m\u001b[0m\n\u001b[1;32m   1540\u001b[0m                 or _global_forward_hooks or _global_forward_pre_hooks):\n\u001b[0;32m-> 1541\u001b[0;31m             \u001b[0;32mreturn\u001b[0m \u001b[0mforward_call\u001b[0m\u001b[0;34m(\u001b[0m\u001b[0;34m*\u001b[0m\u001b[0margs\u001b[0m\u001b[0;34m,\u001b[0m \u001b[0;34m**\u001b[0m\u001b[0mkwargs\u001b[0m\u001b[0;34m)\u001b[0m\u001b[0;34m\u001b[0m\u001b[0;34m\u001b[0m\u001b[0m\n\u001b[0m\u001b[1;32m   1542\u001b[0m \u001b[0;34m\u001b[0m\u001b[0m\n\u001b[1;32m   1543\u001b[0m         \u001b[0;32mtry\u001b[0m\u001b[0;34m:\u001b[0m\u001b[0;34m\u001b[0m\u001b[0;34m\u001b[0m\u001b[0m\n",
            "\u001b[0;32m<ipython-input-23-e0aac63823df>\u001b[0m in \u001b[0;36mforward\u001b[0;34m(self, x, h, c)\u001b[0m\n\u001b[1;32m     40\u001b[0m                                       \u001b[0;31m# Batch, Channel, Width, Height\u001b[0m\u001b[0;34m\u001b[0m\u001b[0;34m\u001b[0m\u001b[0m\n\u001b[1;32m     41\u001b[0m     \u001b[0;32mdef\u001b[0m \u001b[0mforward\u001b[0m\u001b[0;34m(\u001b[0m\u001b[0mself\u001b[0m\u001b[0;34m,\u001b[0m \u001b[0mx\u001b[0m\u001b[0;34m,\u001b[0m \u001b[0mh\u001b[0m\u001b[0;34m,\u001b[0m \u001b[0mc\u001b[0m\u001b[0;34m=\u001b[0m\u001b[0;32mNone\u001b[0m\u001b[0;34m)\u001b[0m\u001b[0;34m:\u001b[0m  \u001b[0;31m# Size : b,  1, 256, 64\u001b[0m\u001b[0;34m\u001b[0m\u001b[0;34m\u001b[0m\u001b[0m\n\u001b[0;32m---> 42\u001b[0;31m         \u001b[0mx\u001b[0m \u001b[0;34m=\u001b[0m \u001b[0mself\u001b[0m\u001b[0;34m.\u001b[0m\u001b[0mconv1\u001b[0m\u001b[0;34m(\u001b[0m\u001b[0mx\u001b[0m\u001b[0;34m)\u001b[0m             \u001b[0;31m# Size : b, 32, 256, 64\u001b[0m\u001b[0;34m\u001b[0m\u001b[0;34m\u001b[0m\u001b[0m\n\u001b[0m\u001b[1;32m     43\u001b[0m         \u001b[0mx\u001b[0m \u001b[0;34m=\u001b[0m \u001b[0mself\u001b[0m\u001b[0;34m.\u001b[0m\u001b[0mnorm1\u001b[0m\u001b[0;34m(\u001b[0m\u001b[0mx\u001b[0m\u001b[0;34m)\u001b[0m             \u001b[0;31m# Size : b, 32, 256, 64\u001b[0m\u001b[0;34m\u001b[0m\u001b[0;34m\u001b[0m\u001b[0m\n\u001b[1;32m     44\u001b[0m         \u001b[0mx\u001b[0m \u001b[0;34m=\u001b[0m \u001b[0mF\u001b[0m\u001b[0;34m.\u001b[0m\u001b[0mrelu\u001b[0m\u001b[0;34m(\u001b[0m\u001b[0mx\u001b[0m\u001b[0;34m)\u001b[0m                 \u001b[0;31m# Size : b, 32, 256, 64\u001b[0m\u001b[0;34m\u001b[0m\u001b[0;34m\u001b[0m\u001b[0m\n",
            "\u001b[0;32m/usr/local/lib/python3.10/dist-packages/torch/nn/modules/module.py\u001b[0m in \u001b[0;36m_wrapped_call_impl\u001b[0;34m(self, *args, **kwargs)\u001b[0m\n\u001b[1;32m   1530\u001b[0m             \u001b[0;32mreturn\u001b[0m \u001b[0mself\u001b[0m\u001b[0;34m.\u001b[0m\u001b[0m_compiled_call_impl\u001b[0m\u001b[0;34m(\u001b[0m\u001b[0;34m*\u001b[0m\u001b[0margs\u001b[0m\u001b[0;34m,\u001b[0m \u001b[0;34m**\u001b[0m\u001b[0mkwargs\u001b[0m\u001b[0;34m)\u001b[0m  \u001b[0;31m# type: ignore[misc]\u001b[0m\u001b[0;34m\u001b[0m\u001b[0;34m\u001b[0m\u001b[0m\n\u001b[1;32m   1531\u001b[0m         \u001b[0;32melse\u001b[0m\u001b[0;34m:\u001b[0m\u001b[0;34m\u001b[0m\u001b[0;34m\u001b[0m\u001b[0m\n\u001b[0;32m-> 1532\u001b[0;31m             \u001b[0;32mreturn\u001b[0m \u001b[0mself\u001b[0m\u001b[0;34m.\u001b[0m\u001b[0m_call_impl\u001b[0m\u001b[0;34m(\u001b[0m\u001b[0;34m*\u001b[0m\u001b[0margs\u001b[0m\u001b[0;34m,\u001b[0m \u001b[0;34m**\u001b[0m\u001b[0mkwargs\u001b[0m\u001b[0;34m)\u001b[0m\u001b[0;34m\u001b[0m\u001b[0;34m\u001b[0m\u001b[0m\n\u001b[0m\u001b[1;32m   1533\u001b[0m \u001b[0;34m\u001b[0m\u001b[0m\n\u001b[1;32m   1534\u001b[0m     \u001b[0;32mdef\u001b[0m \u001b[0m_call_impl\u001b[0m\u001b[0;34m(\u001b[0m\u001b[0mself\u001b[0m\u001b[0;34m,\u001b[0m \u001b[0;34m*\u001b[0m\u001b[0margs\u001b[0m\u001b[0;34m,\u001b[0m \u001b[0;34m**\u001b[0m\u001b[0mkwargs\u001b[0m\u001b[0;34m)\u001b[0m\u001b[0;34m:\u001b[0m\u001b[0;34m\u001b[0m\u001b[0;34m\u001b[0m\u001b[0m\n",
            "\u001b[0;32m/usr/local/lib/python3.10/dist-packages/torch/nn/modules/module.py\u001b[0m in \u001b[0;36m_call_impl\u001b[0;34m(self, *args, **kwargs)\u001b[0m\n\u001b[1;32m   1539\u001b[0m                 \u001b[0;32mor\u001b[0m \u001b[0m_global_backward_pre_hooks\u001b[0m \u001b[0;32mor\u001b[0m \u001b[0m_global_backward_hooks\u001b[0m\u001b[0;34m\u001b[0m\u001b[0;34m\u001b[0m\u001b[0m\n\u001b[1;32m   1540\u001b[0m                 or _global_forward_hooks or _global_forward_pre_hooks):\n\u001b[0;32m-> 1541\u001b[0;31m             \u001b[0;32mreturn\u001b[0m \u001b[0mforward_call\u001b[0m\u001b[0;34m(\u001b[0m\u001b[0;34m*\u001b[0m\u001b[0margs\u001b[0m\u001b[0;34m,\u001b[0m \u001b[0;34m**\u001b[0m\u001b[0mkwargs\u001b[0m\u001b[0;34m)\u001b[0m\u001b[0;34m\u001b[0m\u001b[0;34m\u001b[0m\u001b[0m\n\u001b[0m\u001b[1;32m   1542\u001b[0m \u001b[0;34m\u001b[0m\u001b[0m\n\u001b[1;32m   1543\u001b[0m         \u001b[0;32mtry\u001b[0m\u001b[0;34m:\u001b[0m\u001b[0;34m\u001b[0m\u001b[0;34m\u001b[0m\u001b[0m\n",
            "\u001b[0;32m/usr/local/lib/python3.10/dist-packages/torch/nn/modules/conv.py\u001b[0m in \u001b[0;36mforward\u001b[0;34m(self, input)\u001b[0m\n\u001b[1;32m    458\u001b[0m \u001b[0;34m\u001b[0m\u001b[0m\n\u001b[1;32m    459\u001b[0m     \u001b[0;32mdef\u001b[0m \u001b[0mforward\u001b[0m\u001b[0;34m(\u001b[0m\u001b[0mself\u001b[0m\u001b[0;34m,\u001b[0m \u001b[0minput\u001b[0m\u001b[0;34m:\u001b[0m \u001b[0mTensor\u001b[0m\u001b[0;34m)\u001b[0m \u001b[0;34m->\u001b[0m \u001b[0mTensor\u001b[0m\u001b[0;34m:\u001b[0m\u001b[0;34m\u001b[0m\u001b[0;34m\u001b[0m\u001b[0m\n\u001b[0;32m--> 460\u001b[0;31m         \u001b[0;32mreturn\u001b[0m \u001b[0mself\u001b[0m\u001b[0;34m.\u001b[0m\u001b[0m_conv_forward\u001b[0m\u001b[0;34m(\u001b[0m\u001b[0minput\u001b[0m\u001b[0;34m,\u001b[0m \u001b[0mself\u001b[0m\u001b[0;34m.\u001b[0m\u001b[0mweight\u001b[0m\u001b[0;34m,\u001b[0m \u001b[0mself\u001b[0m\u001b[0;34m.\u001b[0m\u001b[0mbias\u001b[0m\u001b[0;34m)\u001b[0m\u001b[0;34m\u001b[0m\u001b[0;34m\u001b[0m\u001b[0m\n\u001b[0m\u001b[1;32m    461\u001b[0m \u001b[0;34m\u001b[0m\u001b[0m\n\u001b[1;32m    462\u001b[0m \u001b[0;32mclass\u001b[0m \u001b[0mConv3d\u001b[0m\u001b[0;34m(\u001b[0m\u001b[0m_ConvNd\u001b[0m\u001b[0;34m)\u001b[0m\u001b[0;34m:\u001b[0m\u001b[0;34m\u001b[0m\u001b[0;34m\u001b[0m\u001b[0m\n",
            "\u001b[0;32m/usr/local/lib/python3.10/dist-packages/torch/nn/modules/conv.py\u001b[0m in \u001b[0;36m_conv_forward\u001b[0;34m(self, input, weight, bias)\u001b[0m\n\u001b[1;32m    454\u001b[0m                             \u001b[0mweight\u001b[0m\u001b[0;34m,\u001b[0m \u001b[0mbias\u001b[0m\u001b[0;34m,\u001b[0m \u001b[0mself\u001b[0m\u001b[0;34m.\u001b[0m\u001b[0mstride\u001b[0m\u001b[0;34m,\u001b[0m\u001b[0;34m\u001b[0m\u001b[0;34m\u001b[0m\u001b[0m\n\u001b[1;32m    455\u001b[0m                             _pair(0), self.dilation, self.groups)\n\u001b[0;32m--> 456\u001b[0;31m         return F.conv2d(input, weight, bias, self.stride,\n\u001b[0m\u001b[1;32m    457\u001b[0m                         self.padding, self.dilation, self.groups)\n\u001b[1;32m    458\u001b[0m \u001b[0;34m\u001b[0m\u001b[0m\n",
            "\u001b[0;31mRuntimeError\u001b[0m: Expected all tensors to be on the same device, but found at least two devices, cpu and cuda:0! (when checking argument for argument weight in method wrapper_CUDA___slow_conv2d_forward)"
          ]
        }
      ]
    }
  ]
}