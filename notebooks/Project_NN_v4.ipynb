{
  "cells": [
    {
      "attachments": {},
      "cell_type": "markdown",
      "metadata": {
        "id": "jVidNySxvEzP"
      },
      "source": [
        "# Handwritten Recognition"
      ]
    },
    {
      "attachments": {},
      "cell_type": "markdown",
      "metadata": {
        "id": "CeqZhk77pg_Z"
      },
      "source": [
        "## Importations"
      ]
    },
    {
      "cell_type": "code",
      "execution_count": 1,
      "metadata": {
        "id": "CajD1HZLwYOo"
      },
      "outputs": [],
      "source": [
        "import os\n",
        "import cv2\n",
        "import random\n",
        "import numpy as np\n",
        "import pandas as pd\n",
        "import matplotlib.pyplot as plt\n",
        "\n",
        "import torch\n",
        "from IPython import display\n",
        "import torch.nn as nn\n",
        "import torch.nn.functional as F\n",
        "import torch.optim as optim\n",
        "from torchvision import datasets, transforms\n",
        "from torch.utils.data import Dataset, DataLoader\n",
        "from torchvision.utils import make_grid"
      ]
    },
    {
      "cell_type": "code",
      "execution_count": 2,
      "metadata": {
        "colab": {
          "base_uri": "https://localhost:8080/"
        },
        "id": "sF7T8KjwisGU",
        "outputId": "68476407-88e0-4223-db6b-5f3cd8151b13"
      },
      "outputs": [
        {
          "name": "stdout",
          "output_type": "stream",
          "text": [
            "Using device: cuda\n"
          ]
        }
      ],
      "source": [
        "assert torch.cuda.is_available(), \"GPU is not enabled\"\n",
        "\n",
        "#  use gpu if available\n",
        "device = torch.device(\"cuda\" if torch.cuda.is_available() else \"cpu\")\n",
        "print(\"Using device:\", device)"
      ]
    },
    {
      "attachments": {},
      "cell_type": "markdown",
      "metadata": {
        "id": "cvhsEf1uvJsz"
      },
      "source": [
        "## Data\n",
        "\n",
        "The data can be decomposed into different parts : the training, validation and test sets.\n",
        "\n",
        "For each set, we have a global .csv file in which we have the true label of each picture. Here, each picture is given by its name. To obtain the real image linked to this name, we have to use the train, validation or test directories, in which each image is stored."
      ]
    },
    {
      "attachments": {},
      "cell_type": "markdown",
      "metadata": {
        "id": "zwcV9GiL0uMf"
      },
      "source": [
        "### Importation of the data"
      ]
    },
    {
      "cell_type": "code",
      "execution_count": 3,
      "metadata": {
        "colab": {
          "base_uri": "https://localhost:8080/"
        },
        "id": "ZOqipGbSvBqw",
        "outputId": "c8e9c116-b9ae-4dae-a834-fbb2b0ad1963"
      },
      "outputs": [],
      "source": [
        "path = '/home/xnmaster/github-classroom/DCC-UAB/deep-learning-project-2024-ai_nndl_group_14/Inputs/'\n",
        "train = pd.read_csv(path+'written_name_train_v2.csv')\n",
        "valid = pd.read_csv(path+'written_name_validation_v2.csv')\n",
        "test = pd.read_csv(path+'written_name_test_v2.csv')"
      ]
    },
    {
      "cell_type": "code",
      "execution_count": 4,
      "metadata": {
        "colab": {
          "base_uri": "https://localhost:8080/"
        },
        "id": "c9p6Z5kVyIfe",
        "outputId": "89926ee9-c385-4b74-8432-edd0dd3eb3cb"
      },
      "outputs": [
        {
          "name": "stdout",
          "output_type": "stream",
          "text": [
            "TRAIN           FILENAME   IDENTITY\n",
            "0  TRAIN_00001.jpg  BALTHAZAR\n",
            "1  TRAIN_00002.jpg      SIMON\n",
            "2  TRAIN_00003.jpg      BENES\n",
            "3  TRAIN_00004.jpg    LA LOVE\n",
            "4  TRAIN_00005.jpg     DAPHNE \n",
            "\n",
            "VALID               FILENAME    IDENTITY\n",
            "0  VALIDATION_0001.jpg       BILEL\n",
            "1  VALIDATION_0002.jpg  LAUMIONIER\n",
            "2  VALIDATION_0003.jpg         LEA\n",
            "3  VALIDATION_0004.jpg   JEAN-ROCH\n",
            "4  VALIDATION_0005.jpg        RUPP \n",
            "\n",
            "TEST         FILENAME  IDENTITY\n",
            "0  TEST_0001.jpg     KEVIN\n",
            "1  TEST_0002.jpg  CLOTAIRE\n",
            "2  TEST_0003.jpg      LENA\n",
            "3  TEST_0004.jpg     JULES\n",
            "4  TEST_0005.jpg   CHERPIN \n",
            "\n"
          ]
        }
      ],
      "source": [
        "print(\"TRAIN\",train.head(),\"\\n\")\n",
        "print(\"VALID\",valid.head(),\"\\n\")\n",
        "print(\"TEST\",test.head(),\"\\n\")"
      ]
    },
    {
      "cell_type": "code",
      "execution_count": 5,
      "metadata": {
        "id": "GIyUX3lwBNx7"
      },
      "outputs": [],
      "source": [
        "import zipfile\n",
        "\n",
        "def extract_zipfiles(path_zip, destination):\n",
        "    with zipfile.ZipFile(path_zip, 'r') as zip_ref:\n",
        "      zip_ref.extractall(destination)\n",
        "\n",
        "    folder_images = os.listdir(destination)"
      ]
    },
    {
      "cell_type": "code",
      "execution_count": 6,
      "metadata": {
        "id": "7NAHFwML_4aq"
      },
      "outputs": [],
      "source": [
        "path_zip = '/home/xnmaster/TestMachine/'\n",
        "extract_zipfiles(path_zip+\"validation_v2.zip\", path+'/IMAGES')\n",
        "extract_zipfiles(path_zip+\"train_v2.zip\", path+'/IMAGES')\n",
        "extract_zipfiles(path_zip+\"test_v2.zip\", path+'/IMAGES')"
      ]
    },
    {
      "cell_type": "code",
      "execution_count": 6,
      "metadata": {
        "colab": {
          "base_uri": "https://localhost:8080/",
          "height": 54
        },
        "id": "FDt1yzWHypOw",
        "outputId": "fa63bda8-5415-4c50-8f3d-47eeba8d3403"
      },
      "outputs": [
        {
          "data": {
            "image/png": "[encoded data removed]",
            "text/plain": [
              "<Figure size 1500x1000 with 6 Axes>"
            ]
          },
          "metadata": {},
          "output_type": "display_data"
        }
      ],
      "source": [
        "# Let's visualize the images of the dataset\n",
        "plt.figure(figsize=(15, 10))\n",
        "\n",
        "for i in range(6):\n",
        "    ax = plt.subplot(2, 3, i+1)\n",
        "    # We select the pah of the image\n",
        "    img_dir = path+'/validation/'+valid.loc[i, 'FILENAME']\n",
        "    # We read the image\n",
        "    image = cv2.imread(img_dir, cv2.IMREAD_GRAYSCALE)\n",
        "    # We show it\n",
        "    plt.imshow(image, cmap = 'gray')\n",
        "    plt.title(valid.loc[i, 'IDENTITY'], fontsize=12)\n",
        "    plt.axis('off')\n",
        "\n",
        "plt.subplots_adjust(wspace=0.2, hspace=-0.8)"
      ]
    },
    {
      "attachments": {},
      "cell_type": "markdown",
      "metadata": {
        "id": "AXsbvipk0wyk"
      },
      "source": [
        "### Cleaning the data"
      ]
    },
    {
      "cell_type": "code",
      "execution_count": 7,
      "metadata": {
        "colab": {
          "base_uri": "https://localhost:8080/"
        },
        "id": "znsCBW020ylX",
        "outputId": "5d02f291-c675-48e5-9c1d-6574f21c860b"
      },
      "outputs": [
        {
          "name": "stdout",
          "output_type": "stream",
          "text": [
            "In train set, there are :  565 NaN values.\n",
            "In validation set, there are :  78 NaN values.\n",
            "In test set, there are :  70 NaN values.\n"
          ]
        }
      ],
      "source": [
        "print(\"In train set, there are : \", train['IDENTITY'].isnull().sum(), \"NaN values.\")\n",
        "print(\"In validation set, there are : \", valid['IDENTITY'].isnull().sum(), \"NaN values.\")\n",
        "print(\"In test set, there are : \", test['IDENTITY'].isnull().sum(), \"NaN values.\")\n",
        "\n",
        "# We delete those elements\n",
        "train.dropna(axis=0, inplace=True)\n",
        "valid.dropna(axis=0, inplace=True)\n",
        "test.dropna(axis=0, inplace=True)"
      ]
    },
    {
      "attachments": {},
      "cell_type": "markdown",
      "metadata": {
        "id": "n-o8v6tp7Ho6"
      },
      "source": [
        "In the 3 datasets, there is another type of problem in the data. In fact, some elements are considered as \"non-readable\". Hence, we cannot use those images in our training since the label is unknown. Then, we are going to delete those images also.\n",
        "\n",
        "We can print some examples fo this type of images."
      ]
    },
    {
      "cell_type": "code",
      "execution_count": 9,
      "metadata": {
        "colab": {
          "base_uri": "https://localhost:8080/",
          "height": 54
        },
        "id": "AbZEi0fs7bde",
        "outputId": "5e143b64-4c52-44b5-a426-d452d4cec8d4"
      },
      "outputs": [
        {
          "data": {
            "image/png": "[encoded data removed]",
            "text/plain": [
              "<Figure size 1500x1000 with 6 Axes>"
            ]
          },
          "metadata": {},
          "output_type": "display_data"
        }
      ],
      "source": [
        "unreadable = train[train['IDENTITY'] == 'UNREADABLE']\n",
        "unreadable.reset_index(inplace = True, drop=True)\n",
        "\n",
        "plt.figure(figsize=(15, 10))\n",
        "\n",
        "for i in range(6):\n",
        "    ax = plt.subplot(2, 3, i+1)\n",
        "    img_dir = path+'/train/'+unreadable.loc[i, 'FILENAME']\n",
        "    image = cv2.imread(img_dir, cv2.IMREAD_GRAYSCALE)\n",
        "\n",
        "    plt.imshow(image, cmap = 'gray')\n",
        "    plt.title(unreadable.loc[i, 'IDENTITY'], fontsize=12)\n",
        "    plt.axis('off')\n",
        "\n",
        "plt.subplots_adjust(wspace=0.2, hspace=-0.8)"
      ]
    },
    {
      "cell_type": "code",
      "execution_count": 10,
      "metadata": {
        "id": "cwjqawCT7z49"
      },
      "outputs": [],
      "source": [
        "train = train[train['IDENTITY'] != 'UNREADABLE']\n",
        "valid = valid[valid['IDENTITY'] != 'UNREADABLE']\n",
        "test = test[test['IDENTITY'] != 'UNREADABLE']"
      ]
    },
    {
      "cell_type": "code",
      "execution_count": 11,
      "metadata": {
        "id": "DaNoR6d38AYN"
      },
      "outputs": [],
      "source": [
        "# Last changes in the data\n",
        "## Put all the labels into lower case letters\n",
        "train['IDENTITY'] = train['IDENTITY'].str.upper()\n",
        "valid['IDENTITY'] = valid['IDENTITY'].str.upper()\n",
        "test['IDENTITY'] = test['IDENTITY'].str.upper()\n",
        "\n",
        "## Reset the indexes of the\n",
        "train.reset_index(inplace = True, drop=True)\n",
        "valid.reset_index(inplace = True, drop=True)\n",
        "test.reset_index(inplace = True, drop=True)"
      ]
    },
    {
      "attachments": {},
      "cell_type": "markdown",
      "metadata": {
        "id": "hk17i0d48X2p"
      },
      "source": [
        "### Preprocessing the dataset"
      ]
    },
    {
      "attachments": {},
      "cell_type": "markdown",
      "metadata": {
        "id": "flThYNfD8hLr"
      },
      "source": [
        "Some images are not in the same shape. Then, we have to uniformized the shape of each image of the datasets. Here, we will consider images of 256x64 pixels.\n",
        "\n",
        "Then, if the dimensions of an image is bigger than those numbers, the width/height are cropped, and if the shape is smaller, we apply a padding with white pixels.\n",
        "\n",
        "Finally the image is rotated clockwise to bring the image shape to (x, y), and is then normalized to range [0, 1]."
      ]
    },
    {
      "cell_type": "code",
      "execution_count": 12,
      "metadata": {
        "id": "k58L4CJJ8aDn"
      },
      "outputs": [],
      "source": [
        "def preprocess(img):\n",
        "    # We get the sape of the current image\n",
        "    (h, w) = img.shape\n",
        "    # We initialize our new image\n",
        "    final_img = np.ones([64, 256])*255\n",
        "\n",
        "    # If the current image is too big (bigger height/width), we crop it\n",
        "    if w > 256:\n",
        "        img = img[:, :256]\n",
        "    if h > 64:\n",
        "        img = img[:64, :]\n",
        "\n",
        "    # We put the cropped image into our new image\n",
        "    final_img[:h, :w] = img\n",
        "    # We apply the rotation\n",
        "    return cv2.rotate(final_img, cv2.ROTATE_90_CLOCKWISE)"
      ]
    },
    {
      "cell_type": "code",
      "execution_count": 13,
      "metadata": {
        "id": "-Ab5P8dm9vJE"
      },
      "outputs": [],
      "source": [
        "def create_dataset(train_size,valid_size):\n",
        "  train_images = []\n",
        "  valid_images = []\n",
        "\n",
        "  for i in range(train_size):\n",
        "      img_train = path+'/train/'+train.loc[i, 'FILENAME']\n",
        "      image_train = cv2.imread(img_train, cv2.IMREAD_GRAYSCALE)\n",
        "      image_train = preprocess(image_train)\n",
        "      image_train = image_train/255.\n",
        "      train_images.append(image_train)\n",
        "\n",
        "      if i < valid_size:\n",
        "        img_valid = path+'/validation/'+valid.loc[i, 'FILENAME']\n",
        "        image_valid = cv2.imread(img_valid, cv2.IMREAD_GRAYSCALE)\n",
        "        image_valid = preprocess(image)\n",
        "        image_valid = image_valid/255.\n",
        "        valid_images.append(image_valid)\n",
        "\n",
        "\n",
        "\n",
        "  train_images = np.array(train_images).reshape(-1, 256, 64, 1)\n",
        "  valid_images = np.array(valid_images).reshape(-1, 256, 64, 1)\n",
        "\n",
        "  return train_images, valid_images"
      ]
    },
    {
      "cell_type": "code",
      "execution_count": 14,
      "metadata": {
        "id": "xPvTrYVk9p6N"
      },
      "outputs": [],
      "source": [
        "train_size = 30080\n",
        "valid_size= 3200\n",
        "\n",
        "train_images, valid_images = create_dataset(train_size, valid_size)\n",
        "train_images = train_images.astype(np.float32)\n",
        "valid_images = valid_images.astype(np.float32)"
      ]
    },
    {
      "attachments": {},
      "cell_type": "markdown",
      "metadata": {
        "id": "FblW_Ln0EJEC"
      },
      "source": [
        "The labels have to be converted to numbers which represent each character in the training set. We will here create an alphabet, which consist of A-Z letters and three special characters : <->, <'> and < >."
      ]
    },
    {
      "cell_type": "code",
      "execution_count": 15,
      "metadata": {
        "colab": {
          "base_uri": "https://localhost:8080/"
        },
        "id": "AeNykbck2fsI",
        "outputId": "b0c9bab3-500b-406a-b63f-9aa39dd82d52"
      },
      "outputs": [
        {
          "name": "stdout",
          "output_type": "stream",
          "text": [
            "7\n"
          ]
        }
      ],
      "source": [
        "labels = train['IDENTITY']\n",
        "max_word = 0\n",
        "for word in labels:\n",
        "  l = len(word)\n",
        "  if l > max_word:\n",
        "    max_word = l\n",
        "\n",
        "print(l)"
      ]
    },
    {
      "attachments": {},
      "cell_type": "markdown",
      "metadata": {
        "id": "826maIpD3cfO"
      },
      "source": [
        "The maximum word's length over our whole dataset is 7."
      ]
    },
    {
      "cell_type": "code",
      "execution_count": 16,
      "metadata": {
        "id": "sc9Gg7BdEWNQ"
      },
      "outputs": [],
      "source": [
        "alphabets = u\" ABCDEFGHIJKLMNOPQRSTUVWXYZ-'\"\n",
        "max_str_len = 24 # max length of input labels\n",
        "\n",
        "num_of_characters = len(alphabets) + 1 # +1 for ctc pseudo blank\n",
        "num_of_timestamps = 64 # max length of predicted labels\n",
        "\n",
        "def label_to_num(label):\n",
        "    # We initialize the output vector\n",
        "    label_num = []\n",
        "    # For each character of the label, we add the corresponding number\n",
        "    for ch in label:\n",
        "        label_num.append(alphabets.find(ch))\n",
        "\n",
        "    return np.array(label_num)\n",
        "\n",
        "def num_to_label(num):\n",
        "    # We initialize the output string\n",
        "    ret = \"\"\n",
        "    # For each number, we add the element of the alphabet at that position\n",
        "    for ch in num:\n",
        "        if ch == -1:  # CTC Blank\n",
        "            break\n",
        "        else:\n",
        "            ret+=alphabets[ch]\n",
        "    return ret"
      ]
    },
    {
      "attachments": {},
      "cell_type": "markdown",
      "metadata": {
        "id": "zB312jaFFKZ_"
      },
      "source": [
        "Now, we can test if our last functions work properly.\n"
      ]
    },
    {
      "cell_type": "code",
      "execution_count": 21,
      "metadata": {
        "colab": {
          "base_uri": "https://localhost:8080/"
        },
        "id": "d2i8phLSFPoW",
        "outputId": "84e4cd7f-4ff5-4af8-dcd9-9036d4658f3d"
      },
      "outputs": [
        {
          "name": "stdout",
          "output_type": "stream",
          "text": [
            "DAVID  :  [ 4  1 22  9  4]\n",
            "[ 4  1 22  9  4]  :  DAVID\n"
          ]
        }
      ],
      "source": [
        "name = 'DAVID'\n",
        "print(name, \" : \", label_to_num(name))\n",
        "print(label_to_num(name), \" : \", num_to_label(label_to_num(name)) )"
      ]
    },
    {
      "attachments": {},
      "cell_type": "markdown",
      "metadata": {
        "id": "d04_zeCzFP_N"
      },
      "source": [
        "Now, let's create certain lists, that will be useful for the training:\n",
        "- *train_y* : contains the true labels converted to numbers and padded with -1.\n",
        "- *max_str_len* : length of each label\n",
        "- *train_label_len* : contains the length of each true label (without padding)\n",
        "- *train_input_len* : contains the length of each predicted label\n",
        "- *train_output* : a dummy output for ctc loss."
      ]
    },
    {
      "cell_type": "code",
      "execution_count": 17,
      "metadata": {
        "id": "TTlj_LsZFzKJ"
      },
      "outputs": [],
      "source": [
        "train_y = np.ones([train_size, max_str_len]) * -1\n",
        "train_label_len = np.zeros([train_size, 1])\n",
        "train_input_len = np.ones([train_size, 1]) * (num_of_timestamps)\n",
        "\n",
        "for i in range(train_size):\n",
        "    train_label_len[i] = len(train.loc[i, 'IDENTITY'])\n",
        "    train_y[i, 0:len(train.loc[i, 'IDENTITY'])]= label_to_num(train.loc[i, 'IDENTITY'])\n",
        "\n",
        "train_y = train_y.astype(int)\n",
        "train_label_len = train_label_len.astype(int)\n",
        "train_input_len = train_input_len.astype(int)\n",
        "\n",
        "train_label_len = torch.from_numpy(train_label_len)\n",
        "train_input_len = torch.from_numpy(train_input_len)"
      ]
    },
    {
      "cell_type": "code",
      "execution_count": 18,
      "metadata": {
        "id": "qhR6SdY2F10A"
      },
      "outputs": [],
      "source": [
        "valid_y = np.ones([valid_size, max_str_len]) * -1\n",
        "valid_label_len = np.zeros([valid_size, 1])\n",
        "valid_input_len = np.ones([valid_size, 1]) * (num_of_timestamps)\n",
        "\n",
        "for i in range(valid_size):\n",
        "    valid_label_len[i] = len(valid.loc[i, 'IDENTITY'])\n",
        "    valid_y[i, 0:len(valid.loc[i, 'IDENTITY'])]= label_to_num(valid.loc[i, 'IDENTITY'])\n",
        "\n",
        "valid_y = valid_y.astype(int)\n",
        "valid_label_len = valid_label_len.astype(int)\n",
        "valid_input_len = valid_input_len.astype(int)\n",
        "\n",
        "valid_images,valid_y,valid_label_len,valid_input_len\n",
        "\n",
        "\n",
        "valid_label_len = torch.from_numpy(valid_label_len)\n",
        "valid_input_len = torch.from_numpy(valid_input_len)"
      ]
    },
    {
      "cell_type": "code",
      "execution_count": 19,
      "metadata": {
        "id": "uM8_5zs_8n43"
      },
      "outputs": [],
      "source": [
        "class HandWrittenDataset(Dataset):\n",
        "  def __init__(self, images, labels, transform=None):\n",
        "    self.images = images\n",
        "    self.labels = labels\n",
        "    self.transform = transform\n",
        "\n",
        "  def __len__(self):\n",
        "    return len(self.images)\n",
        "\n",
        "  def __getitem__(self,idx):\n",
        "    image = self.images[idx]\n",
        "    label = self.labels[idx]\n",
        "\n",
        "    if self.transform:\n",
        "      image = self.transform(image)\n",
        "\n",
        "    return image, label"
      ]
    },
    {
      "cell_type": "code",
      "execution_count": 20,
      "metadata": {
        "id": "mOdbfmneIRt3"
      },
      "outputs": [],
      "source": [
        "transform = transforms.Compose([transforms.ToTensor()])\n",
        "train_dataset = HandWrittenDataset(train_images, train_y, transform=transform)\n",
        "valid_dataset = HandWrittenDataset(valid_images, valid_y, transform=transform)\n",
        "\n",
        "train_loader = DataLoader(train_dataset, batch_size=128, shuffle=False)\n",
        "valid_loader = DataLoader(valid_dataset, batch_size=128, shuffle=False)"
      ]
    },
    {
      "attachments": {},
      "cell_type": "markdown",
      "metadata": {
        "id": "tYVSpupHF6qp"
      },
      "source": [
        "## First model"
      ]
    },
    {
      "cell_type": "code",
      "execution_count": 21,
      "metadata": {
        "id": "RChh3t11-O6J"
      },
      "outputs": [],
      "source": [
        "# function to count number of parameters\n",
        "def get_n_params(model):\n",
        "    np=0\n",
        "    for p in list(model.parameters()):\n",
        "        np += p.numel()\n",
        "    return np"
      ]
    },
    {
      "cell_type": "code",
      "execution_count": 22,
      "metadata": {
        "id": "6URxVz_5F8IL"
      },
      "outputs": [],
      "source": [
        "class CRNN(nn.Module):\n",
        "    def __init__(self, rnn_input_dim, rnn_hidden_dim, n_rnn_layers, output_dim, drop_prob=0.):\n",
        "        super(CRNN, self).__init__()\n",
        "        self.rnn_input_dim = rnn_input_dim\n",
        "        self.rnn_hidden_dim = rnn_hidden_dim\n",
        "        self.n_rnn_layers = n_rnn_layers\n",
        "        self.output_dim = output_dim\n",
        "\n",
        "        self.conv1 = nn.Conv2d(in_channels=1, out_channels=32, kernel_size=3, padding='same')\n",
        "        self.norm1 = nn.BatchNorm2d(32)\n",
        "        #nn.init.xavier_uniform_(self.conv1.weight)\n",
        "        nn.init.kaiming_normal_(self.conv1.weight, mode='fan_in',nonlinearity='relu')\n",
        "\n",
        "        self.conv2 = nn.Conv2d(in_channels=32, out_channels=64, kernel_size=3, padding='same')\n",
        "        self.norm2 = nn.BatchNorm2d(64)\n",
        "        #nn.init.xavier_uniform_(self.conv2.weight)\n",
        "        nn.init.kaiming_normal_(self.conv2.weight, mode='fan_in',nonlinearity='relu')\n",
        "        self.dropout2 = nn.Dropout2d(p=drop_prob)\n",
        "\n",
        "        self.conv3 = nn.Conv2d(in_channels=64, out_channels=128, kernel_size=3, padding='same')\n",
        "        self.norm3 = nn.BatchNorm2d(128)\n",
        "        #nn.init.xavier_uniform_(self.conv3.weight)\n",
        "        nn.init.kaiming_normal_(self.conv3.weight, mode='fan_in',nonlinearity='relu')\n",
        "        self.dropout3 = nn.Dropout2d(p=drop_prob)\n",
        "\n",
        "        self.maxpool = nn.MaxPool2d(kernel_size=2)\n",
        "        self.maxpool2 = nn.MaxPool2d(kernel_size=(1,2))\n",
        "\n",
        "        self.rnn = nn.LSTM(rnn_input_dim, rnn_hidden_dim, n_rnn_layers, batch_first=True, bidirectional=True, dropout=drop_prob)\n",
        "        #for name, param in self.rnn.named_parameters():\n",
        "         # if 'weight' in name:\n",
        "          #  nn.init.xavier_uniform_(param)\n",
        "\n",
        "        self.fc1 = nn.Linear(1024, rnn_input_dim)\n",
        "        nn.init.kaiming_normal_(self.fc1.weight, mode='fan_in',nonlinearity='relu')\n",
        "\n",
        "        self.fc2 = nn.Linear(n_rnn_layers*rnn_hidden_dim, output_dim)\n",
        "        nn.init.kaiming_normal_(self.fc2.weight, mode='fan_in',nonlinearity='relu')\n",
        "\n",
        "\n",
        "    def forward(self, x, h, c=None):  # Size : b,  1, 256, 64\n",
        "        x = self.conv1(x)             # Size : b, 32, 256, 64\n",
        "        x = self.norm1(x)             # Size : b, 32, 256, 64\n",
        "        x = F.relu(x)                 # Size : b, 32, 256, 64\n",
        "        x = self.maxpool(x)           # Size : b, 32, 128, 32\n",
        "\n",
        "        x = self.conv2(x)             # Size : b, 64, 128, 32\n",
        "        x = self.norm2(x)             # Size : b, 64, 128, 32\n",
        "        x = F.relu(x)                 # Size : b, 64, 128, 32\n",
        "        x = self.maxpool(x)           # Size : b, 64,  64, 16\n",
        "        x = self.dropout2(x)\n",
        "\n",
        "        x = self.conv3(x)             # Size : b, 128, 64, 16\n",
        "        x = self.norm3(x)             # Size : b, 128, 64, 16\n",
        "        x = F.relu(x)                 # Size : b, 128, 64, 16\n",
        "        x = self.maxpool2(x)          # Size : b, 128, 64,  8\n",
        "        x = self.dropout3(x)\n",
        "\n",
        "        x = x.reshape((x.shape[0], 64, 1024)) # Size : b, 64, 1024\n",
        "\n",
        "        x = self.fc1(x)               # Size : b,  64, 64\n",
        "        x = F.relu(x)                 # Size : b,  64, 64\n",
        "        #x = x.reshape((x.shape[0],64,64))  # Size : b, 64, 64\n",
        "\n",
        "        x, (h, c) = self.rnn(x, (h, c))    # Size : b, 64, 1024\n",
        "\n",
        "        x = self.fc2(x)               # Size : b, 64, 30\n",
        "        x = F.log_softmax(x, dim=1)\n",
        "        return x, h, c\n",
        "\n",
        "    def init_hidden(self, batch_size):\n",
        "        #Initialize the hidden state of the RNN to zeros\n",
        "        weight = next(self.parameters()).data\n",
        "        return weight.new(2*self.n_rnn_layers, batch_size, self.rnn_hidden_dim).zero_().cuda(), weight.new(2*self.n_rnn_layers, batch_size, self.rnn_hidden_dim).zero_().cuda()"
      ]
    },
    {
      "cell_type": "code",
      "execution_count": 28,
      "metadata": {
        "id": "oazduORaE70s"
      },
      "outputs": [],
      "source": [
        "def gradient_clipping(model, min, max):\n",
        "  for name, param in model.named_parameters():\n",
        "    if param.grad is not None:\n",
        "      param.grad.data = torch.clamp(param.grad.data, min=min, max=max)\n",
        "      param.grad.data[param.grad.data.abs() < min] = min"
      ]
    },
    {
      "cell_type": "code",
      "execution_count": 23,
      "metadata": {
        "id": "znhxaRVZwYHd"
      },
      "outputs": [],
      "source": [
        "def decode(pred,batch_size,str_len):\n",
        "  decoded_batch = np.ones((batch_size,str_len),dtype=int)*(-1)\n",
        "  blank=0\n",
        "\n",
        "  for b in range(batch_size):\n",
        "    previous_letter = blank\n",
        "    index=0\n",
        "    for k in range(str_len):\n",
        "      letter = pred[b,k]\n",
        "      if letter != previous_letter and letter != blank:\n",
        "        decoded_batch[b,index] = letter.item()\n",
        "        previous_letter = letter\n",
        "        index+=1\n",
        "\n",
        "  return decoded_batch"
      ]
    },
    {
      "cell_type": "code",
      "execution_count": 24,
      "metadata": {
        "id": "qwm2mbef9jPO"
      },
      "outputs": [],
      "source": [
        "@torch.no_grad()  # prevent this function from computing gradients\n",
        "def validate(criterion, model, loader, batch_size):\n",
        "\n",
        "    val_loss = 0\n",
        "    correct_words = 0\n",
        "    correct_letters = 0\n",
        "    n_letters = 0\n",
        "\n",
        "    model.eval()\n",
        "\n",
        "    for batch, (data, target) in enumerate(loader):\n",
        "        h_state, c_state = model.init_hidden(batch_size)\n",
        "\n",
        "        h_state = h_state.to(device)\n",
        "\n",
        "        if c_state is not None:\n",
        "          c_state = c_state.to(device)\n",
        "\n",
        "\n",
        "        data, target = data.to(device), target.to(device)\n",
        "\n",
        "        output, h_state, c_state = model(data, h_state, c_state)\n",
        "\n",
        "        #input_lengths = torch.full(size=(batch_size,), fill_value=30, dtype=torch.long)\n",
        "        #target_lengths = torch.full(size=(batch_size,), fill_value=1, dtype=torch.long)\n",
        "\n",
        "        target_lengths = valid_label_len[(batch*batch_size):((batch+1)*batch_size)]\n",
        "        input_lengths = valid_input_len[(batch*batch_size):((batch+1)*batch_size)]\n",
        "\n",
        "        loss = criterion(output.transpose(0, 1), target, input_lengths, target_lengths)\n",
        "\n",
        "        val_loss += loss.item()\n",
        "        #print(loss.item())\n",
        "        _, pred = torch.max(output.data,dim=2)\n",
        "\n",
        "        pred = decode(pred,batch_size,24)\n",
        "        target = target.cpu().numpy()\n",
        "\n",
        "        correct_words += np.sum(np.sum((abs(target-pred)),axis=1)==0)\n",
        "        correct_letters += np.sum(abs(target-pred)==0, where=(target!=-1))\n",
        "\n",
        "        n_letters += np.sum(target!=-1)\n",
        "\n",
        "    val_loss /= 25\n",
        "    accuracy_words = correct_words / len(loader.dataset)\n",
        "    accuracy_letters = correct_letters / n_letters\n",
        "    #print('\\nTest set: Average loss: {:.4f}, Word accuracy: {}/{} ({:.0f}%), Letter accuracy: {}/{} ({:.0f}%)\\n'.format(\n",
        "        #val_loss, correct_words, len(loader.dataset), accuracy_words, correct_letters, n_letters, accuracy_letters))\n",
        "\n",
        "\n",
        "    return val_loss, accuracy_words, accuracy_letters"
      ]
    },
    {
      "cell_type": "code",
      "execution_count": 25,
      "metadata": {
        "id": "T1cxPYJF7cgj"
      },
      "outputs": [],
      "source": [
        "def train_model(dataloader, model, batch_size, criterion, optimizer, num_epochs, valid_loader):\n",
        "    train_losses = []\n",
        "    valid_losses = []\n",
        "    words_acc = []\n",
        "    letters_acc = []\n",
        "\n",
        "    for epoch in range(num_epochs):\n",
        "        model.train()\n",
        "\n",
        "        for batch, (x, y) in enumerate(dataloader):\n",
        "            h_state, c_state = model.init_hidden(batch_size)\n",
        "\n",
        "            h_state = h_state.to(device)\n",
        "\n",
        "            if c_state is not None:\n",
        "                c_state = c_state.to(device)\n",
        "\n",
        "            x = x.to(device)\n",
        "            y = y.to(device)\n",
        "            optimizer.zero_grad()\n",
        "\n",
        "            y_pred, h_state, c_state = model(x, h_state, c_state)\n",
        "\n",
        "            #input_lengths = torch.full(size=(batch_size,), fill_value=30, dtype=torch.long)\n",
        "            #target_lengths = torch.full(size=(batch_size,), fill_value=1, dtype=torch.long)\n",
        "            target_lengths = train_label_len[(batch*batch_size):((batch+1)*batch_size)]\n",
        "            input_lengths = train_input_len[(batch*batch_size):((batch+1)*batch_size)]\n",
        "\n",
        "            y_pred = y_pred.transpose(1,0)\n",
        "\n",
        "            loss = criterion(y_pred, y, input_lengths, target_lengths) #.transpose(1, 2)\n",
        "            loss.backward()\n",
        "\n",
        "            # Gradient clipping\n",
        "            nn.utils.clip_grad_norm_(model.parameters(), 1)\n",
        "            #gradient_clipping(model, 0.0001, 1)\n",
        "\n",
        "            #for name, param in model.named_parameters():\n",
        "             # if param.grad is not None:\n",
        "              #  print(name, torch.mean(param.grad).item(), loss.item())\n",
        "\n",
        "            optimizer.step()\n",
        "\n",
        "            if batch%30 == 0:\n",
        "              print({ 'batch': batch, 'epoch': epoch, 'training loss': loss.item()})\n",
        "\n",
        "        val_loss, accuracy_words, accuracy_letters = validate(criterion, model, valid_loader, batch_size)\n",
        "\n",
        "        train_losses.append(loss.item())\n",
        "        valid_losses.append(val_loss)\n",
        "        words_acc.append(accuracy_words)\n",
        "        letters_acc.append(accuracy_letters)\n",
        "\n",
        "        print({ 'epoch': epoch, 'training loss': loss.item(), 'validation loss':val_loss, \"Words accuracy\":accuracy_words, \"Letters accuracy\":accuracy_letters})\n",
        "\n",
        "    return train_losses, valid_losses, words_acc, letters_acc\n"
      ]
    },
    {
      "cell_type": "code",
      "execution_count": 26,
      "metadata": {
        "colab": {
          "base_uri": "https://localhost:8080/"
        },
        "id": "A2o6swkYhvTT",
        "outputId": "6b79a2c7-9ab9-49e5-cfa1-b5af3a32b563"
      },
      "outputs": [
        {
          "name": "stdout",
          "output_type": "stream",
          "text": [
            "Number of parameters 8856606:\n"
          ]
        },
        {
          "data": {
            "text/plain": [
              "CRNN(\n",
              "  (conv1): Conv2d(1, 32, kernel_size=(3, 3), stride=(1, 1), padding=same)\n",
              "  (norm1): BatchNorm2d(32, eps=1e-05, momentum=0.1, affine=True, track_running_stats=True)\n",
              "  (conv2): Conv2d(32, 64, kernel_size=(3, 3), stride=(1, 1), padding=same)\n",
              "  (norm2): BatchNorm2d(64, eps=1e-05, momentum=0.1, affine=True, track_running_stats=True)\n",
              "  (dropout2): Dropout2d(p=0.3, inplace=False)\n",
              "  (conv3): Conv2d(64, 128, kernel_size=(3, 3), stride=(1, 1), padding=same)\n",
              "  (norm3): BatchNorm2d(128, eps=1e-05, momentum=0.1, affine=True, track_running_stats=True)\n",
              "  (dropout3): Dropout2d(p=0.3, inplace=False)\n",
              "  (maxpool): MaxPool2d(kernel_size=2, stride=2, padding=0, dilation=1, ceil_mode=False)\n",
              "  (maxpool2): MaxPool2d(kernel_size=(1, 2), stride=(1, 2), padding=0, dilation=1, ceil_mode=False)\n",
              "  (rnn): LSTM(64, 512, num_layers=2, batch_first=True, dropout=0.3, bidirectional=True)\n",
              "  (fc1): Linear(in_features=1024, out_features=64, bias=True)\n",
              "  (fc2): Linear(in_features=1024, out_features=30, bias=True)\n",
              ")"
            ]
          },
          "execution_count": 26,
          "metadata": {},
          "output_type": "execute_result"
        }
      ],
      "source": [
        "rnn_input_dim = 64\n",
        "rnn_hidden_dim = 512\n",
        "output_dim = num_of_characters\n",
        "n_rnn_layers = 2\n",
        "drop_prob = 0.3\n",
        "\n",
        "torch.backends.cudnn.benchmark = True\n",
        "torch.manual_seed(0) # seed for reproductibility\n",
        "criterion = torch.nn.CTCLoss()\n",
        "\n",
        "model = CRNN(rnn_input_dim, rnn_hidden_dim, n_rnn_layers, output_dim, drop_prob).to(device)\n",
        "optimizer = optim.Adam(model.parameters(), lr=0.001, weight_decay=0.001) #\n",
        "\n",
        "print(f\"Number of parameters {get_n_params(model)}:\")\n",
        "model.to(device)"
      ]
    },
    {
      "cell_type": "code",
      "execution_count": 27,
      "metadata": {
        "colab": {
          "base_uri": "https://localhost:8080/",
          "height": 1000
        },
        "id": "_lWACgtLDWwR",
        "outputId": "b9d81edd-63f6-4805-c53a-a981e2fb1ef0"
      },
      "outputs": [
        {
          "name": "stdout",
          "output_type": "stream",
          "text": [
            "{'batch': 0, 'epoch': 0, 'training loss': 38.111961364746094}\n",
            "{'batch': 30, 'epoch': 0, 'training loss': 33.19546890258789}\n",
            "{'batch': 60, 'epoch': 0, 'training loss': 33.00556945800781}\n",
            "{'batch': 90, 'epoch': 0, 'training loss': 33.449371337890625}\n",
            "{'batch': 120, 'epoch': 0, 'training loss': 33.4869499206543}\n"
          ]
        },
        {
          "ename": "KeyboardInterrupt",
          "evalue": "",
          "output_type": "error",
          "traceback": [
            "\u001b[0;31m---------------------------------------------------------------------------\u001b[0m",
            "\u001b[0;31mKeyboardInterrupt\u001b[0m                         Traceback (most recent call last)",
            "Cell \u001b[0;32mIn[27], line 4\u001b[0m\n\u001b[1;32m      1\u001b[0m batch_size \u001b[39m=\u001b[39m \u001b[39m128\u001b[39m\n\u001b[1;32m      2\u001b[0m num_epochs \u001b[39m=\u001b[39m \u001b[39m5\u001b[39m\n\u001b[0;32m----> 4\u001b[0m train_loss, valid_loss, words_acc, letters_acc \u001b[39m=\u001b[39m train_model(train_loader, model, batch_size, criterion, optimizer, num_epochs, valid_loader)\n\u001b[1;32m      6\u001b[0m plt\u001b[39m.\u001b[39mplot(train_loss, label\u001b[39m=\u001b[39m\u001b[39m\"\u001b[39m\u001b[39mtraining loss\u001b[39m\u001b[39m\"\u001b[39m)\n\u001b[1;32m      7\u001b[0m plt\u001b[39m.\u001b[39mplot(valid_loss,label\u001b[39m=\u001b[39m\u001b[39m\"\u001b[39m\u001b[39mvalidation loss\u001b[39m\u001b[39m\"\u001b[39m)\n",
            "Cell \u001b[0;32mIn[25], line 18\u001b[0m, in \u001b[0;36mtrain_model\u001b[0;34m(dataloader, model, batch_size, criterion, optimizer, num_epochs, valid_loader)\u001b[0m\n\u001b[1;32m     15\u001b[0m \u001b[39mif\u001b[39;00m c_state \u001b[39mis\u001b[39;00m \u001b[39mnot\u001b[39;00m \u001b[39mNone\u001b[39;00m:\n\u001b[1;32m     16\u001b[0m     c_state \u001b[39m=\u001b[39m c_state\u001b[39m.\u001b[39mto(device)\n\u001b[0;32m---> 18\u001b[0m x \u001b[39m=\u001b[39m x\u001b[39m.\u001b[39;49mto(device)\n\u001b[1;32m     19\u001b[0m y \u001b[39m=\u001b[39m y\u001b[39m.\u001b[39mto(device)\n\u001b[1;32m     20\u001b[0m optimizer\u001b[39m.\u001b[39mzero_grad()\n",
            "\u001b[0;31mKeyboardInterrupt\u001b[0m: "
          ]
        },
        {
          "name": "stderr",
          "output_type": "stream",
          "text": [
            "Bad pipe message: %s [b'x\\x06op\\x82\\x03vl\\x1a\\x9d\\x88\\x81\\xb4\\xe0XQ\\xecY \\xeajhN\\x9f\\t\\xae\\xb8\\xa8b\\x1e\\xf4:}\\xac\\x807\\xc7\\x98\\x1d\\x9e\\xbd\\x94\\xe2/\\x19\\x8bC_\\xa6ac\\x00\\x08\\x13\\x02\\x13\\x03\\x13\\x01\\x00\\xff\\x01\\x00\\x00\\x8f\\x00\\x00\\x00\\x0e\\x00\\x0c\\x00\\x00\\t127.0.0.1\\x00\\x0b\\x00\\x04\\x03\\x00\\x01\\x02\\x00\\n\\x00\\x0c\\x00\\n\\x00\\x1d\\x00\\x17\\x00\\x1e\\x00\\x19\\x00\\x18\\x00#\\x00\\x00\\x00\\x16\\x00\\x00\\x00\\x17\\x00\\x00\\x00\\r\\x00\\x1e\\x00\\x1c\\x04\\x03\\x05\\x03\\x06\\x03', b'\\x08\\x08\\x08\\t\\x08\\n\\x08', b'\\x04\\x08\\x05\\x08\\x06\\x04\\x01\\x05\\x01\\x06']\n",
            "Bad pipe message: %s [b'']\n",
            "Bad pipe message: %s [b\"\\x03\\x02\\x03\\x04\\x00-\\x00\\x02\\x01\\x01\\x003\\x00&\\x00$\\x00\\x1d\\x00 w\\x95T\\x04'\\xe2\\xf0\\x1e\\x1avK\\x15\\xa3pw\\xc6\\x91\\x9cAA\\xee\\xd3\"]\n",
            "Bad pipe message: %s [b'\\x12\\xa4?\\xb4\\x9f\\xa7*\\xeb%\\xa7l@\\x91Y\\xe9\\x82\\x17\\x95\\x00\\x00\\xa6\\xc0,\\xc00\\x00\\xa3\\x00\\x9f\\xcc\\xa9\\xcc\\xa8\\xcc\\xaa\\xc0\\xaf\\xc0\\xad\\xc0\\xa3\\xc0\\x9f\\xc0]\\xc0a\\xc0W\\xc0S\\xc0+\\xc0/\\x00\\xa2\\x00\\x9e\\xc0\\xae\\xc0\\xac\\xc0\\xa2\\xc0\\x9e\\xc0\\\\\\xc0`\\xc0']\n",
            "Bad pipe message: %s [b\"R\\xc0$\\xc0(\\x00k\\x00j\\xc0s\\xc0w\\x00\\xc4\\x00\\xc3\\xc0#\\xc0'\\x00g\\x00@\\xc0r\\xc0v\\x00\\xbe\\x00\\xbd\\xc0\\n\\xc0\\x14\\x009\\x008\\x00\\x88\\x00\\x87\\xc0\\t\\xc0\\x13\\x003\\x002\\x00\\x9a\\x00\\x99\\x00E\\x00D\\xc0\\x07\\xc0\\x11\\xc0\\x08\\xc0\\x12\\x00\\x16\\x00\\x13\\x00\\x9d\\xc0\\xa1\\xc0\\x9d\\xc0Q\\x00\\x9c\\xc0\\xa0\"]\n",
            "Bad pipe message: %s [b'G#\\xcb\\xbdbNu\\x873Q\\x1e\\xf1\\xd8|\\x19\\xbb\\xb7\\xb3\\x00\\x00>\\xc0\\x14\\xc0\\n\\x009\\x008\\x007\\x006\\xc0\\x0f\\xc0\\x05\\x005\\xc0\\x13\\xc0\\t\\x003\\x002\\x001\\x000\\xc0\\x0e\\xc0\\x04\\x00/\\x00\\x9a\\x00\\x99\\x00\\x98\\x00\\x97\\x00\\x96\\x00\\x07\\xc0\\x11\\xc0\\x07\\xc0\\x0c\\xc0\\x02\\x00\\x05\\x00\\x04\\x00\\xff\\x02\\x01\\x00\\x00C\\x00\\x00\\x00\\x0e\\x00\\x0c\\x00\\x00\\t127.0.0.1\\x00\\x0b\\x00']\n",
            "Bad pipe message: %s [b'\\x8dU\\x0b=\\xbe\\x86\\xaf\\x10de\\x16\\x08\\xa5\\xb4\\xf5t\\x17`\\x00\\x00\\xa2\\xc0\\x14\\xc0\\n\\x009\\x008\\x007\\x006\\x00\\x88\\x00\\x87\\x00\\x86\\x00\\x85\\xc0\\x19\\x00:\\x00\\x89\\xc0\\x0f\\xc0\\x05\\x005\\x00\\x84\\xc0\\x13\\xc0\\t\\x003\\x002\\x001\\x000\\x00\\x9a\\x00\\x99\\x00\\x98\\x00\\x97\\x00E\\x00D\\x00C\\x00B\\xc0\\x18\\x004\\x00\\x9b\\x00F\\xc0\\x0e\\xc0\\x04\\x00/\\x00\\x96\\x00A\\x00\\x07\\xc0\\x11\\xc0\\x07\\xc0\\x16\\x00\\x18\\xc0\\x0c\\xc0\\x02\\x00\\x05\\x00\\x04\\xc0\\x12\\xc0\\x08\\x00\\x16\\x00\\x13\\x00\\x10\\x00\\r\\xc0\\x17\\x00\\x1b\\xc0\\r\\xc0\\x03\\x00\\n\\x00\\x15\\x00\\x12\\x00\\x0f\\x00\\x0c\\x00\\x1a\\x00\\t\\x00\\x14\\x00\\x11\\x00\\x19\\x00\\x08\\x00\\x06\\x00\\x17\\x00\\x03\\xc0\\x10\\xc0\\x06\\xc0\\x15\\xc0\\x0b\\xc0\\x01\\x00', b'\\x01']\n",
            "Bad pipe message: %s [b']mIM\\xd3[\\xf1x\\xbd-\"E\\xaaV\\x1a\\x83\\xbb\\x95\\x00\\x00\\xf4\\xc00\\xc0,\\xc0(\\xc0$\\xc0\\x14\\xc0\\n\\x00\\xa5\\x00\\xa3\\x00\\xa1\\x00\\x9f\\x00k\\x00j\\x00i\\x00h\\x009\\x008\\x007\\x006\\x00\\x88\\x00\\x87\\x00\\x86\\x00\\x85\\xc0\\x19\\x00\\xa7\\x00m\\x00:\\x00\\x89\\xc02\\xc0.\\xc0*\\xc0&\\xc0\\x0f\\xc0\\x05\\x00\\x9d\\x00=\\x005\\x00\\x84\\xc0/\\xc0+\\xc0\\'\\xc0#\\xc0\\x13\\xc0\\t\\x00\\xa4\\x00\\xa2\\x00\\xa0\\x00\\x9e\\x00g\\x00@\\x00?\\x00>\\x003\\x002\\x001\\x000\\x00\\x9a\\x00\\x99\\x00\\x98\\x00\\x97\\x00E\\x00D\\x00C\\x00B\\xc0\\x18\\x00\\xa6\\x00l\\x004\\x00\\x9b\\x00F\\xc01\\xc0-\\xc0)\\xc0%\\xc0\\x0e\\xc0\\x04\\x00\\x9c\\x00<\\x00/\\x00\\x96\\x00A\\x00\\x07\\xc0\\x11\\xc0\\x07\\xc0\\x16\\x00\\x18\\xc0\\x0c\\xc0\\x02\\x00\\x05\\x00\\x04\\xc0\\x12\\xc0\\x08\\x00\\x16\\x00\\x13\\x00\\x10\\x00\\r\\xc0\\x17\\x00\\x1b\\xc0\\r\\xc0']\n",
            "Bad pipe message: %s [b'\\n\\x00']\n",
            "Bad pipe message: %s [b'\\x12\\x00\\x0f\\x00\\x0c\\x00\\x1a\\x00\\t\\x00\\x14\\x00\\x11\\x00\\x19\\x00\\x08\\x00\\x06\\x00']\n",
            "Bad pipe message: %s [b'\\x03\\xc0\\x10\\xc0\\x06\\xc0\\x15\\xc0\\x0b\\xc0\\x01\\x00;\\x00\\x02\\x00\\x01\\x00\\xff\\x02\\x01\\x00']\n"
          ]
        }
      ],
      "source": [
        "batch_size = 128\n",
        "num_epochs = 5\n",
        "\n",
        "train_loss, valid_loss, words_acc, letters_acc = train_model(train_loader, model, batch_size, criterion, optimizer, num_epochs, valid_loader)\n",
        "\n",
        "plt.plot(train_loss, label=\"training loss\")\n",
        "plt.plot(valid_loss,label=\"validation loss\")\n",
        "plt.legend()\n",
        "plt.show()"
      ]
    },
    {
      "cell_type": "code",
      "execution_count": null,
      "metadata": {
        "colab": {
          "base_uri": "https://localhost:8080/"
        },
        "id": "BqKbix9I8U4_",
        "outputId": "5b2a5ce1-795f-4401-eb53-ea2eb5179eca"
      },
      "outputs": [
        {
          "name": "stdout",
          "output_type": "stream",
          "text": [
            "--TARGET--\n",
            "[[ 1  2  3 -1]\n",
            " [ 1  3 -1 -1]\n",
            " [ 3  4  5 -1]]\n",
            "--PRED--\n",
            "[[ 1  3  3 -1]\n",
            " [ 1  3 -1 -1]\n",
            " [ 3  4 -1 -1]]\n",
            "[[0 1 0 0]\n",
            " [0 0 0 0]\n",
            " [0 0 6 0]]\n",
            "1\n",
            "6\n",
            "8\n"
          ]
        }
      ],
      "source": [
        "target = np.ones((3,4),dtype=int)*(-1)\n",
        "target[0,0] = 1\n",
        "target[0,1] = 2\n",
        "target[0,2] = 3\n",
        "target[1,0] = 1\n",
        "target[1,1] = 3\n",
        "target[2,0] = 3\n",
        "target[2,1] = 4\n",
        "target[2,2] = 5\n",
        "\n",
        "pred = np.ones((3,4),dtype=int)*(-1)\n",
        "pred[0,0] = 1\n",
        "pred[0,1] = 3\n",
        "pred[0,2] = 3\n",
        "pred[1,0] = 1\n",
        "pred[1,1] = 3\n",
        "pred[2,0] = 3\n",
        "pred[2,1] = 4\n",
        "\n",
        "print(\"--TARGET--\")\n",
        "print(target)\n",
        "print(\"--PRED--\")\n",
        "print(pred)\n",
        "\n",
        "correct_words = np.sum(np.sum((abs(target-pred)),axis=1)==0)\n",
        "correct_letters = np.sum(abs(target-pred)==0, where=(target!=-1))\n",
        "\n",
        "print((abs(target-pred)*(target!=-1)))\n",
        "\n",
        "print(correct_words)\n",
        "print(correct_letters)\n",
        "print(np.sum(target!=-1))"
      ]
    },
    {
      "attachments": {},
      "cell_type": "markdown",
      "metadata": {
        "id": "oBhQLqoSVbca"
      },
      "source": [
        "### Trying with GRU\n"
      ]
    },
    {
      "cell_type": "code",
      "execution_count": null,
      "metadata": {
        "id": "EXUawS5xRgdZ"
      },
      "outputs": [],
      "source": [
        "class CRNN_GRU(nn.Module):\n",
        "    def __init__(self, input_dim, hidden_dim, output_dim, n_rnn_layers, drop_prob=0.):\n",
        "        super(CRNN_GRU, self).__init__()\n",
        "        self.hidden_dim = hidden_dim\n",
        "        self.n_layers = n_rnn_layers\n",
        "\n",
        "        self.conv1 = nn.Conv2d(in_channels=1, out_channels=32, kernel_size=3, padding='same')\n",
        "        self.norm1 = nn.BatchNorm2d(32)\n",
        "        #nn.init.xavier_uniform_(self.conv1.weight)\n",
        "        nn.init.kaiming_normal_(self.conv1.weight, mode='fan_in',nonlinearity='relu')\n",
        "\n",
        "        self.conv2 = nn.Conv2d(in_channels=32, out_channels=64, kernel_size=3, padding='same')\n",
        "        self.norm2 = nn.BatchNorm2d(64)\n",
        "        #nn.init.xavier_uniform_(self.conv2.weight)\n",
        "        nn.init.kaiming_normal_(self.conv2.weight, mode='fan_in',nonlinearity='relu')\n",
        "        self.dropout2 = nn.Dropout2d(p=0.3)\n",
        "\n",
        "        self.conv3 = nn.Conv2d(in_channels=64, out_channels=128, kernel_size=3, padding='same')\n",
        "        self.norm3 = nn.BatchNorm2d(128)\n",
        "        #nn.init.xavier_uniform_(self.conv3.weight)\n",
        "        nn.init.kaiming_normal_(self.conv3.weight, mode='fan_in',nonlinearity='relu')\n",
        "        self.dropout3 = nn.Dropout2d(p=0.3)\n",
        "\n",
        "        self.maxpool = nn.MaxPool2d(kernel_size=2)\n",
        "\n",
        "        self.rnn = nn.GRU(input_dim, hidden_dim, n_rnn_layers, batch_first=True, bidirectional=True)\n",
        "        for name, param in self.rnn.named_parameters():\n",
        "          if 'weight' in name:\n",
        "            nn.init.xavier_uniform_(param)\n",
        "\n",
        "        self.fc1 = nn.Linear(32*8*128, 4096)\n",
        "        nn.init.kaiming_normal_(self.fc1.weight, mode='fan_in',nonlinearity='relu')\n",
        "\n",
        "        self.fc2 = nn.Linear(n_layers*hidden_dim, output_dim)\n",
        "        nn.init.kaiming_normal_(self.fc2.weight, mode='fan_in',nonlinearity='relu')\n",
        "\n",
        "\n",
        "    def forward(self, x, h):          # Size : b, 256, 64, 1\n",
        "        x = self.conv1(x)             # Size : b, 256, 64, 32\n",
        "        x = self.norm1(x)             # Size : b, 256, 64, 32\n",
        "        x = F.relu(x)                 # Size : b, 256, 64, 32\n",
        "        x = self.maxpool(x)           # Size : b, 128, 32, 32\n",
        "\n",
        "        x = self.conv2(x)             # Size : b, 128, 32, 64\n",
        "        x = self.norm2(x)             # Size : b, 128, 32, 64\n",
        "        x = F.relu(x)                 # Size : b, 128, 32, 64\n",
        "        x = self.maxpool(x)           # Size : b,  64, 16, 64\n",
        "        x = self.dropout2(x)\n",
        "\n",
        "        x = self.conv3(x)             # Size : b,  64, 16, 128\n",
        "        x = self.norm3(x)             # Size : b,  64, 16, 128\n",
        "        x = F.relu(x)                 # Size : b,  64, 16, 128\n",
        "        x = self.maxpool(x)           # Size : b,  32,  8, 128\n",
        "        x = self.dropout3(x)\n",
        "\n",
        "        x = x.view(-1, 32*8*128)      # Size : b,  65 536\n",
        "\n",
        "        x = self.fc1(x)               # Size : b,  4096\n",
        "        x = F.relu(x)                 # Size : b,  4096\n",
        "        x = x.reshape((x.shape[0],64,64))  # Size : b, 64, 64\n",
        "\n",
        "        x, h = self.rnn(x, h)    # Size : b, 64, 1024\n",
        "\n",
        "        x = self.fc2(x)               # Size : b, 64, 30\n",
        "        x = F.softmax(x, dim=1)\n",
        "        return x, h\n",
        "\n",
        "\n",
        "    def init_hidden(self, batch_size):\n",
        "        \" Initialize the hidden state of the RNN to zeros\"\n",
        "        hidden = nn.Parameter(torch.zeros(2*self.n_layers, batch_size, self.hidden_dim))\n",
        "        return hidden"
      ]
    },
    {
      "cell_type": "code",
      "execution_count": null,
      "metadata": {
        "id": "qMubXF3QSX7h"
      },
      "outputs": [],
      "source": [
        "def train_model_GRU(dataloader, model, batch_size, criterion, optimizer, num_epochs):\n",
        "    model.train()\n",
        "\n",
        "    losses = []\n",
        "    for epoch in range(num_epochs):\n",
        "\n",
        "        for batch, (x, y) in enumerate(dataloader):\n",
        "            state = model.init_hidden(batch_size) # Start with a new state in each batch\n",
        "            state = state.to(device)\n",
        "\n",
        "            x = x.to(device)\n",
        "            y = y.to(device)\n",
        "            optimizer.zero_grad()\n",
        "\n",
        "            y_pred, state = model(x, state)\n",
        "\n",
        "            input_lengths = torch.full(size=(batch_size,), fill_value=64, dtype=torch.long)\n",
        "            ##input_lengths = torch.sum((y_pred != 0), dim=1)\n",
        "            ##input_lengths = torch.full(size=(batch_size,), fill_value=64, dtype=torch.long)\n",
        "\n",
        "            target_lengths = torch.full(size=(batch_size,), fill_value=24, dtype=torch.long)\n",
        "            ##target_lengths = torch.randint(high=max_str_len, size=(batch_size,), dtype=torch.long)\n",
        "            ##target_lengths = torch.randint(low=1, high=max_str_len, size=(batch_size,), dtype=torch.long)\n",
        "            ##target_lengths = torch.sum((y != 0), dim=1)\n",
        "\n",
        "            y_pred = y_pred.transpose(1,0)\n",
        "\n",
        "            loss = criterion(y_pred, y, input_lengths, target_lengths) #.transpose(1, 2)\n",
        "\n",
        "            loss.backward()\n",
        "\n",
        "            # Gradient clipping\n",
        "            #nn.utils.clip_grad_norm_(model.parameters(), 1)\n",
        "            gradient_clipping(model, 0.0001, 1)\n",
        "\n",
        "            for name, param in model.named_parameters():\n",
        "              if param.grad is not None:\n",
        "                print(name, torch.mean(param.grad).item(), loss.item())\n",
        "\n",
        "            optimizer.step()\n",
        "\n",
        "            if batch%30 == 0:\n",
        "                print({ 'epoch': epoch, 'batch': batch, 'loss': loss.item() })\n",
        "                losses.append(loss.item())\n",
        "    return losses\n"
      ]
    },
    {
      "cell_type": "code",
      "execution_count": null,
      "metadata": {
        "colab": {
          "base_uri": "https://localhost:8080/"
        },
        "id": "GP8NjlIKVJA8",
        "outputId": "9a5ebb15-9664-4036-ef37-10f23706b6d6"
      },
      "outputs": [
        {
          "name": "stdout",
          "output_type": "stream",
          "text": [
            "Number of parameters 140846046:\n"
          ]
        },
        {
          "data": {
            "text/plain": [
              "CRNN_GRU(\n",
              "  (conv1): Conv2d(1, 32, kernel_size=(3, 3), stride=(1, 1), padding=same)\n",
              "  (norm1): BatchNorm2d(32, eps=1e-05, momentum=0.1, affine=True, track_running_stats=True)\n",
              "  (conv2): Conv2d(32, 64, kernel_size=(3, 3), stride=(1, 1), padding=same)\n",
              "  (norm2): BatchNorm2d(64, eps=1e-05, momentum=0.1, affine=True, track_running_stats=True)\n",
              "  (dropout2): Dropout2d(p=0.3, inplace=False)\n",
              "  (conv3): Conv2d(64, 128, kernel_size=(3, 3), stride=(1, 1), padding=same)\n",
              "  (norm3): BatchNorm2d(128, eps=1e-05, momentum=0.1, affine=True, track_running_stats=True)\n",
              "  (dropout3): Dropout2d(p=0.3, inplace=False)\n",
              "  (maxpool): MaxPool2d(kernel_size=2, stride=2, padding=0, dilation=1, ceil_mode=False)\n",
              "  (rnn): GRU(64, 512, num_layers=2, batch_first=True, bidirectional=True)\n",
              "  (fc1): Linear(in_features=32768, out_features=4096, bias=True)\n",
              "  (fc2): Linear(in_features=1024, out_features=30, bias=True)\n",
              ")"
            ]
          },
          "execution_count": 33,
          "metadata": {},
          "output_type": "execute_result"
        }
      ],
      "source": [
        "input_dim = 64\n",
        "embedding_dim = 64*64\n",
        "hidden_dim = 512\n",
        "output_dim = num_of_characters\n",
        "n_layers = 2\n",
        "drop_prob = 0\n",
        "\n",
        "torch.backends.cudnn.benchmark = True\n",
        "torch.manual_seed(0) # seed for reproductibility\n",
        "criterion = torch.nn.CTCLoss()\n",
        "\n",
        "model_GRU = CRNN_GRU(input_dim, hidden_dim, output_dim, n_layers, drop_prob).to(device)\n",
        "optimizer = optim.Adam(model_GRU.parameters(), lr=0.001) #, weight_decay=0.0001\n",
        "\n",
        "print(f\"Number of parameters {get_n_params(model_GRU)}:\")\n",
        "model_GRU.to(device)"
      ]
    },
    {
      "cell_type": "code",
      "execution_count": null,
      "metadata": {
        "colab": {
          "base_uri": "https://localhost:8080/",
          "height": 1000
        },
        "id": "gVeFyS-8TB_i",
        "outputId": "a57e9272-491c-41d9-f7ea-402df1681eb7"
      },
      "outputs": [
        {
          "name": "stdout",
          "output_type": "stream",
          "text": [
            "conv1.weight nan -1.8115315437316895\n",
            "conv1.bias nan -1.8115315437316895\n",
            "norm1.weight nan -1.8115315437316895\n",
            "norm1.bias nan -1.8115315437316895\n",
            "conv2.weight nan -1.8115315437316895\n",
            "conv2.bias nan -1.8115315437316895\n",
            "norm2.weight nan -1.8115315437316895\n",
            "norm2.bias nan -1.8115315437316895\n",
            "conv3.weight nan -1.8115315437316895\n",
            "conv3.bias nan -1.8115315437316895\n",
            "norm3.weight nan -1.8115315437316895\n",
            "norm3.bias nan -1.8115315437316895\n",
            "rnn.weight_ih_l0 nan -1.8115315437316895\n",
            "rnn.weight_hh_l0 nan -1.8115315437316895\n",
            "rnn.bias_ih_l0 nan -1.8115315437316895\n",
            "rnn.bias_hh_l0 nan -1.8115315437316895\n",
            "rnn.weight_ih_l0_reverse nan -1.8115315437316895\n",
            "rnn.weight_hh_l0_reverse nan -1.8115315437316895\n",
            "rnn.bias_ih_l0_reverse nan -1.8115315437316895\n",
            "rnn.bias_hh_l0_reverse nan -1.8115315437316895\n",
            "rnn.weight_ih_l1 nan -1.8115315437316895\n",
            "rnn.weight_hh_l1 nan -1.8115315437316895\n",
            "rnn.bias_ih_l1 nan -1.8115315437316895\n",
            "rnn.bias_hh_l1 nan -1.8115315437316895\n",
            "rnn.weight_ih_l1_reverse nan -1.8115315437316895\n",
            "rnn.weight_hh_l1_reverse nan -1.8115315437316895\n",
            "rnn.bias_ih_l1_reverse nan -1.8115315437316895\n",
            "rnn.bias_hh_l1_reverse nan -1.8115315437316895\n",
            "fc1.weight nan -1.8115315437316895\n",
            "fc1.bias nan -1.8115315437316895\n",
            "fc2.weight nan -1.8115315437316895\n",
            "fc2.bias nan -1.8115315437316895\n",
            "{'epoch': 0, 'batch': 0, 'loss': -1.8115315437316895}\n",
            "conv1.weight nan nan\n",
            "conv1.bias nan nan\n",
            "norm1.weight nan nan\n",
            "norm1.bias nan nan\n",
            "conv2.weight nan nan\n",
            "conv2.bias nan nan\n",
            "norm2.weight nan nan\n",
            "norm2.bias nan nan\n",
            "conv3.weight nan nan\n",
            "conv3.bias nan nan\n",
            "norm3.weight nan nan\n",
            "norm3.bias nan nan\n",
            "rnn.weight_ih_l0 nan nan\n",
            "rnn.weight_hh_l0 nan nan\n",
            "rnn.bias_ih_l0 nan nan\n",
            "rnn.bias_hh_l0 nan nan\n",
            "rnn.weight_ih_l0_reverse nan nan\n",
            "rnn.weight_hh_l0_reverse nan nan\n",
            "rnn.bias_ih_l0_reverse nan nan\n",
            "rnn.bias_hh_l0_reverse nan nan\n",
            "rnn.weight_ih_l1 nan nan\n",
            "rnn.weight_hh_l1 nan nan\n",
            "rnn.bias_ih_l1 nan nan\n",
            "rnn.bias_hh_l1 nan nan\n",
            "rnn.weight_ih_l1_reverse nan nan\n",
            "rnn.weight_hh_l1_reverse nan nan\n",
            "rnn.bias_ih_l1_reverse nan nan\n",
            "rnn.bias_hh_l1_reverse nan nan\n",
            "fc1.weight nan nan\n",
            "fc1.bias nan nan\n",
            "fc2.weight nan nan\n",
            "fc2.bias nan nan\n",
            "conv1.weight nan nan\n",
            "conv1.bias nan nan\n",
            "norm1.weight nan nan\n",
            "norm1.bias nan nan\n",
            "conv2.weight nan nan\n",
            "conv2.bias nan nan\n",
            "norm2.weight nan nan\n",
            "norm2.bias nan nan\n",
            "conv3.weight nan nan\n",
            "conv3.bias nan nan\n",
            "norm3.weight nan nan\n",
            "norm3.bias nan nan\n",
            "rnn.weight_ih_l0 nan nan\n",
            "rnn.weight_hh_l0 nan nan\n",
            "rnn.bias_ih_l0 nan nan\n",
            "rnn.bias_hh_l0 nan nan\n",
            "rnn.weight_ih_l0_reverse nan nan\n",
            "rnn.weight_hh_l0_reverse nan nan\n",
            "rnn.bias_ih_l0_reverse nan nan\n",
            "rnn.bias_hh_l0_reverse nan nan\n",
            "rnn.weight_ih_l1 nan nan\n",
            "rnn.weight_hh_l1 nan nan\n",
            "rnn.bias_ih_l1 nan nan\n",
            "rnn.bias_hh_l1 nan nan\n",
            "rnn.weight_ih_l1_reverse nan nan\n",
            "rnn.weight_hh_l1_reverse nan nan\n",
            "rnn.bias_ih_l1_reverse nan nan\n",
            "rnn.bias_hh_l1_reverse nan nan\n",
            "fc1.weight nan nan\n",
            "fc1.bias nan nan\n",
            "fc2.weight nan nan\n",
            "fc2.bias nan nan\n",
            "conv1.weight nan nan\n",
            "conv1.bias nan nan\n",
            "norm1.weight nan nan\n",
            "norm1.bias nan nan\n",
            "conv2.weight nan nan\n",
            "conv2.bias nan nan\n",
            "norm2.weight nan nan\n",
            "norm2.bias nan nan\n",
            "conv3.weight nan nan\n",
            "conv3.bias nan nan\n",
            "norm3.weight nan nan\n",
            "norm3.bias nan nan\n",
            "rnn.weight_ih_l0 nan nan\n",
            "rnn.weight_hh_l0 nan nan\n",
            "rnn.bias_ih_l0 nan nan\n",
            "rnn.bias_hh_l0 nan nan\n",
            "rnn.weight_ih_l0_reverse nan nan\n",
            "rnn.weight_hh_l0_reverse nan nan\n",
            "rnn.bias_ih_l0_reverse nan nan\n",
            "rnn.bias_hh_l0_reverse nan nan\n",
            "rnn.weight_ih_l1 nan nan\n",
            "rnn.weight_hh_l1 nan nan\n",
            "rnn.bias_ih_l1 nan nan\n",
            "rnn.bias_hh_l1 nan nan\n",
            "rnn.weight_ih_l1_reverse nan nan\n",
            "rnn.weight_hh_l1_reverse nan nan\n",
            "rnn.bias_ih_l1_reverse nan nan\n",
            "rnn.bias_hh_l1_reverse nan nan\n",
            "fc1.weight nan nan\n",
            "fc1.bias nan nan\n",
            "fc2.weight nan nan\n",
            "fc2.bias nan nan\n",
            "conv1.weight nan nan\n",
            "conv1.bias nan nan\n",
            "norm1.weight nan nan\n",
            "norm1.bias nan nan\n",
            "conv2.weight nan nan\n",
            "conv2.bias nan nan\n",
            "norm2.weight nan nan\n",
            "norm2.bias nan nan\n",
            "conv3.weight nan nan\n",
            "conv3.bias nan nan\n",
            "norm3.weight nan nan\n",
            "norm3.bias nan nan\n",
            "rnn.weight_ih_l0 nan nan\n",
            "rnn.weight_hh_l0 nan nan\n",
            "rnn.bias_ih_l0 nan nan\n",
            "rnn.bias_hh_l0 nan nan\n",
            "rnn.weight_ih_l0_reverse nan nan\n",
            "rnn.weight_hh_l0_reverse nan nan\n",
            "rnn.bias_ih_l0_reverse nan nan\n",
            "rnn.bias_hh_l0_reverse nan nan\n",
            "rnn.weight_ih_l1 nan nan\n",
            "rnn.weight_hh_l1 nan nan\n",
            "rnn.bias_ih_l1 nan nan\n",
            "rnn.bias_hh_l1 nan nan\n",
            "rnn.weight_ih_l1_reverse nan nan\n",
            "rnn.weight_hh_l1_reverse nan nan\n",
            "rnn.bias_ih_l1_reverse nan nan\n",
            "rnn.bias_hh_l1_reverse nan nan\n",
            "fc1.weight nan nan\n",
            "fc1.bias nan nan\n",
            "fc2.weight nan nan\n",
            "fc2.bias nan nan\n",
            "conv1.weight nan nan\n",
            "conv1.bias nan nan\n",
            "norm1.weight nan nan\n",
            "norm1.bias nan nan\n",
            "conv2.weight nan nan\n",
            "conv2.bias nan nan\n",
            "norm2.weight nan nan\n",
            "norm2.bias nan nan\n",
            "conv3.weight nan nan\n",
            "conv3.bias nan nan\n",
            "norm3.weight nan nan\n",
            "norm3.bias nan nan\n",
            "rnn.weight_ih_l0 nan nan\n",
            "rnn.weight_hh_l0 nan nan\n",
            "rnn.bias_ih_l0 nan nan\n",
            "rnn.bias_hh_l0 nan nan\n",
            "rnn.weight_ih_l0_reverse nan nan\n",
            "rnn.weight_hh_l0_reverse nan nan\n",
            "rnn.bias_ih_l0_reverse nan nan\n",
            "rnn.bias_hh_l0_reverse nan nan\n",
            "rnn.weight_ih_l1 nan nan\n",
            "rnn.weight_hh_l1 nan nan\n",
            "rnn.bias_ih_l1 nan nan\n",
            "rnn.bias_hh_l1 nan nan\n",
            "rnn.weight_ih_l1_reverse nan nan\n",
            "rnn.weight_hh_l1_reverse nan nan\n",
            "rnn.bias_ih_l1_reverse nan nan\n",
            "rnn.bias_hh_l1_reverse nan nan\n",
            "fc1.weight nan nan\n",
            "fc1.bias nan nan\n",
            "fc2.weight nan nan\n",
            "fc2.bias nan nan\n",
            "conv1.weight nan nan\n",
            "conv1.bias nan nan\n",
            "norm1.weight nan nan\n",
            "norm1.bias nan nan\n",
            "conv2.weight nan nan\n",
            "conv2.bias nan nan\n",
            "norm2.weight nan nan\n",
            "norm2.bias nan nan\n",
            "conv3.weight nan nan\n",
            "conv3.bias nan nan\n",
            "norm3.weight nan nan\n",
            "norm3.bias nan nan\n",
            "rnn.weight_ih_l0 nan nan\n",
            "rnn.weight_hh_l0 nan nan\n",
            "rnn.bias_ih_l0 nan nan\n",
            "rnn.bias_hh_l0 nan nan\n",
            "rnn.weight_ih_l0_reverse nan nan\n",
            "rnn.weight_hh_l0_reverse nan nan\n",
            "rnn.bias_ih_l0_reverse nan nan\n",
            "rnn.bias_hh_l0_reverse nan nan\n",
            "rnn.weight_ih_l1 nan nan\n",
            "rnn.weight_hh_l1 nan nan\n",
            "rnn.bias_ih_l1 nan nan\n",
            "rnn.bias_hh_l1 nan nan\n",
            "rnn.weight_ih_l1_reverse nan nan\n",
            "rnn.weight_hh_l1_reverse nan nan\n",
            "rnn.bias_ih_l1_reverse nan nan\n"
          ]
        },
        {
          "ename": "KeyboardInterrupt",
          "evalue": "",
          "output_type": "error",
          "traceback": [
            "\u001b[0;31m---------------------------------------------------------------------------\u001b[0m",
            "\u001b[0;31mKeyboardInterrupt\u001b[0m                         Traceback (most recent call last)",
            "\u001b[0;32m<ipython-input-34-4555ecb6b7ad>\u001b[0m in \u001b[0;36m<cell line: 4>\u001b[0;34m()\u001b[0m\n\u001b[1;32m      3\u001b[0m \u001b[0mlosses\u001b[0m \u001b[0;34m=\u001b[0m \u001b[0;34m{\u001b[0m\u001b[0;34m\"train\"\u001b[0m\u001b[0;34m:\u001b[0m \u001b[0;34m[\u001b[0m\u001b[0;34m]\u001b[0m\u001b[0;34m,\u001b[0m \u001b[0;34m\"val\"\u001b[0m\u001b[0;34m:\u001b[0m \u001b[0;34m[\u001b[0m\u001b[0;34m]\u001b[0m\u001b[0;34m}\u001b[0m\u001b[0;34m\u001b[0m\u001b[0;34m\u001b[0m\u001b[0m\n\u001b[1;32m      4\u001b[0m \u001b[0;32mfor\u001b[0m \u001b[0mepoch\u001b[0m \u001b[0;32min\u001b[0m \u001b[0mrange\u001b[0m\u001b[0;34m(\u001b[0m\u001b[0;36m10\u001b[0m\u001b[0;34m)\u001b[0m\u001b[0;34m:\u001b[0m\u001b[0;34m\u001b[0m\u001b[0;34m\u001b[0m\u001b[0m\n\u001b[0;32m----> 5\u001b[0;31m     \u001b[0mtrain_loss\u001b[0m \u001b[0;34m=\u001b[0m \u001b[0mtrain_model_GRU\u001b[0m\u001b[0;34m(\u001b[0m\u001b[0mtrain_loader\u001b[0m\u001b[0;34m,\u001b[0m \u001b[0mmodel_GRU\u001b[0m\u001b[0;34m,\u001b[0m \u001b[0mbatch_size\u001b[0m\u001b[0;34m,\u001b[0m \u001b[0mcriterion\u001b[0m\u001b[0;34m,\u001b[0m \u001b[0moptimizer\u001b[0m\u001b[0;34m,\u001b[0m \u001b[0mnum_epochs\u001b[0m\u001b[0;34m)\u001b[0m\u001b[0;34m\u001b[0m\u001b[0;34m\u001b[0m\u001b[0m\n\u001b[0m\u001b[1;32m      6\u001b[0m     \u001b[0mval_loss\u001b[0m \u001b[0;34m=\u001b[0m \u001b[0mvalidate\u001b[0m\u001b[0;34m(\u001b[0m\u001b[0mcriterion\u001b[0m\u001b[0;34m,\u001b[0m \u001b[0mmodel\u001b[0m\u001b[0;34m,\u001b[0m \u001b[0mvalid_loader\u001b[0m\u001b[0;34m)\u001b[0m\u001b[0;34m\u001b[0m\u001b[0;34m\u001b[0m\u001b[0m\n\u001b[1;32m      7\u001b[0m \u001b[0;34m\u001b[0m\u001b[0m\n",
            "\u001b[0;32m<ipython-input-30-4e5852898637>\u001b[0m in \u001b[0;36mtrain_model_GRU\u001b[0;34m(dataloader, model, batch_size, criterion, optimizer, num_epochs)\u001b[0m\n\u001b[1;32m     36\u001b[0m             \u001b[0;32mfor\u001b[0m \u001b[0mname\u001b[0m\u001b[0;34m,\u001b[0m \u001b[0mparam\u001b[0m \u001b[0;32min\u001b[0m \u001b[0mmodel\u001b[0m\u001b[0;34m.\u001b[0m\u001b[0mnamed_parameters\u001b[0m\u001b[0;34m(\u001b[0m\u001b[0;34m)\u001b[0m\u001b[0;34m:\u001b[0m\u001b[0;34m\u001b[0m\u001b[0;34m\u001b[0m\u001b[0m\n\u001b[1;32m     37\u001b[0m               \u001b[0;32mif\u001b[0m \u001b[0mparam\u001b[0m\u001b[0;34m.\u001b[0m\u001b[0mgrad\u001b[0m \u001b[0;32mis\u001b[0m \u001b[0;32mnot\u001b[0m \u001b[0;32mNone\u001b[0m\u001b[0;34m:\u001b[0m\u001b[0;34m\u001b[0m\u001b[0;34m\u001b[0m\u001b[0m\n\u001b[0;32m---> 38\u001b[0;31m                 \u001b[0mprint\u001b[0m\u001b[0;34m(\u001b[0m\u001b[0mname\u001b[0m\u001b[0;34m,\u001b[0m \u001b[0mtorch\u001b[0m\u001b[0;34m.\u001b[0m\u001b[0mmean\u001b[0m\u001b[0;34m(\u001b[0m\u001b[0mparam\u001b[0m\u001b[0;34m.\u001b[0m\u001b[0mgrad\u001b[0m\u001b[0;34m)\u001b[0m\u001b[0;34m.\u001b[0m\u001b[0mitem\u001b[0m\u001b[0;34m(\u001b[0m\u001b[0;34m)\u001b[0m\u001b[0;34m,\u001b[0m \u001b[0mloss\u001b[0m\u001b[0;34m.\u001b[0m\u001b[0mitem\u001b[0m\u001b[0;34m(\u001b[0m\u001b[0;34m)\u001b[0m\u001b[0;34m)\u001b[0m\u001b[0;34m\u001b[0m\u001b[0;34m\u001b[0m\u001b[0m\n\u001b[0m\u001b[1;32m     39\u001b[0m \u001b[0;34m\u001b[0m\u001b[0m\n\u001b[1;32m     40\u001b[0m             \u001b[0moptimizer\u001b[0m\u001b[0;34m.\u001b[0m\u001b[0mstep\u001b[0m\u001b[0;34m(\u001b[0m\u001b[0;34m)\u001b[0m\u001b[0;34m\u001b[0m\u001b[0;34m\u001b[0m\u001b[0m\n",
            "\u001b[0;31mKeyboardInterrupt\u001b[0m: "
          ]
        }
      ],
      "source": [
        "batch_size = 128\n",
        "num_epochs = 10\n",
        "losses = {\"train\": [], \"val\": []}\n",
        "for epoch in range(10):\n",
        "    train_loss = train_model_GRU(train_loader, model_GRU, batch_size, criterion, optimizer, num_epochs)\n",
        "    val_loss = validate(criterion, model, valid_loader)\n",
        "\n",
        "    losses[\"train\"].append(train_loss)\n",
        "    losses[\"val\"].append(val_loss)\n",
        "\n",
        "    plt.plot(losses[\"train\"], label=\"training loss\")\n",
        "    plt.plot(losses[\"val\"], label=\"validation loss\")\n",
        "\n",
        "    plt.legend()\n",
        "    plt.pause(0.000001)\n",
        "    plt.show()\n",
        "\n",
        "## Gradients are vanishing"
      ]
    },
    {
      "attachments": {},
      "cell_type": "markdown",
      "metadata": {
        "id": "-jHu-H87bmnt"
      },
      "source": [
        "## Convolutional Variational auto encoder"
      ]
    },
    {
      "cell_type": "code",
      "execution_count": null,
      "metadata": {
        "id": "zxkpUf5Ubuug"
      },
      "outputs": [],
      "source": [
        "class VAE(nn.Module):\n",
        "    def __init__(self):\n",
        "        super(VAE, self).__init__()\n",
        "                                                                                               # Size : b, 256, 64, 1\n",
        "        self.conv1 = nn.Conv2d(in_channels=1, out_channels=32, kernel_size=3, padding=1)  # Size : b, 256, 64, 32\n",
        "        self.norm1 = nn.BatchNorm2d(32)                                                        # Size : b, 128, 32, 32\n",
        "\n",
        "        self.conv2 = nn.Conv2d(in_channels=32, out_channels=64, kernel_size=3, padding=1) # Size : b, 128, 32, 64\n",
        "        self.norm2 = nn.BatchNorm2d(64)                                                        # Size : b,  64, 16, 64\n",
        "\n",
        "        self.conv3 = nn.Conv2d(in_channels=64, out_channels=128, kernel_size=3, padding=1) # Size : b, 64, 16, 128\n",
        "        self.norm3 = nn.BatchNorm2d(128)                                                        # Size : b,  32,  8, 128\n",
        "\n",
        "        self.maxpool = nn.MaxPool2d(kernel_size=2, return_indices=True)\n",
        "\n",
        "        self.fc1 = nn.Linear(32*8*128, 4096)           # Size : b, 4096\n",
        "        self.fc21 = nn.Linear(4096, 100)               # Size : b,  100\n",
        "        self.fc22 = nn.Linear(4096, 100)               # Size : b,  100\n",
        "\n",
        "        self.fc3 = nn.Linear(100,4096)                 # Size : b, 4096\n",
        "        self.fc4 = nn.Linear(4096, 32*8*128)           # Size : b, 32*8*128\n",
        "                                                       # Size : b, 32, 8, 128\n",
        "\n",
        "        self.unpool = nn.MaxUnpool2d(2)                                         # Size : b, 64, 16, 128\n",
        "        self.unconv1 = nn.ConvTranspose2d(128, 64, 3, padding=1)           # Size : b, 64, 16,  64\n",
        "                                                                                # Size : b, 128, 32, 64\n",
        "        self.unconv2 = nn.ConvTranspose2d(64, 32, 3, padding=1)            # Size : b, 128, 32, 32\n",
        "                                                                                # Size : b, 256, 64, 32\n",
        "        self.unconv3 = nn.ConvTranspose2d(32, 1, 3, padding=1)             # Size : b, 256, 64,  1\n",
        "\n",
        "\n",
        "\n",
        "\n",
        "    def encode(self, x):              # Size : b, 256, 64,  1\n",
        "        x = self.conv1(x)             # Size : b, 256, 64, 32\n",
        "        x = self.norm1(x)             # Size : b, 256, 64, 32\n",
        "        x = F.relu(x)                                # Size : b, 256, 64, 32\n",
        "        x, self.indices1 = self.maxpool(x)           # Size : b, 128, 32, 32\n",
        "\n",
        "        x = self.conv2(x)             # Size : b, 128, 32, 64\n",
        "        x = self.norm2(x)             # Size : b, 128, 32, 64\n",
        "        x = F.relu(x)                                # Size : b, 128, 32, 64\n",
        "        x, self.indices2 = self.maxpool(x)           # Size : b,  64, 16, 64\n",
        "\n",
        "        x = self.conv3(x)             # Size : b,  64, 16, 128\n",
        "        x = self.norm3(x)             # Size : b,  64, 16, 128\n",
        "        x = F.relu(x)                                # Size : b,  64, 16, 128\n",
        "        x, self.indices3 = self.maxpool(x)           # Size : b,  32,  8, 128\n",
        "\n",
        "        x = x.view(-1, 32*8*128)      # Size : b,  65 536\n",
        "        x = self.fc1(x)               # Size : b,  4096\n",
        "        x = F.relu(x)                 # Size : b,  4096\n",
        "\n",
        "        return self.fc21(x), self.fc22(x)\n",
        "\n",
        "    def reparametrize(self, mu, logvar):\n",
        "        std = torch.exp(0.5 * logvar)\n",
        "        if torch.cuda.is_available():\n",
        "            eps = torch.cuda.FloatTensor(std.size()).normal_()\n",
        "        else:\n",
        "            eps = torch.FloatTensor(std.size()).normal_()\n",
        "        return mu + eps * std\n",
        "\n",
        "    def decode(self, z):                # Size : b,  100\n",
        "        z = self.fc3(z)                 # Size : b, 4096\n",
        "        z = F.relu(z)                   # Size : b, 4096\n",
        "\n",
        "        z = self.fc4(z)                 # Size : b, 32*8*128\n",
        "        z = F.relu(z)                   # Size : b, 32*8*128\n",
        "\n",
        "        z = z.reshape((z.shape[0],128, 32, 8))  # Size : b, 128, 32, 8\n",
        "\n",
        "        z = self.unpool(z,self.indices3) # Size : b, 128, 64, 16\n",
        "        z = F.relu(self.unconv1(z))      # Size : b, 64, 64, 16\n",
        "\n",
        "        z = self.unpool(z,self.indices2) # Size : b, 64, 128, 32\n",
        "        z = F.relu(self.unconv2(z))      # Size : b, 32, 128, 32\n",
        "\n",
        "        z = self.unpool(z,self.indices1)   # Size : b, 32, 256, 64\n",
        "        z = torch.sigmoid(self.unconv3(z)) # Size : b,  1, 256, 64\n",
        "\n",
        "        return z\n",
        "\n",
        "    def forward(self, x):\n",
        "        mu, logvar = self.encode(x)\n",
        "        z = self.reparametrize(mu, logvar)\n",
        "        return self.decode(z), mu, logvar"
      ]
    },
    {
      "cell_type": "code",
      "execution_count": null,
      "metadata": {
        "id": "J7jdLshrj5Fz"
      },
      "outputs": [],
      "source": [
        "def loss_function(recon_x, x, mu, logvar):\n",
        "    \"\"\"\n",
        "    recon_x: generated images\n",
        "    x:       input images\n",
        "    mu:      latent mean\n",
        "    logvar:  latent log variance\n",
        "    \"\"\"\n",
        "    # Reconstruction term\n",
        "    recLoss = nn.MSELoss(reduction='sum')\n",
        "\n",
        "    # KL divergence regularisation term\n",
        "    # KLD loss = 0.5 * sum(1 + log(sigma^2) - mu^2 - sigma^2)\n",
        "    # Below is the same expression but using logvar instead of sigma. Remember that logvar = log(sigma^2)\n",
        "    KLD = -0.5 * torch.sum(1 + logvar - mu.pow(2) - logvar.exp())\n",
        "\n",
        "    return recLoss(recon_x, x) + KLD"
      ]
    },
    {
      "cell_type": "code",
      "execution_count": null,
      "metadata": {
        "id": "WRpT962uj_IT"
      },
      "outputs": [],
      "source": [
        "device = torch.device(\"cuda\" if torch.cuda.is_available() else \"cpu\")\n",
        "\n",
        "model = VAE().to(device)\n",
        "\n",
        "# create an optimizer object\n",
        "optimizer = torch.optim.Adam(model.parameters(), lr=1e-3)\n",
        "\n",
        "criterion = loss_function"
      ]
    },
    {
      "cell_type": "code",
      "execution_count": null,
      "metadata": {
        "id": "jXfoLWOtkEl3"
      },
      "outputs": [],
      "source": [
        "def train_vae(model, loader, optimizer, criterion):\n",
        "    loss = 0\n",
        "    model.train()\n",
        "\n",
        "    for batch_features, _ in loader:\n",
        "        # load it to the active device\n",
        "        batch_features = batch_features.to(device)\n",
        "\n",
        "        # reset the gradients back to zero\n",
        "        # PyTorch accumulates gradients on subsequent backward passes\n",
        "        optimizer.zero_grad()\n",
        "\n",
        "        # compute reconstructions as well as the embeddings (we need them for the loss)\n",
        "        outputs, mu, logvar = model(batch_features)\n",
        "\n",
        "        # compute training reconstruction loss\n",
        "        train_loss = criterion(outputs, batch_features, mu, logvar)\n",
        "\n",
        "        # compute accumulated gradients\n",
        "        train_loss.backward()\n",
        "\n",
        "        # perform parameter update based on current gradients\n",
        "        optimizer.step()\n",
        "\n",
        "        # add the mini-batch training loss to epoch loss\n",
        "        loss += train_loss.item()\n",
        "\n",
        "    # compute the epoch training loss\n",
        "    loss = loss / len(loader)\n",
        "    print(\"epoch : {}/{}, Train loss = {:.6f}\".format(epoch + 1, epochs, loss))"
      ]
    },
    {
      "cell_type": "code",
      "execution_count": null,
      "metadata": {
        "id": "5HK11hchlJnR"
      },
      "outputs": [],
      "source": [
        "def show_image(img):\n",
        "    #img = img.clamp(0, 1) # Ensure that the range of greyscales is between 0 and 1\n",
        "    npimg = img.numpy()   # Convert to NumPy\n",
        "    npimg = np.transpose(npimg, (2, 1, 0))   # Change the order to (W, H, C)\n",
        "    plt.imshow(img)\n",
        "    plt.show()"
      ]
    },
    {
      "cell_type": "code",
      "execution_count": null,
      "metadata": {
        "id": "HDlvZIwekHLe"
      },
      "outputs": [],
      "source": [
        "def test_vae(model, loader, criterion):\n",
        "    loss = 0\n",
        "    model.eval()\n",
        "\n",
        "    for batch_features, _ in loader:\n",
        "        batch_features = batch_features.to(device)\n",
        "\n",
        "        with torch.no_grad():\n",
        "            outputs, mu, logvar = model(batch_features)\n",
        "\n",
        "        # compute training reconstruction loss\n",
        "        test_loss = criterion(outputs, batch_features, mu, logvar)\n",
        "\n",
        "        # add the mini-batch training loss to epoch loss\n",
        "        loss += test_loss.item()\n",
        "\n",
        "    # compute the epoch test loss\n",
        "    loss = loss / len(loader)\n",
        "\n",
        "    # display the epoch training loss\n",
        "    print(\"epoch : {}/{}, Test loss = {:.6f}\".format(epoch + 1, epochs, loss))\n",
        "    print(batch_features.shape)\n",
        "    #show_image(make_grid(batch_features.detach().cpu().view(-1, 1, 256, 64).transpose(2, 3), nrow=2))\n",
        "    #show_image(make_grid(outputs.detach().cpu().view(-1, 1, 256, 64).transpose(2, 3), nrow=2))"
      ]
    },
    {
      "cell_type": "code",
      "execution_count": null,
      "metadata": {
        "id": "tP7i7-lPkK4R"
      },
      "outputs": [],
      "source": [
        "epochs=10\n",
        "for epoch in range(epochs):\n",
        "    train_vae(model, train_loader, optimizer, criterion)\n",
        "    test_vae(model, valid_loader, criterion)"
      ]
    },
    {
      "cell_type": "code",
      "execution_count": null,
      "metadata": {
        "id": "f8IndsTA20vB"
      },
      "outputs": [],
      "source": [
        "\n",
        "model.eval()\n",
        "\n",
        "with torch.no_grad():\n",
        "\n",
        "    # sample latent vectors from the normal distribution\n",
        "    latent = torch.randn(56, 100, device=device)\n",
        "\n",
        "    # reconstruct images from the latent vectors\n",
        "    img_recon = model.decode(latent)\n",
        "    img_recon = img_recon.cpu()\n",
        "    img_recon = img_recon.view(-1, 1, 256, 64)\n",
        "    print(img_recon.shape)\n",
        "    img_recon = img_recon[0:3, :, :, :]\n",
        "    print(img_recon.shape)\n",
        "    img_recon = img_recon.reshape(3,256, 64)\n",
        "    print(img_recon.shape)\n",
        "    #img_recon = img_recon.transpose(-1,2,1)\n",
        "\n",
        "\n",
        "    img_recon = img_recon.clamp(0, 1)\n",
        "    plt.subplot(3,1,1)\n",
        "    plt.imshow(img_recon[0,:,:].transpose(1,0))\n",
        "    plt.subplot(3,1,2)\n",
        "    plt.imshow(img_recon[1,:,:].transpose(1,0))\n",
        "    plt.subplot(3,1,3)\n",
        "    plt.imshow(img_recon[2,:,:].transpose(1,0))\n",
        "    plt.show()"
      ]
    }
  ],
  "metadata": {
    "accelerator": "GPU",
    "colab": {
      "collapsed_sections": [
        "CeqZhk77pg_Z",
        "cvhsEf1uvJsz",
        "oBhQLqoSVbca",
        "-jHu-H87bmnt"
      ],
      "gpuType": "T4",
      "provenance": []
    },
    "kernelspec": {
      "display_name": "Python 3",
      "name": "python3"
    },
    "language_info": {
      "codemirror_mode": {
        "name": "ipython",
        "version": 3
      },
      "file_extension": ".py",
      "mimetype": "text/x-python",
      "name": "python",
      "nbconvert_exporter": "python",
      "pygments_lexer": "ipython3",
      "version": "3.8.5"
    }
  },
  "nbformat": 4,
  "nbformat_minor": 0
}
