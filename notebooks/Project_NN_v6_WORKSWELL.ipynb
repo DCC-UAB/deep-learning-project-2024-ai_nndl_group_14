{
  "nbformat": 4,
  "nbformat_minor": 0,
  "metadata": {
    "colab": {
      "provenance": [],
      "gpuType": "T4",
      "collapsed_sections": [
        "CeqZhk77pg_Z",
        "cvhsEf1uvJsz",
        "KT0QHgi_yVjU",
        "-jHu-H87bmnt"
      ]
    },
    "kernelspec": {
      "name": "python3",
      "display_name": "Python 3"
    },
    "language_info": {
      "name": "python"
    },
    "accelerator": "GPU"
  },
  "cells": [
    {
      "cell_type": "markdown",
      "source": [
        "# Handwritten Recognition"
      ],
      "metadata": {
        "id": "jVidNySxvEzP"
      }
    },
    {
      "cell_type": "markdown",
      "source": [
        "## Importations"
      ],
      "metadata": {
        "id": "CeqZhk77pg_Z"
      }
    },
    {
      "cell_type": "code",
      "source": [
        "import os\n",
        "import cv2\n",
        "import random\n",
        "import numpy as np\n",
        "import pandas as pd\n",
        "import matplotlib.pyplot as plt\n",
        "\n",
        "import torch\n",
        "from IPython import display\n",
        "import torch.nn as nn\n",
        "import torch.nn.functional as F\n",
        "import torch.optim as optim\n",
        "from torchvision import datasets, transforms\n",
        "from torch.utils.data import Dataset, DataLoader\n",
        "from torchvision.utils import make_grid"
      ],
      "metadata": {
        "id": "CajD1HZLwYOo"
      },
      "execution_count": null,
      "outputs": []
    },
    {
      "cell_type": "code",
      "source": [
        "#If this cell fails you need to change the runtime of your colab notebook to GPU\n",
        "# Go to Runtime -> Change Runtime Type and select GPU\n",
        "assert torch.cuda.is_available(), \"GPU is not enabled\"\n",
        "\n",
        "#  use gpu if available\n",
        "device = torch.device(\"cuda\" if torch.cuda.is_available() else \"cpu\")\n",
        "print(\"Using device:\", device)"
      ],
      "metadata": {
        "colab": {
          "base_uri": "https://localhost:8080/"
        },
        "id": "sF7T8KjwisGU",
        "outputId": "d7f39254-8eb4-43de-a637-84b2adf5a8e7"
      },
      "execution_count": null,
      "outputs": [
        {
          "output_type": "stream",
          "name": "stdout",
          "text": [
            "Using device: cuda\n"
          ]
        }
      ]
    },
    {
      "cell_type": "markdown",
      "source": [
        "## Data\n",
        "\n",
        "The data can be decomposed into different parts : the training, validation and test sets.\n",
        "\n",
        "For each set, we have a global .csv file in which we have the true label of each picture. Here, each picture is given by its name. To obtain the real image linked to this name, we have to use the train, validation or test directories, in which each image is stored."
      ],
      "metadata": {
        "id": "cvhsEf1uvJsz"
      }
    },
    {
      "cell_type": "markdown",
      "source": [
        "### Importation of the data"
      ],
      "metadata": {
        "id": "zwcV9GiL0uMf"
      }
    },
    {
      "cell_type": "code",
      "execution_count": null,
      "metadata": {
        "id": "ZOqipGbSvBqw",
        "colab": {
          "base_uri": "https://localhost:8080/"
        },
        "outputId": "8244de84-cc25-44ed-d2f8-590c030799c1"
      },
      "outputs": [
        {
          "output_type": "stream",
          "name": "stdout",
          "text": [
            "Mounted at /content/drive\n"
          ]
        }
      ],
      "source": [
        "from google.colab import drive\n",
        "\n",
        "drive.mount('/content/drive')\n",
        "\n",
        "path = '/content/drive/My Drive/INSA/4MA/UAB/Neural Networks and Deep Learning/Deep Learning Project/'\n",
        "#path = '/content/drive/My Drive/Projet NN/'\n",
        "#path = '/content/drive/My Drive/4MA/UAB/Neural Networks/Projet/'\n",
        "train = pd.read_csv(path+'written_name_train_v2.csv')\n",
        "valid = pd.read_csv(path+'written_name_validation_v2.csv')\n",
        "test = pd.read_csv(path+'written_name_test_v2.csv')"
      ]
    },
    {
      "cell_type": "code",
      "source": [
        "print(\"TRAIN\",train.head(),\"\\n\")\n",
        "print(\"VALID\",valid.head(),\"\\n\")\n",
        "print(\"TEST\",test.head(),\"\\n\")"
      ],
      "metadata": {
        "colab": {
          "base_uri": "https://localhost:8080/"
        },
        "id": "c9p6Z5kVyIfe",
        "outputId": "3485746b-504f-433a-e533-ccb9d48ed853"
      },
      "execution_count": null,
      "outputs": [
        {
          "output_type": "stream",
          "name": "stdout",
          "text": [
            "TRAIN           FILENAME   IDENTITY\n",
            "0  TRAIN_00001.jpg  BALTHAZAR\n",
            "1  TRAIN_00002.jpg      SIMON\n",
            "2  TRAIN_00003.jpg      BENES\n",
            "3  TRAIN_00004.jpg    LA LOVE\n",
            "4  TRAIN_00005.jpg     DAPHNE \n",
            "\n",
            "VALID               FILENAME    IDENTITY\n",
            "0  VALIDATION_0001.jpg       BILEL\n",
            "1  VALIDATION_0002.jpg  LAUMIONIER\n",
            "2  VALIDATION_0003.jpg         LEA\n",
            "3  VALIDATION_0004.jpg   JEAN-ROCH\n",
            "4  VALIDATION_0005.jpg        RUPP \n",
            "\n",
            "TEST         FILENAME  IDENTITY\n",
            "0  TEST_0001.jpg     KEVIN\n",
            "1  TEST_0002.jpg  CLOTAIRE\n",
            "2  TEST_0003.jpg      LENA\n",
            "3  TEST_0004.jpg     JULES\n",
            "4  TEST_0005.jpg   CHERPIN \n",
            "\n"
          ]
        }
      ]
    },
    {
      "cell_type": "code",
      "source": [
        "import zipfile\n",
        "\n",
        "def extract_zipfiles(path_zip, destination):\n",
        "    with zipfile.ZipFile(path_zip, 'r') as zip_ref:\n",
        "      zip_ref.extractall(destination)\n",
        "\n",
        "    folder_images = os.listdir(destination)"
      ],
      "metadata": {
        "id": "GIyUX3lwBNx7"
      },
      "execution_count": null,
      "outputs": []
    },
    {
      "cell_type": "code",
      "source": [
        "extract_zipfiles(path+\"validation_v2.zip\", '/IMAGES')\n",
        "extract_zipfiles(path+\"train_v2.zip\", '/IMAGES')\n",
        "extract_zipfiles(path+\"test_v2.zip\", '/IMAGES')"
      ],
      "metadata": {
        "id": "7NAHFwML_4aq"
      },
      "execution_count": null,
      "outputs": []
    },
    {
      "cell_type": "code",
      "source": [
        "# Let's visualize the images of the dataset\n",
        "plt.figure(figsize=(15, 10))\n",
        "\n",
        "for i in range(6):\n",
        "    ax = plt.subplot(2, 3, i+1)\n",
        "    # We select the pah of the image\n",
        "    img_dir = '/IMAGES/train/'+train.loc[i, 'FILENAME']\n",
        "    # We read the image\n",
        "    image = cv2.imread(img_dir, cv2.IMREAD_GRAYSCALE)\n",
        "    # We show it\n",
        "    plt.imshow(image, cmap = 'gray')\n",
        "    plt.title(train.loc[i, 'IDENTITY'], fontsize=12)\n",
        "    plt.axis('off')\n",
        "\n",
        "plt.subplots_adjust(wspace=0.2, hspace=-0.8)"
      ],
      "metadata": {
        "colab": {
          "base_uri": "https://localhost:8080/",
          "height": 54
        },
        "id": "FDt1yzWHypOw",
        "outputId": "de27d533-e404-4d17-be20-f85b2954cd69"
      },
      "execution_count": null,
      "outputs": [
        {
          "output_type": "display_data",
          "data": {
            "text/plain": [
              "<Figure size 1500x1000 with 6 Axes>"
            ],
            "image/png": "[encoded data removed]"
          },
          "metadata": {}
        }
      ]
    },
    {
      "cell_type": "markdown",
      "source": [
        "### Cleaning the data"
      ],
      "metadata": {
        "id": "AXsbvipk0wyk"
      }
    },
    {
      "cell_type": "code",
      "source": [
        "print(\"In train set, there are : \", train['IDENTITY'].isnull().sum(), \"NaN values.\")\n",
        "print(\"In validation set, there are : \", valid['IDENTITY'].isnull().sum(), \"NaN values.\")\n",
        "print(\"In test set, there are : \", test['IDENTITY'].isnull().sum(), \"NaN values.\")\n",
        "\n",
        "# We delete those elements\n",
        "train.dropna(axis=0, inplace=True)\n",
        "valid.dropna(axis=0, inplace=True)\n",
        "test.dropna(axis=0, inplace=True)"
      ],
      "metadata": {
        "id": "znsCBW020ylX",
        "colab": {
          "base_uri": "https://localhost:8080/"
        },
        "outputId": "affc615b-5df3-4bce-aabe-0282190af568"
      },
      "execution_count": null,
      "outputs": [
        {
          "output_type": "stream",
          "name": "stdout",
          "text": [
            "In train set, there are :  565 NaN values.\n",
            "In validation set, there are :  78 NaN values.\n",
            "In test set, there are :  70 NaN values.\n"
          ]
        }
      ]
    },
    {
      "cell_type": "markdown",
      "source": [
        "In the 3 datasets, there is another type of problem in the data. In fact, some elements are considered as \"non-readable\". Hence, we cannot use those images in our training since the label is unknown. Then, we are going to delete those images also.\n",
        "\n",
        "We can print some examples fo this type of images."
      ],
      "metadata": {
        "id": "n-o8v6tp7Ho6"
      }
    },
    {
      "cell_type": "code",
      "source": [
        "unreadable = train[train['IDENTITY'] == 'UNREADABLE']\n",
        "unreadable.reset_index(inplace = True, drop=True)\n",
        "\n",
        "plt.figure(figsize=(15, 10))\n",
        "\n",
        "for i in range(6):\n",
        "    ax = plt.subplot(2, 3, i+1)\n",
        "    img_dir = '/IMAGES/train/'+unreadable.loc[i, 'FILENAME']\n",
        "    image = cv2.imread(img_dir, cv2.IMREAD_GRAYSCALE)\n",
        "\n",
        "    plt.imshow(image, cmap = 'gray')\n",
        "    plt.title(unreadable.loc[i, 'IDENTITY'], fontsize=12)\n",
        "    plt.axis('off')\n",
        "\n",
        "plt.subplots_adjust(wspace=0.2, hspace=-0.8)"
      ],
      "metadata": {
        "colab": {
          "base_uri": "https://localhost:8080/",
          "height": 54
        },
        "id": "AbZEi0fs7bde",
        "outputId": "3e78f5bd-11bf-4164-b880-b69aace61de0"
      },
      "execution_count": null,
      "outputs": [
        {
          "output_type": "display_data",
          "data": {
            "text/plain": [
              "<Figure size 1500x1000 with 6 Axes>"
            ],
            "image/png": "[encoded data removed]"
          },
          "metadata": {}
        }
      ]
    },
    {
      "cell_type": "code",
      "source": [
        "train = train[train['IDENTITY'] != 'UNREADABLE']\n",
        "valid = valid[valid['IDENTITY'] != 'UNREADABLE']\n",
        "test = test[test['IDENTITY'] != 'UNREADABLE']"
      ],
      "metadata": {
        "id": "cwjqawCT7z49"
      },
      "execution_count": null,
      "outputs": []
    },
    {
      "cell_type": "code",
      "source": [
        "# Last changes in the data\n",
        "## Put all the labels into lower case letters\n",
        "train['IDENTITY'] = train['IDENTITY'].str.upper()\n",
        "valid['IDENTITY'] = valid['IDENTITY'].str.upper()\n",
        "test['IDENTITY'] = test['IDENTITY'].str.upper()\n",
        "\n",
        "## Reset the indexes of the\n",
        "train.reset_index(inplace = True, drop=True)\n",
        "valid.reset_index(inplace = True, drop=True)\n",
        "test.reset_index(inplace = True, drop=True)"
      ],
      "metadata": {
        "id": "DaNoR6d38AYN"
      },
      "execution_count": null,
      "outputs": []
    },
    {
      "cell_type": "markdown",
      "source": [
        "### Preprocessing the dataset"
      ],
      "metadata": {
        "id": "hk17i0d48X2p"
      }
    },
    {
      "cell_type": "markdown",
      "source": [
        "Some images are not in the same shape. Then, we have to uniformized the shape of each image of the datasets. Here, we will consider images of 256x64 pixels.\n",
        "\n",
        "Then, if the dimensions of an image is bigger than those numbers, the width/height are cropped, and if the shape is smaller, we apply a padding with white pixels.\n",
        "\n",
        "Finally the image is rotated clockwise to bring the image shape to (x, y), and is then normalized to range [0, 1]."
      ],
      "metadata": {
        "id": "flThYNfD8hLr"
      }
    },
    {
      "cell_type": "code",
      "source": [
        "def preprocess(img):\n",
        "    # We get the sape of the current image\n",
        "    (h, w) = img.shape\n",
        "    # We initialize our new image\n",
        "    final_img = np.ones([64, 256])*255\n",
        "\n",
        "    # If the current image is too big (bigger height/width), we crop it\n",
        "    if w > 256:\n",
        "        img = img[:, :256]\n",
        "    if h > 64:\n",
        "        img = img[:64, :]\n",
        "\n",
        "    # We put the cropped image into our new image\n",
        "    final_img[:h, :w] = img\n",
        "    # We apply the rotation\n",
        "    return cv2.rotate(final_img, cv2.ROTATE_90_CLOCKWISE)"
      ],
      "metadata": {
        "id": "k58L4CJJ8aDn"
      },
      "execution_count": null,
      "outputs": []
    },
    {
      "cell_type": "code",
      "source": [
        "def create_dataset(train_size,valid_size):\n",
        "  train_images = []\n",
        "  valid_images = []\n",
        "\n",
        "  for i in range(train_size):\n",
        "      img_train = '/IMAGES/train/'+train.loc[i, 'FILENAME']\n",
        "      image_train = cv2.imread(img_train, cv2.IMREAD_GRAYSCALE)\n",
        "      image_train = preprocess(image_train)\n",
        "      image_train = image_train/255.\n",
        "      train_images.append(image_train)\n",
        "\n",
        "      if i < valid_size:\n",
        "        img_valid = '/IMAGES/validation/'+valid.loc[i, 'FILENAME']\n",
        "        image_valid = cv2.imread(img_valid, cv2.IMREAD_GRAYSCALE)\n",
        "        image_valid = preprocess(image_valid)\n",
        "        image_valid = image_valid/255.\n",
        "        valid_images.append(image_valid)\n",
        "\n",
        "\n",
        "\n",
        "  train_images = np.array(train_images).reshape(-1, 256, 64, 1)\n",
        "  valid_images = np.array(valid_images).reshape(-1, 256, 64, 1)\n",
        "\n",
        "  return train_images, valid_images"
      ],
      "metadata": {
        "id": "-Ab5P8dm9vJE"
      },
      "execution_count": null,
      "outputs": []
    },
    {
      "cell_type": "code",
      "source": [
        "train_size = 30080\n",
        "valid_size= 3200\n",
        "\n",
        "train_images, valid_images = create_dataset(train_size, valid_size)\n",
        "train_images = train_images.astype(np.float32)\n",
        "valid_images = valid_images.astype(np.float32)"
      ],
      "metadata": {
        "id": "xPvTrYVk9p6N"
      },
      "execution_count": null,
      "outputs": []
    },
    {
      "cell_type": "markdown",
      "source": [
        "The labels have to be converted to numbers which represent each character in the training set. We will here create an alphabet, which consist of A-Z letters and three special characters : <->, <'> and < >."
      ],
      "metadata": {
        "id": "FblW_Ln0EJEC"
      }
    },
    {
      "cell_type": "code",
      "source": [
        "labels = train['IDENTITY']\n",
        "max_word = 0\n",
        "for word in labels:\n",
        "  l = len(word)\n",
        "  if l > max_word:\n",
        "    max_word = l\n",
        "\n",
        "print(l)"
      ],
      "metadata": {
        "colab": {
          "base_uri": "https://localhost:8080/"
        },
        "id": "AeNykbck2fsI",
        "outputId": "c7745afc-6d9d-4ed5-9f78-cdccf5a10c39"
      },
      "execution_count": null,
      "outputs": [
        {
          "output_type": "stream",
          "name": "stdout",
          "text": [
            "7\n"
          ]
        }
      ]
    },
    {
      "cell_type": "markdown",
      "source": [
        "The maximum word's length over our whole dataset is 7."
      ],
      "metadata": {
        "id": "826maIpD3cfO"
      }
    },
    {
      "cell_type": "code",
      "source": [
        "alphabets = u\" ABCDEFGHIJKLMNOPQRSTUVWXYZ-'\"\n",
        "max_str_len = 24 # max length of input labels\n",
        "\n",
        "num_of_characters = len(alphabets) + 1 # +1 for ctc pseudo blank\n",
        "num_of_timestamps = 64 # max length of predicted labels\n",
        "\n",
        "def label_to_num(label):\n",
        "    # We initialize the output vector\n",
        "    label_num = []\n",
        "    # For each character of the label, we add the corresponding number\n",
        "    for ch in label:\n",
        "        label_num.append(alphabets.find(ch))\n",
        "\n",
        "    return np.array(label_num)\n",
        "\n",
        "def num_to_label(num):\n",
        "    # We initialize the output string\n",
        "    ret = \"\"\n",
        "    # For each number, we add the element of the alphabet at that position\n",
        "    for ch in num:\n",
        "        if ch == -1:  # CTC Blank\n",
        "            break\n",
        "        else:\n",
        "            ret+=alphabets[ch]\n",
        "    return ret"
      ],
      "metadata": {
        "id": "sc9Gg7BdEWNQ"
      },
      "execution_count": null,
      "outputs": []
    },
    {
      "cell_type": "markdown",
      "source": [
        "Now, we can test if our last functions work properly.\n"
      ],
      "metadata": {
        "id": "zB312jaFFKZ_"
      }
    },
    {
      "cell_type": "code",
      "source": [
        "name = 'DAVID'\n",
        "print(name, \" : \", label_to_num(name))\n",
        "print(label_to_num(name), \" : \", num_to_label(label_to_num(name)) )"
      ],
      "metadata": {
        "id": "d2i8phLSFPoW",
        "colab": {
          "base_uri": "https://localhost:8080/"
        },
        "outputId": "a82e36a7-7735-4ad2-cf08-827e837affb1"
      },
      "execution_count": null,
      "outputs": [
        {
          "output_type": "stream",
          "name": "stdout",
          "text": [
            "DAVID  :  [ 4  1 22  9  4]\n",
            "[ 4  1 22  9  4]  :  DAVID\n"
          ]
        }
      ]
    },
    {
      "cell_type": "markdown",
      "source": [
        "Now, let's create certain lists, that will be useful for the training:\n",
        "- *train_y* : contains the true labels converted to numbers and padded with -1.\n",
        "- *max_str_len* : length of each label\n",
        "- *train_label_len* : contains the length of each true label (without padding)\n",
        "- *train_input_len* : contains the length of each predicted label\n",
        "- *train_output* : a dummy output for ctc loss."
      ],
      "metadata": {
        "id": "d04_zeCzFP_N"
      }
    },
    {
      "cell_type": "code",
      "source": [
        "train_y = np.ones([train_size, max_str_len]) * -1\n",
        "train_label_len = np.zeros([train_size, 1])\n",
        "train_input_len = np.ones([train_size, 1]) * (num_of_timestamps-2)\n",
        "train_output = np.zeros([train_size])\n",
        "\n",
        "for i in range(train_size):\n",
        "    train_label_len[i] = len(train.loc[i, 'IDENTITY'])\n",
        "    train_y[i, 0:len(train.loc[i, 'IDENTITY'])]= label_to_num(train.loc[i, 'IDENTITY'])\n",
        "\n",
        "train_y = train_y.astype(int)\n",
        "train_label_len = train_label_len.astype(int)\n",
        "train_input_len = train_input_len.astype(int)\n",
        "\n",
        "train_label_len = torch.from_numpy(train_label_len)\n",
        "train_input_len = torch.from_numpy(train_input_len)"
      ],
      "metadata": {
        "id": "TTlj_LsZFzKJ"
      },
      "execution_count": null,
      "outputs": []
    },
    {
      "cell_type": "code",
      "source": [
        "valid_y = np.ones([valid_size, max_str_len]) * -1\n",
        "valid_label_len = np.zeros([valid_size, 1])\n",
        "valid_input_len = np.ones([valid_size, 1]) * (num_of_timestamps-2)\n",
        "valid_output = np.zeros([valid_size])\n",
        "\n",
        "for i in range(valid_size):\n",
        "    valid_label_len[i] = len(valid.loc[i, 'IDENTITY'])\n",
        "    valid_y[i, 0:len(valid.loc[i, 'IDENTITY'])]= label_to_num(valid.loc[i, 'IDENTITY'])\n",
        "\n",
        "valid_y = valid_y.astype(int)\n",
        "valid_label_len = valid_label_len.astype(int)\n",
        "valid_input_len = valid_input_len.astype(int)\n",
        "\n",
        "valid_images,valid_y,valid_label_len,valid_input_len\n",
        "\n",
        "\n",
        "valid_label_len = torch.from_numpy(valid_label_len)\n",
        "valid_input_len = torch.from_numpy(valid_input_len)"
      ],
      "metadata": {
        "id": "qhR6SdY2F10A"
      },
      "execution_count": null,
      "outputs": []
    },
    {
      "cell_type": "code",
      "source": [
        "class HandWrittenDataset(Dataset):\n",
        "  def __init__(self, images, labels, transform=None):\n",
        "    self.images = images\n",
        "    self.labels = labels\n",
        "    self.transform = transform\n",
        "\n",
        "  def __len__(self):\n",
        "    return len(self.images)\n",
        "\n",
        "  def __getitem__(self,idx):\n",
        "    image = self.images[idx]\n",
        "    label = self.labels[idx]\n",
        "\n",
        "    if self.transform:\n",
        "      image = self.transform(image)\n",
        "\n",
        "    return image, label"
      ],
      "metadata": {
        "id": "uM8_5zs_8n43"
      },
      "execution_count": null,
      "outputs": []
    },
    {
      "cell_type": "code",
      "source": [
        "transform = transforms.Compose([transforms.ToTensor()])\n",
        "train_dataset = HandWrittenDataset(train_images, train_y, transform=transform)\n",
        "valid_dataset = HandWrittenDataset(valid_images, valid_y, transform=transform)\n",
        "\n",
        "train_loader = DataLoader(train_dataset, batch_size=128, shuffle=False)\n",
        "valid_loader = DataLoader(valid_dataset, batch_size=128, shuffle=False)"
      ],
      "metadata": {
        "id": "mOdbfmneIRt3"
      },
      "execution_count": null,
      "outputs": []
    },
    {
      "cell_type": "markdown",
      "source": [
        "## First model"
      ],
      "metadata": {
        "id": "tYVSpupHF6qp"
      }
    },
    {
      "cell_type": "code",
      "source": [
        "# function to count number of parameters\n",
        "def get_n_params(model):\n",
        "    np=0\n",
        "    for p in list(model.parameters()):\n",
        "        np += p.numel()\n",
        "    return np"
      ],
      "metadata": {
        "id": "RChh3t11-O6J"
      },
      "execution_count": null,
      "outputs": []
    },
    {
      "cell_type": "code",
      "source": [
        "class CRNN(nn.Module):\n",
        "    def __init__(self, rnn_input_dim, rnn_hidden_dim, n_rnn_layers, output_dim, drop_prob=0.):\n",
        "        super(CRNN, self).__init__()\n",
        "        self.rnn_input_dim = rnn_input_dim\n",
        "        self.rnn_hidden_dim = rnn_hidden_dim\n",
        "        self.n_rnn_layers = n_rnn_layers\n",
        "        self.output_dim = output_dim\n",
        "\n",
        "        self.conv1 = nn.Conv2d(in_channels=1, out_channels=32, kernel_size=3, padding='same')\n",
        "        self.norm1 = nn.BatchNorm2d(32)\n",
        "        #nn.init.xavier_uniform_(self.conv1.weight)\n",
        "        nn.init.kaiming_normal_(self.conv1.weight, mode='fan_in',nonlinearity='relu')\n",
        "        #self.dropout1 = nn.Dropout2d(p=drop_prob)\n",
        "\n",
        "        self.conv2 = nn.Conv2d(in_channels=32, out_channels=64, kernel_size=3, padding='same')\n",
        "        self.norm2 = nn.BatchNorm2d(64)\n",
        "        #nn.init.xavier_uniform_(self.conv2.weight)\n",
        "        nn.init.kaiming_normal_(self.conv2.weight, mode='fan_in',nonlinearity='relu')\n",
        "        self.dropout2 = nn.Dropout2d(p=drop_prob)\n",
        "\n",
        "        self.conv3 = nn.Conv2d(in_channels=64, out_channels=128, kernel_size=3, padding='same')\n",
        "        self.norm3 = nn.BatchNorm2d(128)\n",
        "        #nn.init.xavier_uniform_(self.conv3.weight)\n",
        "        nn.init.kaiming_normal_(self.conv3.weight, mode='fan_in',nonlinearity='relu')\n",
        "        self.dropout3 = nn.Dropout2d(p=drop_prob)\n",
        "\n",
        "        self.maxpool = nn.MaxPool2d(kernel_size=2)\n",
        "        self.maxpool2 = nn.MaxPool2d(kernel_size=(1,2))\n",
        "\n",
        "        self.rnn = nn.LSTM(rnn_input_dim, rnn_hidden_dim, n_rnn_layers, batch_first=True, bidirectional=True, dropout=drop_prob)\n",
        "\n",
        "        self.fc1 = nn.Linear(1024, rnn_input_dim)\n",
        "        nn.init.kaiming_normal_(self.fc1.weight, mode='fan_in',nonlinearity='relu')\n",
        "        #nn.init.xavier_uniform_(self.fc1.weight)\n",
        "\n",
        "        self.fc2 = nn.Linear(2*rnn_hidden_dim, output_dim)\n",
        "        nn.init.kaiming_normal_(self.fc2.weight, mode='fan_in',nonlinearity='relu')\n",
        "        #nn.init.xavier_uniform_(self.fc2.weight)\n",
        "\n",
        "                                      # Batch, Channel, Width, Height\n",
        "    def forward(self, x, h, c=None):  # Size : b,  1, 256, 64\n",
        "        x = self.conv1(x)             # Size : b, 32, 256, 64\n",
        "        x = self.norm1(x)             # Size : b, 32, 256, 64\n",
        "        x = F.relu(x)                 # Size : b, 32, 256, 64\n",
        "        x = self.maxpool(x)           # Size : b, 32, 128, 32\n",
        "\n",
        "        x = self.conv2(x)             # Size : b, 64, 128, 32\n",
        "        x = self.norm2(x)             # Size : b, 64, 128, 32\n",
        "        x = F.relu(x)                 # Size : b, 64, 128, 32\n",
        "        x = self.maxpool(x)           # Size : b, 64,  64, 16\n",
        "        x = self.dropout2(x)\n",
        "\n",
        "        x = self.conv3(x)             # Size : b, 128, 64, 16\n",
        "        x = self.norm3(x)             # Size : b, 128, 64, 16\n",
        "        x = F.relu(x)                 # Size : b, 128, 64, 16\n",
        "        x = self.maxpool2(x)          # Size : b, 128, 64,  8\n",
        "        x = self.dropout3(x)\n",
        "\n",
        "        x = x.permute(0,2,3,1)        # Size : b, 64, 8, 128\n",
        "        x = x.reshape((x.shape[0], x.shape[1], 1024)) # Size : b, 64, 1024\n",
        "\n",
        "        x = self.fc1(x)               # Size : b,  64, 64\n",
        "        x = F.relu(x)                 # Size : b,  64, 64\n",
        "\n",
        "        x, (h, c) = self.rnn(x, (h, c))    # Size : b, 64, 1024\n",
        "\n",
        "        x = self.fc2(x)               # Size : b, 64, 30\n",
        "        x = F.log_softmax(x, dim=2)\n",
        "        return x, h, c\n",
        "\n",
        "    def init_hidden(self, batch_size):\n",
        "        #Initialize the hidden state of the RNN to zeros\n",
        "        weight = next(self.parameters()).data\n",
        "        return weight.new(2*self.n_rnn_layers, batch_size, self.rnn_hidden_dim).zero_().cuda(), weight.new(2*self.n_rnn_layers, batch_size, self.rnn_hidden_dim).zero_().cuda()"
      ],
      "metadata": {
        "id": "XGtO0115A8Ru"
      },
      "execution_count": null,
      "outputs": []
    },
    {
      "cell_type": "code",
      "source": [
        "def gradient_clipping(model, min, max):\n",
        "  for name, param in model.named_parameters():\n",
        "    if param.grad is not None:\n",
        "      param.grad.data = torch.clamp(param.grad.data, min=min, max=max)\n",
        "      param.grad.data[param.grad.data.abs() < min] = min"
      ],
      "metadata": {
        "id": "oazduORaE70s"
      },
      "execution_count": null,
      "outputs": []
    },
    {
      "cell_type": "code",
      "source": [
        "def decode(pred,batch_size,str_len):\n",
        "  decoded_batch = np.ones((batch_size,str_len),dtype=int)*(-1)\n",
        "  blank=0\n",
        "  pred = pred.cpu().numpy()\n",
        "\n",
        "  for b in range(batch_size):\n",
        "    previous_letter = blank\n",
        "    index=0\n",
        "    for k in range(64):\n",
        "      letter = pred[b,k]\n",
        "      if letter != previous_letter and letter != blank:\n",
        "        decoded_batch[b,index] = letter.item()\n",
        "        previous_letter = letter\n",
        "        index+=1\n",
        "\n",
        "  return decoded_batch"
      ],
      "metadata": {
        "id": "znhxaRVZwYHd"
      },
      "execution_count": null,
      "outputs": []
    },
    {
      "cell_type": "code",
      "source": [
        "def train_model(dataloader, model, batch_size, criterion, optimizer, num_epochs, valid_loader):\n",
        "    train_losses = []\n",
        "    valid_losses = []\n",
        "    words_acc_val = []\n",
        "    letters_acc_val = []\n",
        "\n",
        "    for epoch in range(num_epochs):\n",
        "        model.train()\n",
        "\n",
        "        for batch, (x, y) in enumerate(dataloader):\n",
        "            h_state, c_state = model.init_hidden(batch_size)\n",
        "\n",
        "            h_state = h_state.to(device)\n",
        "\n",
        "            if c_state is not None:\n",
        "                c_state = c_state.to(device)\n",
        "\n",
        "            x = x.to(device)\n",
        "            y = y.to(device)\n",
        "            optimizer.zero_grad()\n",
        "\n",
        "            y_pred, h_state, c_state = model(x, h_state, c_state)\n",
        "\n",
        "            #input_lengths = torch.full(size=(batch_size,), fill_value=64, dtype=torch.long)\n",
        "            #target_lengths = torch.full(size=(batch_size,), fill_value=1, dtype=torch.long)\n",
        "            target_lengths = train_label_len[(batch*batch_size):((batch+1)*batch_size)]\n",
        "            input_lengths = train_input_len[(batch*batch_size):((batch+1)*batch_size)]\n",
        "\n",
        "            loss = criterion(y_pred.transpose(1,0), y, input_lengths, target_lengths) #.transpose(1, 2)\n",
        "            loss.backward()\n",
        "\n",
        "            # Gradient clipping\n",
        "            nn.utils.clip_grad_norm_(model.parameters(), 1)\n",
        "            #gradient_clipping(model, 0.0001, 1)\n",
        "\n",
        "            #for name, param in model.named_parameters():\n",
        "              #if param.grad is not None:\n",
        "                #print(name, torch.mean(param.grad).item(), loss.item())\n",
        "\n",
        "            optimizer.step()\n",
        "\n",
        "            if batch%30 == 0:\n",
        "              print({ 'batch': batch, 'epoch': epoch, 'training loss': loss.item()})\n",
        "\n",
        "        val_loss, accuracy_words, accuracy_letters = validate(criterion, model, valid_loader, batch_size)\n",
        "\n",
        "        train_losses.append(loss.item())\n",
        "        valid_losses.append(val_loss)\n",
        "        words_acc_val.append(accuracy_words)\n",
        "        letters_acc_val.append(accuracy_letters)\n",
        "\n",
        "        print({ 'epoch': epoch, 'training loss': loss.item(), 'validation loss':val_loss, \"Words accuracy\":accuracy_words, \"Letters accuracy\":accuracy_letters})\n",
        "\n",
        "    return train_losses, valid_losses, words_acc_val, letters_acc_val\n"
      ],
      "metadata": {
        "id": "T1cxPYJF7cgj"
      },
      "execution_count": null,
      "outputs": []
    },
    {
      "cell_type": "code",
      "source": [
        "rnn_input_dim = 64\n",
        "rnn_hidden_dim = 512\n",
        "output_dim = num_of_characters\n",
        "n_rnn_layers = 2\n",
        "drop_prob = 0.3\n",
        "\n",
        "torch.backends.cudnn.benchmark = True\n",
        "torch.manual_seed(0) # seed for reproductibility\n",
        "criterion = torch.nn.CTCLoss()\n",
        "\n",
        "model = CRNN(rnn_input_dim, rnn_hidden_dim, n_rnn_layers, output_dim, drop_prob).to(device)\n",
        "optimizer = optim.Adam(model.parameters(), lr=0.001, weight_decay=0.001) #\n",
        "\n",
        "print(f\"Number of parameters {get_n_params(model)}:\")\n",
        "model.to(device)"
      ],
      "metadata": {
        "id": "A2o6swkYhvTT",
        "colab": {
          "base_uri": "https://localhost:8080/"
        },
        "outputId": "67fe36bc-d95c-4fb0-94cc-ae219dffa4ed"
      },
      "execution_count": null,
      "outputs": [
        {
          "output_type": "stream",
          "name": "stdout",
          "text": [
            "Number of parameters 8856606:\n"
          ]
        },
        {
          "output_type": "execute_result",
          "data": {
            "text/plain": [
              "CRNN(\n",
              "  (conv1): Conv2d(1, 32, kernel_size=(3, 3), stride=(1, 1), padding=same)\n",
              "  (norm1): BatchNorm2d(32, eps=1e-05, momentum=0.1, affine=True, track_running_stats=True)\n",
              "  (conv2): Conv2d(32, 64, kernel_size=(3, 3), stride=(1, 1), padding=same)\n",
              "  (norm2): BatchNorm2d(64, eps=1e-05, momentum=0.1, affine=True, track_running_stats=True)\n",
              "  (dropout2): Dropout2d(p=0.3, inplace=False)\n",
              "  (conv3): Conv2d(64, 128, kernel_size=(3, 3), stride=(1, 1), padding=same)\n",
              "  (norm3): BatchNorm2d(128, eps=1e-05, momentum=0.1, affine=True, track_running_stats=True)\n",
              "  (dropout3): Dropout2d(p=0.3, inplace=False)\n",
              "  (maxpool): MaxPool2d(kernel_size=2, stride=2, padding=0, dilation=1, ceil_mode=False)\n",
              "  (maxpool2): MaxPool2d(kernel_size=(1, 2), stride=(1, 2), padding=0, dilation=1, ceil_mode=False)\n",
              "  (rnn): LSTM(64, 512, num_layers=2, batch_first=True, dropout=0.3, bidirectional=True)\n",
              "  (fc1): Linear(in_features=1024, out_features=64, bias=True)\n",
              "  (fc2): Linear(in_features=1024, out_features=30, bias=True)\n",
              ")"
            ]
          },
          "metadata": {},
          "execution_count": 37
        }
      ]
    },
    {
      "cell_type": "code",
      "source": [
        "@torch.no_grad()  # prevent this function from computing gradients\n",
        "def validate(criterion, model, loader, batch_size):\n",
        "\n",
        "    val_loss = 0\n",
        "    correct_words = 0\n",
        "    correct_letters = 0\n",
        "    n_letters = 0\n",
        "\n",
        "    model.eval()\n",
        "\n",
        "    for batch, (data, target) in enumerate(loader):\n",
        "        h_state, c_state = model.init_hidden(batch_size)\n",
        "\n",
        "        h_state = h_state.to(device)\n",
        "\n",
        "        if c_state is not None:\n",
        "          c_state = c_state.to(device)\n",
        "\n",
        "\n",
        "        data, target = data.to(device), target.to(device)\n",
        "\n",
        "        output, h_state, c_state = model(data, h_state, c_state)\n",
        "\n",
        "        #input_lengths = torch.full(size=(batch_size,), fill_value=64, dtype=torch.long)\n",
        "        #target_lengths = torch.full(size=(batch_size,), fill_value=1, dtype=torch.long)\n",
        "\n",
        "        target_lengths = valid_label_len[(batch*batch_size):((batch+1)*batch_size)]\n",
        "        input_lengths = valid_input_len[(batch*batch_size):((batch+1)*batch_size)]\n",
        "\n",
        "        loss = criterion(output.transpose(0, 1), target, input_lengths, target_lengths)\n",
        "\n",
        "        val_loss += loss.item()\n",
        "\n",
        "        _, pred = torch.max(output.data,dim=2)\n",
        "\n",
        "        target = target.cpu().numpy()\n",
        "\n",
        "        pred = decode(pred,batch_size,24)\n",
        "\n",
        "        correct_words += np.sum(np.sum((abs(target-pred)),axis=1)==0)\n",
        "        correct_letters += np.sum(abs(target-pred)==0, where=(target!=-1))\n",
        "\n",
        "        n_letters += np.sum(target!=-1)\n",
        "\n",
        "    val_loss /= 25\n",
        "    accuracy_words = correct_words / len(loader.dataset)\n",
        "    accuracy_letters = correct_letters / n_letters\n",
        "    #print('\\nTest set: Average loss: {:.4f}, Word accuracy: {}/{} ({:.0f}%), Letter accuracy: {}/{} ({:.0f}%)\\n'.format(\n",
        "        #val_loss, correct_words, len(loader.dataset), accuracy_words, correct_letters, n_letters, accuracy_letters))\n",
        "\n",
        "\n",
        "    return val_loss, accuracy_words, accuracy_letters"
      ],
      "metadata": {
        "id": "qwm2mbef9jPO"
      },
      "execution_count": null,
      "outputs": []
    },
    {
      "cell_type": "code",
      "source": [
        "batch_size = 128\n",
        "num_epochs = 10\n",
        "\n",
        "train_loss, valid_loss, words_acc_val, letters_acc_val = train_model(train_loader, model, batch_size, criterion, optimizer, num_epochs, valid_loader)"
      ],
      "metadata": {
        "id": "_lWACgtLDWwR",
        "colab": {
          "base_uri": "https://localhost:8080/"
        },
        "outputId": "557b1092-81f2-4f7f-e835-89a7f050d244"
      },
      "execution_count": null,
      "outputs": [
        {
          "output_type": "stream",
          "name": "stdout",
          "text": [
            "{'batch': 0, 'epoch': 0, 'training loss': 29.653261184692383}\n",
            "{'batch': 30, 'epoch': 0, 'training loss': 3.179574966430664}\n",
            "{'batch': 60, 'epoch': 0, 'training loss': 3.084138870239258}\n",
            "{'batch': 90, 'epoch': 0, 'training loss': 3.0486488342285156}\n",
            "{'batch': 120, 'epoch': 0, 'training loss': 2.931671142578125}\n",
            "{'batch': 150, 'epoch': 0, 'training loss': 2.893439769744873}\n",
            "{'batch': 180, 'epoch': 0, 'training loss': 2.794822931289673}\n",
            "{'batch': 210, 'epoch': 0, 'training loss': 2.5862393379211426}\n",
            "{'epoch': 0, 'training loss': 2.468776226043701, 'validation loss': 2.3247852516174317, 'Words accuracy': 0.0040625, 'Letters accuracy': 0.11160841824588134}\n",
            "{'batch': 0, 'epoch': 1, 'training loss': 2.341891288757324}\n",
            "{'batch': 30, 'epoch': 1, 'training loss': 2.196714401245117}\n",
            "{'batch': 60, 'epoch': 1, 'training loss': 1.961592674255371}\n",
            "{'batch': 90, 'epoch': 1, 'training loss': 1.5681049823760986}\n",
            "{'batch': 120, 'epoch': 1, 'training loss': 1.3133424520492554}\n",
            "{'batch': 150, 'epoch': 1, 'training loss': 1.2530250549316406}\n",
            "{'batch': 180, 'epoch': 1, 'training loss': 1.0841197967529297}\n",
            "{'batch': 210, 'epoch': 1, 'training loss': 0.8863109350204468}\n",
            "{'epoch': 1, 'training loss': 0.8481755256652832, 'validation loss': 0.7944442105293273, 'Words accuracy': 0.264375, 'Letters accuracy': 0.6423673935815637}\n",
            "{'batch': 0, 'epoch': 2, 'training loss': 0.8426786661148071}\n",
            "{'batch': 30, 'epoch': 2, 'training loss': 0.8302721381187439}\n",
            "{'batch': 60, 'epoch': 2, 'training loss': 0.7501556873321533}\n",
            "{'batch': 90, 'epoch': 2, 'training loss': 0.7005445957183838}\n",
            "{'batch': 120, 'epoch': 2, 'training loss': 0.6422762870788574}\n",
            "{'batch': 150, 'epoch': 2, 'training loss': 0.768917977809906}\n",
            "{'batch': 180, 'epoch': 2, 'training loss': 0.6667625308036804}\n",
            "{'batch': 210, 'epoch': 2, 'training loss': 0.6460574865341187}\n",
            "{'epoch': 2, 'training loss': 0.575046718120575, 'validation loss': 0.5349866104125977, 'Words accuracy': 0.4359375, 'Letters accuracy': 0.7332634987144081}\n",
            "{'batch': 0, 'epoch': 3, 'training loss': 0.6191758513450623}\n",
            "{'batch': 30, 'epoch': 3, 'training loss': 0.5790796279907227}\n",
            "{'batch': 60, 'epoch': 3, 'training loss': 0.5969716310501099}\n",
            "{'batch': 90, 'epoch': 3, 'training loss': 0.5302518010139465}\n",
            "{'batch': 120, 'epoch': 3, 'training loss': 0.5212159156799316}\n",
            "{'batch': 150, 'epoch': 3, 'training loss': 0.6575189828872681}\n",
            "{'batch': 180, 'epoch': 3, 'training loss': 0.5134267807006836}\n",
            "{'batch': 210, 'epoch': 3, 'training loss': 0.5578618049621582}\n",
            "{'epoch': 3, 'training loss': 0.47416162490844727, 'validation loss': 0.42665262818336486, 'Words accuracy': 0.510625, 'Letters accuracy': 0.7733073040662795}\n",
            "{'batch': 0, 'epoch': 4, 'training loss': 0.509440541267395}\n",
            "{'batch': 30, 'epoch': 4, 'training loss': 0.45005327463150024}\n",
            "{'batch': 60, 'epoch': 4, 'training loss': 0.46582239866256714}\n",
            "{'batch': 90, 'epoch': 4, 'training loss': 0.471547394990921}\n",
            "{'batch': 120, 'epoch': 4, 'training loss': 0.5079716444015503}\n",
            "{'batch': 150, 'epoch': 4, 'training loss': 0.5552564263343811}\n",
            "{'batch': 180, 'epoch': 4, 'training loss': 0.4455296993255615}\n",
            "{'batch': 210, 'epoch': 4, 'training loss': 0.48053598403930664}\n",
            "{'epoch': 4, 'training loss': 0.40055280923843384, 'validation loss': 0.39563761949539183, 'Words accuracy': 0.5303125, 'Letters accuracy': 0.7836872678792496}\n",
            "{'batch': 0, 'epoch': 5, 'training loss': 0.4489273428916931}\n",
            "{'batch': 30, 'epoch': 5, 'training loss': 0.44159287214279175}\n",
            "{'batch': 60, 'epoch': 5, 'training loss': 0.40356528759002686}\n",
            "{'batch': 90, 'epoch': 5, 'training loss': 0.3843710422515869}\n",
            "{'batch': 120, 'epoch': 5, 'training loss': 0.3795710802078247}\n",
            "{'batch': 150, 'epoch': 5, 'training loss': 0.5443858504295349}\n",
            "{'batch': 180, 'epoch': 5, 'training loss': 0.3848925828933716}\n",
            "{'batch': 210, 'epoch': 5, 'training loss': 0.4489614963531494}\n",
            "{'epoch': 5, 'training loss': 0.35918933153152466, 'validation loss': 0.3498498010635376, 'Words accuracy': 0.5625, 'Letters accuracy': 0.7926387963051138}\n",
            "{'batch': 0, 'epoch': 6, 'training loss': 0.3573157787322998}\n",
            "{'batch': 30, 'epoch': 6, 'training loss': 0.3761410713195801}\n",
            "{'batch': 60, 'epoch': 6, 'training loss': 0.41963547468185425}\n",
            "{'batch': 90, 'epoch': 6, 'training loss': 0.3606698513031006}\n",
            "{'batch': 120, 'epoch': 6, 'training loss': 0.38245582580566406}\n",
            "{'batch': 150, 'epoch': 6, 'training loss': 0.5033990144729614}\n",
            "{'batch': 180, 'epoch': 6, 'training loss': 0.3772548735141754}\n",
            "{'batch': 210, 'epoch': 6, 'training loss': 0.44574177265167236}\n",
            "{'epoch': 6, 'training loss': 0.3555046617984772, 'validation loss': 0.35425456285476686, 'Words accuracy': 0.555625, 'Letters accuracy': 0.7951623654890011}\n",
            "{'batch': 0, 'epoch': 7, 'training loss': 0.40148523449897766}\n",
            "{'batch': 30, 'epoch': 7, 'training loss': 0.35701215267181396}\n",
            "{'batch': 60, 'epoch': 7, 'training loss': 0.39796796441078186}\n",
            "{'batch': 90, 'epoch': 7, 'training loss': 0.35190045833587646}\n",
            "{'batch': 120, 'epoch': 7, 'training loss': 0.3315959870815277}\n",
            "{'batch': 150, 'epoch': 7, 'training loss': 0.4590553045272827}\n",
            "{'batch': 180, 'epoch': 7, 'training loss': 0.3634273409843445}\n",
            "{'batch': 210, 'epoch': 7, 'training loss': 0.45391881465911865}\n",
            "{'epoch': 7, 'training loss': 0.3180169463157654, 'validation loss': 0.3277839994430542, 'Words accuracy': 0.5865625, 'Letters accuracy': 0.8093991048471574}\n",
            "{'batch': 0, 'epoch': 8, 'training loss': 0.3596023917198181}\n",
            "{'batch': 30, 'epoch': 8, 'training loss': 0.358038067817688}\n",
            "{'batch': 60, 'epoch': 8, 'training loss': 0.35720527172088623}\n",
            "{'batch': 90, 'epoch': 8, 'training loss': 0.31824618577957153}\n",
            "{'batch': 120, 'epoch': 8, 'training loss': 0.3244616389274597}\n",
            "{'batch': 150, 'epoch': 8, 'training loss': 0.4343007802963257}\n",
            "{'batch': 180, 'epoch': 8, 'training loss': 0.3210069239139557}\n",
            "{'batch': 210, 'epoch': 8, 'training loss': 0.403582364320755}\n",
            "{'epoch': 8, 'training loss': 0.3063660264015198, 'validation loss': 0.32217280089855194, 'Words accuracy': 0.60125, 'Letters accuracy': 0.8096847919245787}\n",
            "{'batch': 0, 'epoch': 9, 'training loss': 0.3289315700531006}\n",
            "{'batch': 30, 'epoch': 9, 'training loss': 0.32892483472824097}\n",
            "{'batch': 60, 'epoch': 9, 'training loss': 0.37020471692085266}\n",
            "{'batch': 90, 'epoch': 9, 'training loss': 0.3097357153892517}\n",
            "{'batch': 120, 'epoch': 9, 'training loss': 0.2986217141151428}\n",
            "{'batch': 150, 'epoch': 9, 'training loss': 0.4292079210281372}\n",
            "{'batch': 180, 'epoch': 9, 'training loss': 0.3271811604499817}\n",
            "{'batch': 210, 'epoch': 9, 'training loss': 0.3984145522117615}\n",
            "{'epoch': 9, 'training loss': 0.3177497684955597, 'validation loss': 0.31782528638839724, 'Words accuracy': 0.595625, 'Letters accuracy': 0.8105894676697457}\n"
          ]
        }
      ]
    },
    {
      "cell_type": "code",
      "source": [
        "plt.subplot(1,3,1)\n",
        "plt.plot(train_loss, label='Training')\n",
        "plt.plot(valid_loss, label='Validation')\n",
        "plt.title(\"Losses\")\n",
        "plt.legend()\n",
        "\n",
        "plt.subplot(1,3,2)\n",
        "plt.plot(words_acc_val)\n",
        "plt.title(\"Words accuracy\")\n",
        "\n",
        "plt.subplot(1,3,3)\n",
        "plt.plot(letters_acc_val)\n",
        "plt.title(\"Letters accuracy\")"
      ],
      "metadata": {
        "id": "RTBD44kMtIjb",
        "colab": {
          "base_uri": "https://localhost:8080/",
          "height": 470
        },
        "outputId": "69275d01-eaa2-42b1-e4ca-b404cf8c5341"
      },
      "execution_count": null,
      "outputs": [
        {
          "output_type": "execute_result",
          "data": {
            "text/plain": [
              "Text(0.5, 1.0, 'Letters accuracy')"
            ]
          },
          "metadata": {},
          "execution_count": 41
        },
        {
          "output_type": "display_data",
          "data": {
            "text/plain": [
              "<Figure size 640x480 with 3 Axes>"
            ],
            "image/png": "[encoded data removed]"
          },
          "metadata": {}
        }
      ]
    },
    {
      "cell_type": "markdown",
      "source": [
        "## Tests for the model"
      ],
      "metadata": {
        "id": "KT0QHgi_yVjU"
      }
    },
    {
      "cell_type": "code",
      "source": [
        "def just_train_model(dataloader, model, batch_size, criterion, optimizer, num_epochs, valid_loader):\n",
        "    train_losses = []\n",
        "    valid_losses = []\n",
        "    words_acc = []\n",
        "    letters_acc = []\n",
        "\n",
        "    for epoch in range(num_epochs):\n",
        "        model.train()\n",
        "\n",
        "        for batch, (x, y) in enumerate(dataloader):\n",
        "            h_state, c_state = model.init_hidden(batch_size)\n",
        "\n",
        "            h_state = h_state.to(device)\n",
        "\n",
        "            if c_state is not None:\n",
        "                c_state = c_state.to(device)\n",
        "\n",
        "            x = x.to(device)\n",
        "            y = y.to(device)\n",
        "            optimizer.zero_grad()\n",
        "\n",
        "            y_pred, h_state, c_state = model(x, h_state, c_state)\n",
        "\n",
        "            #input_lengths = torch.full(size=(batch_size,), fill_value=64, dtype=torch.long)\n",
        "            #target_lengths = torch.full(size=(batch_size,), fill_value=1, dtype=torch.long)\n",
        "            target_lengths = train_label_len[(batch*batch_size):((batch+1)*batch_size)]\n",
        "            input_lengths = train_input_len[(batch*batch_size):((batch+1)*batch_size)]\n",
        "\n",
        "            y_pred = y_pred.transpose(1,0)\n",
        "\n",
        "            loss = criterion(y_pred, y, input_lengths, target_lengths) #.transpose(1, 2)\n",
        "            loss.backward()\n",
        "\n",
        "            # Gradient clipping\n",
        "            nn.utils.clip_grad_norm_(model.parameters(), 1)\n",
        "            #gradient_clipping(model, 0.0001, 1)\n",
        "\n",
        "            #for name, param in model.named_parameters():\n",
        "              #if param.grad is not None:\n",
        "                #print(name, torch.mean(param.grad).item(), loss.item())\n",
        "\n",
        "            optimizer.step()\n",
        "\n",
        "            if batch%30 == 0:\n",
        "              print({ 'batch': batch, 'epoch': epoch, 'training loss': loss.item()})\n",
        "\n",
        "        train_losses.append(loss.item())\n",
        "\n",
        "    return train_losses\n"
      ],
      "metadata": {
        "id": "73VKaPEdgc3m"
      },
      "execution_count": null,
      "outputs": []
    },
    {
      "cell_type": "code",
      "source": [
        "batch_size = 128\n",
        "num_epochs = 3\n",
        "\n",
        "train_loss = just_train_model(train_loader, model, batch_size, criterion, optimizer, num_epochs, valid_loader)"
      ],
      "metadata": {
        "colab": {
          "base_uri": "https://localhost:8080/"
        },
        "id": "ANvql5m2gqLd",
        "outputId": "75b6fdf6-c721-4998-924b-d545e099be6a"
      },
      "execution_count": null,
      "outputs": [
        {
          "output_type": "stream",
          "name": "stdout",
          "text": [
            "{'batch': 0, 'epoch': 0, 'training loss': 29.653261184692383}\n",
            "{'batch': 30, 'epoch': 0, 'training loss': 3.179574966430664}\n",
            "{'batch': 60, 'epoch': 0, 'training loss': 3.0841307640075684}\n",
            "{'batch': 90, 'epoch': 0, 'training loss': 3.048384666442871}\n",
            "{'batch': 120, 'epoch': 0, 'training loss': 2.9317727088928223}\n",
            "{'batch': 150, 'epoch': 0, 'training loss': 2.894658327102661}\n",
            "{'batch': 180, 'epoch': 0, 'training loss': 2.787459373474121}\n",
            "{'batch': 210, 'epoch': 0, 'training loss': 2.59076189994812}\n",
            "{'batch': 0, 'epoch': 1, 'training loss': 2.378973960876465}\n",
            "{'batch': 30, 'epoch': 1, 'training loss': 2.256075859069824}\n",
            "{'batch': 60, 'epoch': 1, 'training loss': 1.928457498550415}\n",
            "{'batch': 90, 'epoch': 1, 'training loss': 1.646215558052063}\n",
            "{'batch': 120, 'epoch': 1, 'training loss': 1.4636814594268799}\n",
            "{'batch': 150, 'epoch': 1, 'training loss': 1.3231427669525146}\n",
            "{'batch': 180, 'epoch': 1, 'training loss': 1.1557586193084717}\n",
            "{'batch': 210, 'epoch': 1, 'training loss': 0.9776161313056946}\n",
            "{'batch': 0, 'epoch': 2, 'training loss': 0.9274773597717285}\n",
            "{'batch': 30, 'epoch': 2, 'training loss': 0.8662426471710205}\n",
            "{'batch': 60, 'epoch': 2, 'training loss': 0.8316086530685425}\n",
            "{'batch': 90, 'epoch': 2, 'training loss': 0.6935986876487732}\n",
            "{'batch': 120, 'epoch': 2, 'training loss': 0.6883901357650757}\n",
            "{'batch': 150, 'epoch': 2, 'training loss': 0.8345370292663574}\n",
            "{'batch': 180, 'epoch': 2, 'training loss': 0.6222409009933472}\n",
            "{'batch': 210, 'epoch': 2, 'training loss': 0.6541131734848022}\n"
          ]
        }
      ]
    },
    {
      "cell_type": "code",
      "source": [
        "rnn_input_dim = 64\n",
        "rnn_hidden_dim = 512\n",
        "output_dim = num_of_characters\n",
        "n_rnn_layers = 1\n",
        "drop_prob = 0.3\n",
        "\n",
        "torch.backends.cudnn.benchmark = True\n",
        "torch.manual_seed(0) # seed for reproductibility\n",
        "criterion = torch.nn.CTCLoss()\n",
        "\n",
        "model_2 = CRNN_2(rnn_input_dim, rnn_hidden_dim, n_rnn_layers, output_dim, drop_prob).to(device)\n",
        "optimizer = optim.Adam(model_2.parameters(), lr=0.001, weight_decay=0.00001) #\n",
        "\n",
        "print(f\"Number of parameters {get_n_params(model_2)}:\")\n",
        "model_2.to(device)"
      ],
      "metadata": {
        "colab": {
          "base_uri": "https://localhost:8080/"
        },
        "id": "rgmcU00DBV5I",
        "outputId": "d7c94d63-3caa-429d-d7fe-e8f516dcc797"
      },
      "execution_count": null,
      "outputs": [
        {
          "output_type": "stream",
          "name": "stdout",
          "text": [
            "Number of parameters 2556958:\n"
          ]
        },
        {
          "output_type": "stream",
          "name": "stderr",
          "text": [
            "/usr/local/lib/python3.10/dist-packages/torch/nn/modules/rnn.py:83: UserWarning: dropout option adds dropout after all but last recurrent layer, so non-zero dropout expects num_layers greater than 1, but got dropout=0.3 and num_layers=1\n",
            "  warnings.warn(\"dropout option adds dropout after all but last \"\n"
          ]
        },
        {
          "output_type": "execute_result",
          "data": {
            "text/plain": [
              "CRNN_2(\n",
              "  (conv1): Conv2d(1, 32, kernel_size=(3, 3), stride=(1, 1), padding=same)\n",
              "  (norm1): BatchNorm2d(32, eps=1e-05, momentum=0.1, affine=True, track_running_stats=True)\n",
              "  (conv2): Conv2d(32, 64, kernel_size=(3, 3), stride=(1, 1), padding=same)\n",
              "  (norm2): BatchNorm2d(64, eps=1e-05, momentum=0.1, affine=True, track_running_stats=True)\n",
              "  (dropout2): Dropout2d(p=0.3, inplace=False)\n",
              "  (conv3): Conv2d(64, 128, kernel_size=(3, 3), stride=(1, 1), padding=same)\n",
              "  (norm3): BatchNorm2d(128, eps=1e-05, momentum=0.1, affine=True, track_running_stats=True)\n",
              "  (dropout3): Dropout2d(p=0.3, inplace=False)\n",
              "  (maxpool): MaxPool2d(kernel_size=2, stride=2, padding=0, dilation=1, ceil_mode=False)\n",
              "  (maxpool2): MaxPool2d(kernel_size=(1, 2), stride=(1, 2), padding=0, dilation=1, ceil_mode=False)\n",
              "  (rnn): LSTM(64, 512, batch_first=True, dropout=0.3, bidirectional=True)\n",
              "  (fc1): Linear(in_features=1024, out_features=64, bias=True)\n",
              "  (fc2): Linear(in_features=1024, out_features=30, bias=True)\n",
              ")"
            ]
          },
          "metadata": {},
          "execution_count": 49
        }
      ]
    },
    {
      "cell_type": "code",
      "source": [
        "batch_size = 128\n",
        "num_epochs = 10\n",
        "\n",
        "train_loss, valid_loss, words_acc, letters_acc = train_model(train_loader, model_2, batch_size, criterion, optimizer, num_epochs, valid_loader)\n",
        "\n",
        "plt.plot(train_loss, label=\"training loss\")\n",
        "plt.plot(valid_loss,label=\"validation loss\")\n",
        "plt.legend()\n",
        "plt.show()"
      ],
      "metadata": {
        "colab": {
          "base_uri": "https://localhost:8080/",
          "height": 847
        },
        "id": "35Uhay1zBbEX",
        "outputId": "513fa5ff-1dec-4204-b4f2-e4753f61b6cc"
      },
      "execution_count": null,
      "outputs": [
        {
          "output_type": "stream",
          "name": "stdout",
          "text": [
            "{'batch': 0, 'epoch': 0, 'training loss': 29.228357315063477}\n",
            "{'batch': 30, 'epoch': 0, 'training loss': 3.1901121139526367}\n",
            "{'batch': 60, 'epoch': 0, 'training loss': 3.0650320053100586}\n",
            "{'batch': 90, 'epoch': 0, 'training loss': 2.996170997619629}\n",
            "{'batch': 120, 'epoch': 0, 'training loss': 2.8993520736694336}\n",
            "{'batch': 150, 'epoch': 0, 'training loss': 2.904078722000122}\n",
            "{'batch': 180, 'epoch': 0, 'training loss': 2.7833054065704346}\n",
            "{'batch': 210, 'epoch': 0, 'training loss': 2.5943944454193115}\n",
            "{'epoch': 0, 'training loss': 2.376741409301758, 'validation loss': 3.349875068664551, 'Words accuracy': 0.0, 'Letters accuracy': 0.007046947909722883}\n",
            "{'batch': 0, 'epoch': 1, 'training loss': 2.362942695617676}\n",
            "{'batch': 30, 'epoch': 1, 'training loss': 1.8619282245635986}\n",
            "{'batch': 60, 'epoch': 1, 'training loss': 1.4472846984863281}\n",
            "{'batch': 90, 'epoch': 1, 'training loss': 1.2615081071853638}\n",
            "{'batch': 120, 'epoch': 1, 'training loss': 0.9881378412246704}\n",
            "{'batch': 150, 'epoch': 1, 'training loss': 0.9365464448928833}\n",
            "{'batch': 180, 'epoch': 1, 'training loss': 0.6936740875244141}\n",
            "{'batch': 210, 'epoch': 1, 'training loss': 0.6406469345092773}\n",
            "{'epoch': 1, 'training loss': 0.5731723308563232, 'validation loss': 5.548420715332031, 'Words accuracy': 0.0, 'Letters accuracy': 0.007570707551661746}\n",
            "{'batch': 0, 'epoch': 2, 'training loss': 0.6951218843460083}\n",
            "{'batch': 30, 'epoch': 2, 'training loss': 0.5298107266426086}\n",
            "{'batch': 60, 'epoch': 2, 'training loss': 0.5163732767105103}\n",
            "{'batch': 90, 'epoch': 2, 'training loss': 0.4767017662525177}\n",
            "{'batch': 120, 'epoch': 2, 'training loss': 0.4332101047039032}\n",
            "{'batch': 150, 'epoch': 2, 'training loss': 0.4944388270378113}\n",
            "{'batch': 180, 'epoch': 2, 'training loss': 0.40523093938827515}\n",
            "{'batch': 210, 'epoch': 2, 'training loss': 0.4245367646217346}\n",
            "{'epoch': 2, 'training loss': 0.3939058482646942, 'validation loss': 6.179471035003662, 'Words accuracy': 0.0, 'Letters accuracy': 0.007570707551661746}\n",
            "{'batch': 0, 'epoch': 3, 'training loss': 0.3989037871360779}\n"
          ]
        },
        {
          "output_type": "error",
          "ename": "KeyboardInterrupt",
          "evalue": "",
          "traceback": [
            "\u001b[0;31m---------------------------------------------------------------------------\u001b[0m",
            "\u001b[0;31mKeyboardInterrupt\u001b[0m                         Traceback (most recent call last)",
            "\u001b[0;32m<ipython-input-50-364d56d7730a>\u001b[0m in \u001b[0;36m<cell line: 4>\u001b[0;34m()\u001b[0m\n\u001b[1;32m      2\u001b[0m \u001b[0mnum_epochs\u001b[0m \u001b[0;34m=\u001b[0m \u001b[0;36m10\u001b[0m\u001b[0;34m\u001b[0m\u001b[0;34m\u001b[0m\u001b[0m\n\u001b[1;32m      3\u001b[0m \u001b[0;34m\u001b[0m\u001b[0m\n\u001b[0;32m----> 4\u001b[0;31m \u001b[0mtrain_loss\u001b[0m\u001b[0;34m,\u001b[0m \u001b[0mvalid_loss\u001b[0m\u001b[0;34m,\u001b[0m \u001b[0mwords_acc\u001b[0m\u001b[0;34m,\u001b[0m \u001b[0mletters_acc\u001b[0m \u001b[0;34m=\u001b[0m \u001b[0mtrain_model\u001b[0m\u001b[0;34m(\u001b[0m\u001b[0mtrain_loader\u001b[0m\u001b[0;34m,\u001b[0m \u001b[0mmodel_2\u001b[0m\u001b[0;34m,\u001b[0m \u001b[0mbatch_size\u001b[0m\u001b[0;34m,\u001b[0m \u001b[0mcriterion\u001b[0m\u001b[0;34m,\u001b[0m \u001b[0moptimizer\u001b[0m\u001b[0;34m,\u001b[0m \u001b[0mnum_epochs\u001b[0m\u001b[0;34m,\u001b[0m \u001b[0mvalid_loader\u001b[0m\u001b[0;34m)\u001b[0m\u001b[0;34m\u001b[0m\u001b[0;34m\u001b[0m\u001b[0m\n\u001b[0m\u001b[1;32m      5\u001b[0m \u001b[0;34m\u001b[0m\u001b[0m\n\u001b[1;32m      6\u001b[0m \u001b[0mplt\u001b[0m\u001b[0;34m.\u001b[0m\u001b[0mplot\u001b[0m\u001b[0;34m(\u001b[0m\u001b[0mtrain_loss\u001b[0m\u001b[0;34m,\u001b[0m \u001b[0mlabel\u001b[0m\u001b[0;34m=\u001b[0m\u001b[0;34m\"training loss\"\u001b[0m\u001b[0;34m)\u001b[0m\u001b[0;34m\u001b[0m\u001b[0;34m\u001b[0m\u001b[0m\n",
            "\u001b[0;32m<ipython-input-45-6f712c0e37aa>\u001b[0m in \u001b[0;36mtrain_model\u001b[0;34m(dataloader, model, batch_size, criterion, optimizer, num_epochs, valid_loader)\u001b[0m\n\u001b[1;32m     16\u001b[0m                 \u001b[0mc_state\u001b[0m \u001b[0;34m=\u001b[0m \u001b[0mc_state\u001b[0m\u001b[0;34m.\u001b[0m\u001b[0mto\u001b[0m\u001b[0;34m(\u001b[0m\u001b[0mdevice\u001b[0m\u001b[0;34m)\u001b[0m\u001b[0;34m\u001b[0m\u001b[0;34m\u001b[0m\u001b[0m\n\u001b[1;32m     17\u001b[0m \u001b[0;34m\u001b[0m\u001b[0m\n\u001b[0;32m---> 18\u001b[0;31m             \u001b[0mx\u001b[0m \u001b[0;34m=\u001b[0m \u001b[0mx\u001b[0m\u001b[0;34m.\u001b[0m\u001b[0mto\u001b[0m\u001b[0;34m(\u001b[0m\u001b[0mdevice\u001b[0m\u001b[0;34m)\u001b[0m\u001b[0;34m\u001b[0m\u001b[0;34m\u001b[0m\u001b[0m\n\u001b[0m\u001b[1;32m     19\u001b[0m             \u001b[0my\u001b[0m \u001b[0;34m=\u001b[0m \u001b[0my\u001b[0m\u001b[0;34m.\u001b[0m\u001b[0mto\u001b[0m\u001b[0;34m(\u001b[0m\u001b[0mdevice\u001b[0m\u001b[0;34m)\u001b[0m\u001b[0;34m\u001b[0m\u001b[0;34m\u001b[0m\u001b[0m\n\u001b[1;32m     20\u001b[0m             \u001b[0moptimizer\u001b[0m\u001b[0;34m.\u001b[0m\u001b[0mzero_grad\u001b[0m\u001b[0;34m(\u001b[0m\u001b[0;34m)\u001b[0m\u001b[0;34m\u001b[0m\u001b[0;34m\u001b[0m\u001b[0m\n",
            "\u001b[0;31mKeyboardInterrupt\u001b[0m: "
          ]
        }
      ]
    },
    {
      "cell_type": "markdown",
      "source": [
        "# other tests\n"
      ],
      "metadata": {
        "id": "0jtY7r5cA093"
      }
    },
    {
      "cell_type": "code",
      "source": [
        "target = np.ones((3,4),dtype=int)*(-1)\n",
        "target[0,0] = 1\n",
        "target[0,1] = 2\n",
        "target[0,2] = 3\n",
        "target[1,0] = 1\n",
        "target[1,1] = 3\n",
        "target[2,0] = 3\n",
        "target[2,1] = 4\n",
        "target[2,2] = 5\n",
        "\n",
        "pred = np.ones((3,4),dtype=int)*(-1)\n",
        "pred[0,0] = 1\n",
        "pred[0,1] = 3\n",
        "pred[0,2] = 3\n",
        "pred[1,0] = 1\n",
        "pred[1,1] = 3\n",
        "pred[2,0] = 3\n",
        "pred[2,1] = 4\n",
        "\n",
        "print(\"--TARGET--\")\n",
        "print(target)\n",
        "print(\"--PRED--\")\n",
        "print(pred)\n",
        "\n",
        "correct_words = np.sum(np.sum((abs(target-pred)),axis=1)==0)\n",
        "correct_letters = np.sum(abs(target-pred)==0, where=(target!=-1))\n",
        "\n",
        "print((abs(target-pred)*(target!=-1)))\n",
        "\n",
        "print(correct_words)\n",
        "print(correct_letters)\n",
        "print(np.sum(target!=-1))"
      ],
      "metadata": {
        "colab": {
          "base_uri": "https://localhost:8080/"
        },
        "id": "BqKbix9I8U4_",
        "outputId": "5b2a5ce1-795f-4401-eb53-ea2eb5179eca"
      },
      "execution_count": null,
      "outputs": [
        {
          "output_type": "stream",
          "name": "stdout",
          "text": [
            "--TARGET--\n",
            "[[ 1  2  3 -1]\n",
            " [ 1  3 -1 -1]\n",
            " [ 3  4  5 -1]]\n",
            "--PRED--\n",
            "[[ 1  3  3 -1]\n",
            " [ 1  3 -1 -1]\n",
            " [ 3  4 -1 -1]]\n",
            "[[0 1 0 0]\n",
            " [0 0 0 0]\n",
            " [0 0 6 0]]\n",
            "1\n",
            "6\n",
            "8\n"
          ]
        }
      ]
    },
    {
      "cell_type": "markdown",
      "source": [
        "### Trying with GRU\n"
      ],
      "metadata": {
        "id": "oBhQLqoSVbca"
      }
    },
    {
      "cell_type": "code",
      "source": [
        "class CRNN_GRU(nn.Module):\n",
        "    def __init__(self, input_dim, hidden_dim, output_dim, n_rnn_layers, drop_prob=0.):\n",
        "        super(CRNN_GRU, self).__init__()\n",
        "        self.hidden_dim = hidden_dim\n",
        "        self.n_layers = n_rnn_layers\n",
        "\n",
        "        self.conv1 = nn.Conv2d(in_channels=1, out_channels=32, kernel_size=3, padding='same')\n",
        "        self.norm1 = nn.BatchNorm2d(32)\n",
        "        #nn.init.xavier_uniform_(self.conv1.weight)\n",
        "        nn.init.kaiming_normal_(self.conv1.weight, mode='fan_in',nonlinearity='relu')\n",
        "\n",
        "        self.conv2 = nn.Conv2d(in_channels=32, out_channels=64, kernel_size=3, padding='same')\n",
        "        self.norm2 = nn.BatchNorm2d(64)\n",
        "        #nn.init.xavier_uniform_(self.conv2.weight)\n",
        "        nn.init.kaiming_normal_(self.conv2.weight, mode='fan_in',nonlinearity='relu')\n",
        "        self.dropout2 = nn.Dropout2d(p=0.3)\n",
        "\n",
        "        self.conv3 = nn.Conv2d(in_channels=64, out_channels=128, kernel_size=3, padding='same')\n",
        "        self.norm3 = nn.BatchNorm2d(128)\n",
        "        #nn.init.xavier_uniform_(self.conv3.weight)\n",
        "        nn.init.kaiming_normal_(self.conv3.weight, mode='fan_in',nonlinearity='relu')\n",
        "        self.dropout3 = nn.Dropout2d(p=0.3)\n",
        "\n",
        "        self.maxpool = nn.MaxPool2d(kernel_size=2)\n",
        "\n",
        "        self.rnn = nn.GRU(input_dim, hidden_dim, n_rnn_layers, batch_first=True, bidirectional=True)\n",
        "        for name, param in self.rnn.named_parameters():\n",
        "          if 'weight' in name:\n",
        "            nn.init.xavier_uniform_(param)\n",
        "\n",
        "        self.fc1 = nn.Linear(32*8*128, 4096)\n",
        "        nn.init.kaiming_normal_(self.fc1.weight, mode='fan_in',nonlinearity='relu')\n",
        "\n",
        "        self.fc2 = nn.Linear(n_layers*hidden_dim, output_dim)\n",
        "        nn.init.kaiming_normal_(self.fc2.weight, mode='fan_in',nonlinearity='relu')\n",
        "\n",
        "\n",
        "    def forward(self, x, h):          # Size : b, 256, 64, 1\n",
        "        x = self.conv1(x)             # Size : b, 256, 64, 32\n",
        "        x = self.norm1(x)             # Size : b, 256, 64, 32\n",
        "        x = F.relu(x)                 # Size : b, 256, 64, 32\n",
        "        x = self.maxpool(x)           # Size : b, 128, 32, 32\n",
        "\n",
        "        x = self.conv2(x)             # Size : b, 128, 32, 64\n",
        "        x = self.norm2(x)             # Size : b, 128, 32, 64\n",
        "        x = F.relu(x)                 # Size : b, 128, 32, 64\n",
        "        x = self.maxpool(x)           # Size : b,  64, 16, 64\n",
        "        x = self.dropout2(x)\n",
        "\n",
        "        x = self.conv3(x)             # Size : b,  64, 16, 128\n",
        "        x = self.norm3(x)             # Size : b,  64, 16, 128\n",
        "        x = F.relu(x)                 # Size : b,  64, 16, 128\n",
        "        x = self.maxpool(x)           # Size : b,  32,  8, 128\n",
        "        x = self.dropout3(x)\n",
        "\n",
        "        x = x.view(-1, 32*8*128)      # Size : b,  65 536\n",
        "\n",
        "        x = self.fc1(x)               # Size : b,  4096\n",
        "        x = F.relu(x)                 # Size : b,  4096\n",
        "        x = x.reshape((x.shape[0],64,64))  # Size : b, 64, 64\n",
        "\n",
        "        x, h = self.rnn(x, h)    # Size : b, 64, 1024\n",
        "\n",
        "        x = self.fc2(x)               # Size : b, 64, 30\n",
        "        x = F.softmax(x, dim=1)\n",
        "        return x, h\n",
        "\n",
        "\n",
        "    def init_hidden(self, batch_size):\n",
        "        \" Initialize the hidden state of the RNN to zeros\"\n",
        "        hidden = nn.Parameter(torch.zeros(2*self.n_layers, batch_size, self.hidden_dim))\n",
        "        return hidden"
      ],
      "metadata": {
        "id": "EXUawS5xRgdZ"
      },
      "execution_count": null,
      "outputs": []
    },
    {
      "cell_type": "code",
      "source": [
        "def train_model_GRU(dataloader, model, batch_size, criterion, optimizer, num_epochs):\n",
        "    model.train()\n",
        "\n",
        "    losses = []\n",
        "    for epoch in range(num_epochs):\n",
        "\n",
        "        for batch, (x, y) in enumerate(dataloader):\n",
        "            state = model.init_hidden(batch_size) # Start with a new state in each batch\n",
        "            state = state.to(device)\n",
        "\n",
        "            x = x.to(device)\n",
        "            y = y.to(device)\n",
        "            optimizer.zero_grad()\n",
        "\n",
        "            y_pred, state = model(x, state)\n",
        "\n",
        "            input_lengths = torch.full(size=(batch_size,), fill_value=64, dtype=torch.long)\n",
        "            ##input_lengths = torch.sum((y_pred != 0), dim=1)\n",
        "            ##input_lengths = torch.full(size=(batch_size,), fill_value=64, dtype=torch.long)\n",
        "\n",
        "            target_lengths = torch.full(size=(batch_size,), fill_value=24, dtype=torch.long)\n",
        "            ##target_lengths = torch.randint(high=max_str_len, size=(batch_size,), dtype=torch.long)\n",
        "            ##target_lengths = torch.randint(low=1, high=max_str_len, size=(batch_size,), dtype=torch.long)\n",
        "            ##target_lengths = torch.sum((y != 0), dim=1)\n",
        "\n",
        "            y_pred = y_pred.transpose(1,0)\n",
        "\n",
        "            loss = criterion(y_pred, y, input_lengths, target_lengths) #.transpose(1, 2)\n",
        "\n",
        "            loss.backward()\n",
        "\n",
        "            # Gradient clipping\n",
        "            #nn.utils.clip_grad_norm_(model.parameters(), 1)\n",
        "            gradient_clipping(model, 0.0001, 1)\n",
        "\n",
        "            for name, param in model.named_parameters():\n",
        "              if param.grad is not None:\n",
        "                print(name, torch.mean(param.grad).item(), loss.item())\n",
        "\n",
        "            optimizer.step()\n",
        "\n",
        "            if batch%30 == 0:\n",
        "                print({ 'epoch': epoch, 'batch': batch, 'loss': loss.item() })\n",
        "                losses.append(loss.item())\n",
        "    return losses\n"
      ],
      "metadata": {
        "id": "qMubXF3QSX7h"
      },
      "execution_count": null,
      "outputs": []
    },
    {
      "cell_type": "code",
      "source": [
        "input_dim = 64\n",
        "embedding_dim = 64*64\n",
        "hidden_dim = 512\n",
        "output_dim = num_of_characters\n",
        "n_layers = 2\n",
        "drop_prob = 0\n",
        "\n",
        "torch.backends.cudnn.benchmark = True\n",
        "torch.manual_seed(0) # seed for reproductibility\n",
        "criterion = torch.nn.CTCLoss()\n",
        "\n",
        "model_GRU = CRNN_GRU(input_dim, hidden_dim, output_dim, n_layers, drop_prob).to(device)\n",
        "optimizer = optim.Adam(model_GRU.parameters(), lr=0.001) #, weight_decay=0.0001\n",
        "\n",
        "print(f\"Number of parameters {get_n_params(model_GRU)}:\")\n",
        "model_GRU.to(device)"
      ],
      "metadata": {
        "colab": {
          "base_uri": "https://localhost:8080/"
        },
        "id": "GP8NjlIKVJA8",
        "outputId": "9a5ebb15-9664-4036-ef37-10f23706b6d6"
      },
      "execution_count": null,
      "outputs": [
        {
          "output_type": "stream",
          "name": "stdout",
          "text": [
            "Number of parameters 140846046:\n"
          ]
        },
        {
          "output_type": "execute_result",
          "data": {
            "text/plain": [
              "CRNN_GRU(\n",
              "  (conv1): Conv2d(1, 32, kernel_size=(3, 3), stride=(1, 1), padding=same)\n",
              "  (norm1): BatchNorm2d(32, eps=1e-05, momentum=0.1, affine=True, track_running_stats=True)\n",
              "  (conv2): Conv2d(32, 64, kernel_size=(3, 3), stride=(1, 1), padding=same)\n",
              "  (norm2): BatchNorm2d(64, eps=1e-05, momentum=0.1, affine=True, track_running_stats=True)\n",
              "  (dropout2): Dropout2d(p=0.3, inplace=False)\n",
              "  (conv3): Conv2d(64, 128, kernel_size=(3, 3), stride=(1, 1), padding=same)\n",
              "  (norm3): BatchNorm2d(128, eps=1e-05, momentum=0.1, affine=True, track_running_stats=True)\n",
              "  (dropout3): Dropout2d(p=0.3, inplace=False)\n",
              "  (maxpool): MaxPool2d(kernel_size=2, stride=2, padding=0, dilation=1, ceil_mode=False)\n",
              "  (rnn): GRU(64, 512, num_layers=2, batch_first=True, bidirectional=True)\n",
              "  (fc1): Linear(in_features=32768, out_features=4096, bias=True)\n",
              "  (fc2): Linear(in_features=1024, out_features=30, bias=True)\n",
              ")"
            ]
          },
          "metadata": {},
          "execution_count": 33
        }
      ]
    },
    {
      "cell_type": "code",
      "source": [
        "batch_size = 128\n",
        "num_epochs = 10\n",
        "losses = {\"train\": [], \"val\": []}\n",
        "for epoch in range(10):\n",
        "    train_loss = train_model_GRU(train_loader, model_GRU, batch_size, criterion, optimizer, num_epochs)\n",
        "    val_loss = validate(criterion, model, valid_loader)\n",
        "\n",
        "    losses[\"train\"].append(train_loss)\n",
        "    losses[\"val\"].append(val_loss)\n",
        "\n",
        "    plt.plot(losses[\"train\"], label=\"training loss\")\n",
        "    plt.plot(losses[\"val\"], label=\"validation loss\")\n",
        "\n",
        "    plt.legend()\n",
        "    plt.pause(0.000001)\n",
        "    plt.show()\n",
        "\n",
        "## Gradients are vanishing"
      ],
      "metadata": {
        "colab": {
          "base_uri": "https://localhost:8080/",
          "height": 1000
        },
        "id": "gVeFyS-8TB_i",
        "outputId": "a57e9272-491c-41d9-f7ea-402df1681eb7"
      },
      "execution_count": null,
      "outputs": [
        {
          "output_type": "stream",
          "name": "stdout",
          "text": [
            "conv1.weight nan -1.8115315437316895\n",
            "conv1.bias nan -1.8115315437316895\n",
            "norm1.weight nan -1.8115315437316895\n",
            "norm1.bias nan -1.8115315437316895\n",
            "conv2.weight nan -1.8115315437316895\n",
            "conv2.bias nan -1.8115315437316895\n",
            "norm2.weight nan -1.8115315437316895\n",
            "norm2.bias nan -1.8115315437316895\n",
            "conv3.weight nan -1.8115315437316895\n",
            "conv3.bias nan -1.8115315437316895\n",
            "norm3.weight nan -1.8115315437316895\n",
            "norm3.bias nan -1.8115315437316895\n",
            "rnn.weight_ih_l0 nan -1.8115315437316895\n",
            "rnn.weight_hh_l0 nan -1.8115315437316895\n",
            "rnn.bias_ih_l0 nan -1.8115315437316895\n",
            "rnn.bias_hh_l0 nan -1.8115315437316895\n",
            "rnn.weight_ih_l0_reverse nan -1.8115315437316895\n",
            "rnn.weight_hh_l0_reverse nan -1.8115315437316895\n",
            "rnn.bias_ih_l0_reverse nan -1.8115315437316895\n",
            "rnn.bias_hh_l0_reverse nan -1.8115315437316895\n",
            "rnn.weight_ih_l1 nan -1.8115315437316895\n",
            "rnn.weight_hh_l1 nan -1.8115315437316895\n",
            "rnn.bias_ih_l1 nan -1.8115315437316895\n",
            "rnn.bias_hh_l1 nan -1.8115315437316895\n",
            "rnn.weight_ih_l1_reverse nan -1.8115315437316895\n",
            "rnn.weight_hh_l1_reverse nan -1.8115315437316895\n",
            "rnn.bias_ih_l1_reverse nan -1.8115315437316895\n",
            "rnn.bias_hh_l1_reverse nan -1.8115315437316895\n",
            "fc1.weight nan -1.8115315437316895\n",
            "fc1.bias nan -1.8115315437316895\n",
            "fc2.weight nan -1.8115315437316895\n",
            "fc2.bias nan -1.8115315437316895\n",
            "{'epoch': 0, 'batch': 0, 'loss': -1.8115315437316895}\n",
            "conv1.weight nan nan\n",
            "conv1.bias nan nan\n",
            "norm1.weight nan nan\n",
            "norm1.bias nan nan\n",
            "conv2.weight nan nan\n",
            "conv2.bias nan nan\n",
            "norm2.weight nan nan\n",
            "norm2.bias nan nan\n",
            "conv3.weight nan nan\n",
            "conv3.bias nan nan\n",
            "norm3.weight nan nan\n",
            "norm3.bias nan nan\n",
            "rnn.weight_ih_l0 nan nan\n",
            "rnn.weight_hh_l0 nan nan\n",
            "rnn.bias_ih_l0 nan nan\n",
            "rnn.bias_hh_l0 nan nan\n",
            "rnn.weight_ih_l0_reverse nan nan\n",
            "rnn.weight_hh_l0_reverse nan nan\n",
            "rnn.bias_ih_l0_reverse nan nan\n",
            "rnn.bias_hh_l0_reverse nan nan\n",
            "rnn.weight_ih_l1 nan nan\n",
            "rnn.weight_hh_l1 nan nan\n",
            "rnn.bias_ih_l1 nan nan\n",
            "rnn.bias_hh_l1 nan nan\n",
            "rnn.weight_ih_l1_reverse nan nan\n",
            "rnn.weight_hh_l1_reverse nan nan\n",
            "rnn.bias_ih_l1_reverse nan nan\n",
            "rnn.bias_hh_l1_reverse nan nan\n",
            "fc1.weight nan nan\n",
            "fc1.bias nan nan\n",
            "fc2.weight nan nan\n",
            "fc2.bias nan nan\n",
            "conv1.weight nan nan\n",
            "conv1.bias nan nan\n",
            "norm1.weight nan nan\n",
            "norm1.bias nan nan\n",
            "conv2.weight nan nan\n",
            "conv2.bias nan nan\n",
            "norm2.weight nan nan\n",
            "norm2.bias nan nan\n",
            "conv3.weight nan nan\n",
            "conv3.bias nan nan\n",
            "norm3.weight nan nan\n",
            "norm3.bias nan nan\n",
            "rnn.weight_ih_l0 nan nan\n",
            "rnn.weight_hh_l0 nan nan\n",
            "rnn.bias_ih_l0 nan nan\n",
            "rnn.bias_hh_l0 nan nan\n",
            "rnn.weight_ih_l0_reverse nan nan\n",
            "rnn.weight_hh_l0_reverse nan nan\n",
            "rnn.bias_ih_l0_reverse nan nan\n",
            "rnn.bias_hh_l0_reverse nan nan\n",
            "rnn.weight_ih_l1 nan nan\n",
            "rnn.weight_hh_l1 nan nan\n",
            "rnn.bias_ih_l1 nan nan\n",
            "rnn.bias_hh_l1 nan nan\n",
            "rnn.weight_ih_l1_reverse nan nan\n",
            "rnn.weight_hh_l1_reverse nan nan\n",
            "rnn.bias_ih_l1_reverse nan nan\n",
            "rnn.bias_hh_l1_reverse nan nan\n",
            "fc1.weight nan nan\n",
            "fc1.bias nan nan\n",
            "fc2.weight nan nan\n",
            "fc2.bias nan nan\n",
            "conv1.weight nan nan\n",
            "conv1.bias nan nan\n",
            "norm1.weight nan nan\n",
            "norm1.bias nan nan\n",
            "conv2.weight nan nan\n",
            "conv2.bias nan nan\n",
            "norm2.weight nan nan\n",
            "norm2.bias nan nan\n",
            "conv3.weight nan nan\n",
            "conv3.bias nan nan\n",
            "norm3.weight nan nan\n",
            "norm3.bias nan nan\n",
            "rnn.weight_ih_l0 nan nan\n",
            "rnn.weight_hh_l0 nan nan\n",
            "rnn.bias_ih_l0 nan nan\n",
            "rnn.bias_hh_l0 nan nan\n",
            "rnn.weight_ih_l0_reverse nan nan\n",
            "rnn.weight_hh_l0_reverse nan nan\n",
            "rnn.bias_ih_l0_reverse nan nan\n",
            "rnn.bias_hh_l0_reverse nan nan\n",
            "rnn.weight_ih_l1 nan nan\n",
            "rnn.weight_hh_l1 nan nan\n",
            "rnn.bias_ih_l1 nan nan\n",
            "rnn.bias_hh_l1 nan nan\n",
            "rnn.weight_ih_l1_reverse nan nan\n",
            "rnn.weight_hh_l1_reverse nan nan\n",
            "rnn.bias_ih_l1_reverse nan nan\n",
            "rnn.bias_hh_l1_reverse nan nan\n",
            "fc1.weight nan nan\n",
            "fc1.bias nan nan\n",
            "fc2.weight nan nan\n",
            "fc2.bias nan nan\n",
            "conv1.weight nan nan\n",
            "conv1.bias nan nan\n",
            "norm1.weight nan nan\n",
            "norm1.bias nan nan\n",
            "conv2.weight nan nan\n",
            "conv2.bias nan nan\n",
            "norm2.weight nan nan\n",
            "norm2.bias nan nan\n",
            "conv3.weight nan nan\n",
            "conv3.bias nan nan\n",
            "norm3.weight nan nan\n",
            "norm3.bias nan nan\n",
            "rnn.weight_ih_l0 nan nan\n",
            "rnn.weight_hh_l0 nan nan\n",
            "rnn.bias_ih_l0 nan nan\n",
            "rnn.bias_hh_l0 nan nan\n",
            "rnn.weight_ih_l0_reverse nan nan\n",
            "rnn.weight_hh_l0_reverse nan nan\n",
            "rnn.bias_ih_l0_reverse nan nan\n",
            "rnn.bias_hh_l0_reverse nan nan\n",
            "rnn.weight_ih_l1 nan nan\n",
            "rnn.weight_hh_l1 nan nan\n",
            "rnn.bias_ih_l1 nan nan\n",
            "rnn.bias_hh_l1 nan nan\n",
            "rnn.weight_ih_l1_reverse nan nan\n",
            "rnn.weight_hh_l1_reverse nan nan\n",
            "rnn.bias_ih_l1_reverse nan nan\n",
            "rnn.bias_hh_l1_reverse nan nan\n",
            "fc1.weight nan nan\n",
            "fc1.bias nan nan\n",
            "fc2.weight nan nan\n",
            "fc2.bias nan nan\n",
            "conv1.weight nan nan\n",
            "conv1.bias nan nan\n",
            "norm1.weight nan nan\n",
            "norm1.bias nan nan\n",
            "conv2.weight nan nan\n",
            "conv2.bias nan nan\n",
            "norm2.weight nan nan\n",
            "norm2.bias nan nan\n",
            "conv3.weight nan nan\n",
            "conv3.bias nan nan\n",
            "norm3.weight nan nan\n",
            "norm3.bias nan nan\n",
            "rnn.weight_ih_l0 nan nan\n",
            "rnn.weight_hh_l0 nan nan\n",
            "rnn.bias_ih_l0 nan nan\n",
            "rnn.bias_hh_l0 nan nan\n",
            "rnn.weight_ih_l0_reverse nan nan\n",
            "rnn.weight_hh_l0_reverse nan nan\n",
            "rnn.bias_ih_l0_reverse nan nan\n",
            "rnn.bias_hh_l0_reverse nan nan\n",
            "rnn.weight_ih_l1 nan nan\n",
            "rnn.weight_hh_l1 nan nan\n",
            "rnn.bias_ih_l1 nan nan\n",
            "rnn.bias_hh_l1 nan nan\n",
            "rnn.weight_ih_l1_reverse nan nan\n",
            "rnn.weight_hh_l1_reverse nan nan\n",
            "rnn.bias_ih_l1_reverse nan nan\n",
            "rnn.bias_hh_l1_reverse nan nan\n",
            "fc1.weight nan nan\n",
            "fc1.bias nan nan\n",
            "fc2.weight nan nan\n",
            "fc2.bias nan nan\n",
            "conv1.weight nan nan\n",
            "conv1.bias nan nan\n",
            "norm1.weight nan nan\n",
            "norm1.bias nan nan\n",
            "conv2.weight nan nan\n",
            "conv2.bias nan nan\n",
            "norm2.weight nan nan\n",
            "norm2.bias nan nan\n",
            "conv3.weight nan nan\n",
            "conv3.bias nan nan\n",
            "norm3.weight nan nan\n",
            "norm3.bias nan nan\n",
            "rnn.weight_ih_l0 nan nan\n",
            "rnn.weight_hh_l0 nan nan\n",
            "rnn.bias_ih_l0 nan nan\n",
            "rnn.bias_hh_l0 nan nan\n",
            "rnn.weight_ih_l0_reverse nan nan\n",
            "rnn.weight_hh_l0_reverse nan nan\n",
            "rnn.bias_ih_l0_reverse nan nan\n",
            "rnn.bias_hh_l0_reverse nan nan\n",
            "rnn.weight_ih_l1 nan nan\n",
            "rnn.weight_hh_l1 nan nan\n",
            "rnn.bias_ih_l1 nan nan\n",
            "rnn.bias_hh_l1 nan nan\n",
            "rnn.weight_ih_l1_reverse nan nan\n",
            "rnn.weight_hh_l1_reverse nan nan\n",
            "rnn.bias_ih_l1_reverse nan nan\n"
          ]
        },
        {
          "output_type": "error",
          "ename": "KeyboardInterrupt",
          "evalue": "",
          "traceback": [
            "\u001b[0;31m---------------------------------------------------------------------------\u001b[0m",
            "\u001b[0;31mKeyboardInterrupt\u001b[0m                         Traceback (most recent call last)",
            "\u001b[0;32m<ipython-input-34-4555ecb6b7ad>\u001b[0m in \u001b[0;36m<cell line: 4>\u001b[0;34m()\u001b[0m\n\u001b[1;32m      3\u001b[0m \u001b[0mlosses\u001b[0m \u001b[0;34m=\u001b[0m \u001b[0;34m{\u001b[0m\u001b[0;34m\"train\"\u001b[0m\u001b[0;34m:\u001b[0m \u001b[0;34m[\u001b[0m\u001b[0;34m]\u001b[0m\u001b[0;34m,\u001b[0m \u001b[0;34m\"val\"\u001b[0m\u001b[0;34m:\u001b[0m \u001b[0;34m[\u001b[0m\u001b[0;34m]\u001b[0m\u001b[0;34m}\u001b[0m\u001b[0;34m\u001b[0m\u001b[0;34m\u001b[0m\u001b[0m\n\u001b[1;32m      4\u001b[0m \u001b[0;32mfor\u001b[0m \u001b[0mepoch\u001b[0m \u001b[0;32min\u001b[0m \u001b[0mrange\u001b[0m\u001b[0;34m(\u001b[0m\u001b[0;36m10\u001b[0m\u001b[0;34m)\u001b[0m\u001b[0;34m:\u001b[0m\u001b[0;34m\u001b[0m\u001b[0;34m\u001b[0m\u001b[0m\n\u001b[0;32m----> 5\u001b[0;31m     \u001b[0mtrain_loss\u001b[0m \u001b[0;34m=\u001b[0m \u001b[0mtrain_model_GRU\u001b[0m\u001b[0;34m(\u001b[0m\u001b[0mtrain_loader\u001b[0m\u001b[0;34m,\u001b[0m \u001b[0mmodel_GRU\u001b[0m\u001b[0;34m,\u001b[0m \u001b[0mbatch_size\u001b[0m\u001b[0;34m,\u001b[0m \u001b[0mcriterion\u001b[0m\u001b[0;34m,\u001b[0m \u001b[0moptimizer\u001b[0m\u001b[0;34m,\u001b[0m \u001b[0mnum_epochs\u001b[0m\u001b[0;34m)\u001b[0m\u001b[0;34m\u001b[0m\u001b[0;34m\u001b[0m\u001b[0m\n\u001b[0m\u001b[1;32m      6\u001b[0m     \u001b[0mval_loss\u001b[0m \u001b[0;34m=\u001b[0m \u001b[0mvalidate\u001b[0m\u001b[0;34m(\u001b[0m\u001b[0mcriterion\u001b[0m\u001b[0;34m,\u001b[0m \u001b[0mmodel\u001b[0m\u001b[0;34m,\u001b[0m \u001b[0mvalid_loader\u001b[0m\u001b[0;34m)\u001b[0m\u001b[0;34m\u001b[0m\u001b[0;34m\u001b[0m\u001b[0m\n\u001b[1;32m      7\u001b[0m \u001b[0;34m\u001b[0m\u001b[0m\n",
            "\u001b[0;32m<ipython-input-30-4e5852898637>\u001b[0m in \u001b[0;36mtrain_model_GRU\u001b[0;34m(dataloader, model, batch_size, criterion, optimizer, num_epochs)\u001b[0m\n\u001b[1;32m     36\u001b[0m             \u001b[0;32mfor\u001b[0m \u001b[0mname\u001b[0m\u001b[0;34m,\u001b[0m \u001b[0mparam\u001b[0m \u001b[0;32min\u001b[0m \u001b[0mmodel\u001b[0m\u001b[0;34m.\u001b[0m\u001b[0mnamed_parameters\u001b[0m\u001b[0;34m(\u001b[0m\u001b[0;34m)\u001b[0m\u001b[0;34m:\u001b[0m\u001b[0;34m\u001b[0m\u001b[0;34m\u001b[0m\u001b[0m\n\u001b[1;32m     37\u001b[0m               \u001b[0;32mif\u001b[0m \u001b[0mparam\u001b[0m\u001b[0;34m.\u001b[0m\u001b[0mgrad\u001b[0m \u001b[0;32mis\u001b[0m \u001b[0;32mnot\u001b[0m \u001b[0;32mNone\u001b[0m\u001b[0;34m:\u001b[0m\u001b[0;34m\u001b[0m\u001b[0;34m\u001b[0m\u001b[0m\n\u001b[0;32m---> 38\u001b[0;31m                 \u001b[0mprint\u001b[0m\u001b[0;34m(\u001b[0m\u001b[0mname\u001b[0m\u001b[0;34m,\u001b[0m \u001b[0mtorch\u001b[0m\u001b[0;34m.\u001b[0m\u001b[0mmean\u001b[0m\u001b[0;34m(\u001b[0m\u001b[0mparam\u001b[0m\u001b[0;34m.\u001b[0m\u001b[0mgrad\u001b[0m\u001b[0;34m)\u001b[0m\u001b[0;34m.\u001b[0m\u001b[0mitem\u001b[0m\u001b[0;34m(\u001b[0m\u001b[0;34m)\u001b[0m\u001b[0;34m,\u001b[0m \u001b[0mloss\u001b[0m\u001b[0;34m.\u001b[0m\u001b[0mitem\u001b[0m\u001b[0;34m(\u001b[0m\u001b[0;34m)\u001b[0m\u001b[0;34m)\u001b[0m\u001b[0;34m\u001b[0m\u001b[0;34m\u001b[0m\u001b[0m\n\u001b[0m\u001b[1;32m     39\u001b[0m \u001b[0;34m\u001b[0m\u001b[0m\n\u001b[1;32m     40\u001b[0m             \u001b[0moptimizer\u001b[0m\u001b[0;34m.\u001b[0m\u001b[0mstep\u001b[0m\u001b[0;34m(\u001b[0m\u001b[0;34m)\u001b[0m\u001b[0;34m\u001b[0m\u001b[0;34m\u001b[0m\u001b[0m\n",
            "\u001b[0;31mKeyboardInterrupt\u001b[0m: "
          ]
        }
      ]
    },
    {
      "cell_type": "markdown",
      "source": [
        "## Convolutional Variational auto encoder"
      ],
      "metadata": {
        "id": "-jHu-H87bmnt"
      }
    },
    {
      "cell_type": "code",
      "source": [
        "class VAE(nn.Module):\n",
        "    def __init__(self):\n",
        "        super(VAE, self).__init__()\n",
        "                                                                                               # Size : b, 256, 64, 1\n",
        "        self.conv1 = nn.Conv2d(in_channels=1, out_channels=32, kernel_size=3, padding=1)  # Size : b, 256, 64, 32\n",
        "        self.norm1 = nn.BatchNorm2d(32)                                                        # Size : b, 128, 32, 32\n",
        "\n",
        "        self.conv2 = nn.Conv2d(in_channels=32, out_channels=64, kernel_size=3, padding=1) # Size : b, 128, 32, 64\n",
        "        self.norm2 = nn.BatchNorm2d(64)                                                        # Size : b,  64, 16, 64\n",
        "\n",
        "        self.conv3 = nn.Conv2d(in_channels=64, out_channels=128, kernel_size=3, padding=1) # Size : b, 64, 16, 128\n",
        "        self.norm3 = nn.BatchNorm2d(128)                                                        # Size : b,  32,  8, 128\n",
        "\n",
        "        self.maxpool = nn.MaxPool2d(kernel_size=2, return_indices=True)\n",
        "\n",
        "        self.fc1 = nn.Linear(32*8*128, 4096)           # Size : b, 4096\n",
        "        self.fc21 = nn.Linear(4096, 100)               # Size : b,  100\n",
        "        self.fc22 = nn.Linear(4096, 100)               # Size : b,  100\n",
        "\n",
        "        self.fc3 = nn.Linear(100,4096)                 # Size : b, 4096\n",
        "        self.fc4 = nn.Linear(4096, 32*8*128)           # Size : b, 32*8*128\n",
        "                                                       # Size : b, 32, 8, 128\n",
        "\n",
        "        self.unpool = nn.MaxUnpool2d(2)                                         # Size : b, 64, 16, 128\n",
        "        self.unconv1 = nn.ConvTranspose2d(128, 64, 3, padding=1)           # Size : b, 64, 16,  64\n",
        "                                                                                # Size : b, 128, 32, 64\n",
        "        self.unconv2 = nn.ConvTranspose2d(64, 32, 3, padding=1)            # Size : b, 128, 32, 32\n",
        "                                                                                # Size : b, 256, 64, 32\n",
        "        self.unconv3 = nn.ConvTranspose2d(32, 1, 3, padding=1)             # Size : b, 256, 64,  1\n",
        "\n",
        "\n",
        "\n",
        "\n",
        "    def encode(self, x):              # Size : b, 256, 64,  1\n",
        "        x = self.conv1(x)             # Size : b, 256, 64, 32\n",
        "        x = self.norm1(x)             # Size : b, 256, 64, 32\n",
        "        x = F.relu(x)                                # Size : b, 256, 64, 32\n",
        "        x, self.indices1 = self.maxpool(x)           # Size : b, 128, 32, 32\n",
        "\n",
        "        x = self.conv2(x)             # Size : b, 128, 32, 64\n",
        "        x = self.norm2(x)             # Size : b, 128, 32, 64\n",
        "        x = F.relu(x)                                # Size : b, 128, 32, 64\n",
        "        x, self.indices2 = self.maxpool(x)           # Size : b,  64, 16, 64\n",
        "\n",
        "        x = self.conv3(x)             # Size : b,  64, 16, 128\n",
        "        x = self.norm3(x)             # Size : b,  64, 16, 128\n",
        "        x = F.relu(x)                                # Size : b,  64, 16, 128\n",
        "        x, self.indices3 = self.maxpool(x)           # Size : b,  32,  8, 128\n",
        "\n",
        "        x = x.view(-1, 32*8*128)      # Size : b,  65 536\n",
        "        x = self.fc1(x)               # Size : b,  4096\n",
        "        x = F.relu(x)                 # Size : b,  4096\n",
        "\n",
        "        return self.fc21(x), self.fc22(x)\n",
        "\n",
        "    def reparametrize(self, mu, logvar):\n",
        "        std = torch.exp(0.5 * logvar)\n",
        "        if torch.cuda.is_available():\n",
        "            eps = torch.cuda.FloatTensor(std.size()).normal_()\n",
        "        else:\n",
        "            eps = torch.FloatTensor(std.size()).normal_()\n",
        "        return mu + eps * std\n",
        "\n",
        "    def decode(self, z):                # Size : b,  100\n",
        "        z = self.fc3(z)                 # Size : b, 4096\n",
        "        z = F.relu(z)                   # Size : b, 4096\n",
        "\n",
        "        z = self.fc4(z)                 # Size : b, 32*8*128\n",
        "        z = F.relu(z)                   # Size : b, 32*8*128\n",
        "\n",
        "        z = z.reshape((z.shape[0],128, 32, 8))  # Size : b, 128, 32, 8\n",
        "\n",
        "        z = self.unpool(z,self.indices3) # Size : b, 128, 64, 16\n",
        "        z = F.relu(self.unconv1(z))      # Size : b, 64, 64, 16\n",
        "\n",
        "        z = self.unpool(z,self.indices2) # Size : b, 64, 128, 32\n",
        "        z = F.relu(self.unconv2(z))      # Size : b, 32, 128, 32\n",
        "\n",
        "        z = self.unpool(z,self.indices1)   # Size : b, 32, 256, 64\n",
        "        z = torch.sigmoid(self.unconv3(z)) # Size : b,  1, 256, 64\n",
        "\n",
        "        return z\n",
        "\n",
        "    def forward(self, x):\n",
        "        mu, logvar = self.encode(x)\n",
        "        z = self.reparametrize(mu, logvar)\n",
        "        return self.decode(z), mu, logvar"
      ],
      "metadata": {
        "id": "zxkpUf5Ubuug"
      },
      "execution_count": null,
      "outputs": []
    },
    {
      "cell_type": "code",
      "source": [
        "def loss_function(recon_x, x, mu, logvar):\n",
        "    \"\"\"\n",
        "    recon_x: generated images\n",
        "    x:       input images\n",
        "    mu:      latent mean\n",
        "    logvar:  latent log variance\n",
        "    \"\"\"\n",
        "    # Reconstruction term\n",
        "    recLoss = nn.MSELoss(reduction='sum')\n",
        "\n",
        "    # KL divergence regularisation term\n",
        "    # KLD loss = 0.5 * sum(1 + log(sigma^2) - mu^2 - sigma^2)\n",
        "    # Below is the same expression but using logvar instead of sigma. Remember that logvar = log(sigma^2)\n",
        "    KLD = -0.5 * torch.sum(1 + logvar - mu.pow(2) - logvar.exp())\n",
        "\n",
        "    return recLoss(recon_x, x) + KLD"
      ],
      "metadata": {
        "id": "J7jdLshrj5Fz"
      },
      "execution_count": null,
      "outputs": []
    },
    {
      "cell_type": "code",
      "source": [
        "device = torch.device(\"cuda\" if torch.cuda.is_available() else \"cpu\")\n",
        "\n",
        "model = VAE().to(device)\n",
        "\n",
        "# create an optimizer object\n",
        "optimizer = torch.optim.Adam(model.parameters(), lr=1e-3)\n",
        "\n",
        "criterion = loss_function"
      ],
      "metadata": {
        "id": "WRpT962uj_IT"
      },
      "execution_count": null,
      "outputs": []
    },
    {
      "cell_type": "code",
      "source": [
        "def train_vae(model, loader, optimizer, criterion):\n",
        "    loss = 0\n",
        "    model.train()\n",
        "\n",
        "    for batch_features, _ in loader:\n",
        "        # load it to the active device\n",
        "        batch_features = batch_features.to(device)\n",
        "\n",
        "        # reset the gradients back to zero\n",
        "        # PyTorch accumulates gradients on subsequent backward passes\n",
        "        optimizer.zero_grad()\n",
        "\n",
        "        # compute reconstructions as well as the embeddings (we need them for the loss)\n",
        "        outputs, mu, logvar = model(batch_features)\n",
        "\n",
        "        # compute training reconstruction loss\n",
        "        train_loss = criterion(outputs, batch_features, mu, logvar)\n",
        "\n",
        "        # compute accumulated gradients\n",
        "        train_loss.backward()\n",
        "\n",
        "        # perform parameter update based on current gradients\n",
        "        optimizer.step()\n",
        "\n",
        "        # add the mini-batch training loss to epoch loss\n",
        "        loss += train_loss.item()\n",
        "\n",
        "    # compute the epoch training loss\n",
        "    loss = loss / len(loader)\n",
        "    print(\"epoch : {}/{}, Train loss = {:.6f}\".format(epoch + 1, epochs, loss))"
      ],
      "metadata": {
        "id": "jXfoLWOtkEl3"
      },
      "execution_count": null,
      "outputs": []
    },
    {
      "cell_type": "code",
      "source": [
        "def show_image(img):\n",
        "    #img = img.clamp(0, 1) # Ensure that the range of greyscales is between 0 and 1\n",
        "    npimg = img.numpy()   # Convert to NumPy\n",
        "    npimg = np.transpose(npimg, (2, 1, 0))   # Change the order to (W, H, C)\n",
        "    plt.imshow(img)\n",
        "    plt.show()"
      ],
      "metadata": {
        "id": "5HK11hchlJnR"
      },
      "execution_count": null,
      "outputs": []
    },
    {
      "cell_type": "code",
      "source": [
        "def test_vae(model, loader, criterion):\n",
        "    loss = 0\n",
        "    model.eval()\n",
        "\n",
        "    for batch_features, _ in loader:\n",
        "        batch_features = batch_features.to(device)\n",
        "\n",
        "        with torch.no_grad():\n",
        "            outputs, mu, logvar = model(batch_features)\n",
        "\n",
        "        # compute training reconstruction loss\n",
        "        test_loss = criterion(outputs, batch_features, mu, logvar)\n",
        "\n",
        "        # add the mini-batch training loss to epoch loss\n",
        "        loss += test_loss.item()\n",
        "\n",
        "    # compute the epoch test loss\n",
        "    loss = loss / len(loader)\n",
        "\n",
        "    # display the epoch training loss\n",
        "    print(\"epoch : {}/{}, Test loss = {:.6f}\".format(epoch + 1, epochs, loss))\n",
        "    print(batch_features.shape)\n",
        "    #show_image(make_grid(batch_features.detach().cpu().view(-1, 1, 256, 64).transpose(2, 3), nrow=2))\n",
        "    #show_image(make_grid(outputs.detach().cpu().view(-1, 1, 256, 64).transpose(2, 3), nrow=2))"
      ],
      "metadata": {
        "id": "HDlvZIwekHLe"
      },
      "execution_count": null,
      "outputs": []
    },
    {
      "cell_type": "code",
      "source": [
        "epochs=10\n",
        "for epoch in range(epochs):\n",
        "    train_vae(model, train_loader, optimizer, criterion)\n",
        "    test_vae(model, valid_loader, criterion)"
      ],
      "metadata": {
        "id": "tP7i7-lPkK4R"
      },
      "execution_count": null,
      "outputs": []
    },
    {
      "cell_type": "code",
      "source": [
        "\n",
        "model.eval()\n",
        "\n",
        "with torch.no_grad():\n",
        "\n",
        "    # sample latent vectors from the normal distribution\n",
        "    latent = torch.randn(56, 100, device=device)\n",
        "\n",
        "    # reconstruct images from the latent vectors\n",
        "    img_recon = model.decode(latent)\n",
        "    img_recon = img_recon.cpu()\n",
        "    img_recon = img_recon.view(-1, 1, 256, 64)\n",
        "    print(img_recon.shape)\n",
        "    img_recon = img_recon[0:3, :, :, :]\n",
        "    print(img_recon.shape)\n",
        "    img_recon = img_recon.reshape(3,256, 64)\n",
        "    print(img_recon.shape)\n",
        "    #img_recon = img_recon.transpose(-1,2,1)\n",
        "\n",
        "\n",
        "    img_recon = img_recon.clamp(0, 1)\n",
        "    plt.subplot(3,1,1)\n",
        "    plt.imshow(img_recon[0,:,:].transpose(1,0))\n",
        "    plt.subplot(3,1,2)\n",
        "    plt.imshow(img_recon[1,:,:].transpose(1,0))\n",
        "    plt.subplot(3,1,3)\n",
        "    plt.imshow(img_recon[2,:,:].transpose(1,0))\n",
        "    plt.show()"
      ],
      "metadata": {
        "id": "f8IndsTA20vB"
      },
      "execution_count": null,
      "outputs": []
    }
  ]
}